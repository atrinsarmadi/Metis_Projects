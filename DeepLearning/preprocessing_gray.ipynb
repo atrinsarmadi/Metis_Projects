{
 "cells": [
  {
   "cell_type": "code",
   "execution_count": 1,
   "id": "db00bd9b",
   "metadata": {},
   "outputs": [],
   "source": [
    "import numpy as np\n",
    "import h5py\n",
    "import cv2"
   ]
  },
  {
   "cell_type": "markdown",
   "id": "a78d15d9",
   "metadata": {},
   "source": [
    "## Open File"
   ]
  },
  {
   "cell_type": "code",
   "execution_count": 3,
   "id": "226df08f",
   "metadata": {},
   "outputs": [],
   "source": [
    "with h5py.File('dataset_ts.hdf5', 'r') as f:\n",
    "    # Extracting saved arrays for training by appropriate keys\n",
    "    # Saving them into new variables\n",
    "    x_train = f['x_train']  # HDF5 dataset\n",
    "    y_train = f['y_train']  # HDF5 dataset\n",
    "    # Converting them into Numpy arrays\n",
    "    x_train = np.array(x_train)  # Numpy arrays\n",
    "    y_train = np.array(y_train)  # Numpy arrays\n",
    "\n",
    "    # Extracting saved arrays for validation by appropriate keys\n",
    "    # Saving them into new variables\n",
    "    x_validation = f['x_validation']  # HDF5 dataset\n",
    "    y_validation = f['y_validation']  # HDF5 dataset\n",
    "    # Converting them into Numpy arrays\n",
    "    x_validation = np.array(x_validation)  # Numpy arrays\n",
    "    y_validation = np.array(y_validation)  # Numpy arrays\n",
    "\n",
    "    # Extracting saved arrays for testing by appropriate keys\n",
    "    # Saving them into new variables\n",
    "    x_test = f['x_test']  # HDF5 dataset\n",
    "    y_test = f['y_test']  # HDF5 dataset\n",
    "    # Converting them into Numpy arrays\n",
    "    x_test = np.array(x_test)  # Numpy arrays\n",
    "    y_test = np.array(y_test)  # Numpy arrays"
   ]
  },
  {
   "cell_type": "markdown",
   "id": "1af5e3b1",
   "metadata": {},
   "source": [
    "## Generate gray images from RGB"
   ]
  },
  {
   "cell_type": "code",
   "execution_count": 4,
   "id": "81e3b2b5",
   "metadata": {},
   "outputs": [],
   "source": [
    "# Converting all images to GRAY by OpenCV function\n",
    "x_train = np.array(list(map(lambda x: cv2.cvtColor(x, cv2.COLOR_RGB2GRAY), x_train)))\n",
    "x_validation = np.array(list(map(lambda x: cv2.cvtColor(x, cv2.COLOR_RGB2GRAY), x_validation)))\n",
    "x_test = np.array(list(map(lambda x: cv2.cvtColor(x, cv2.COLOR_RGB2GRAY), x_test)))\n",
    "\n",
    "# Extending dimension from (n, height, width) to (n, height, width, one channel)\n",
    "x_train = x_train[:, :, :, np.newaxis]\n",
    "x_validation = x_validation[:, :, :, np.newaxis]\n",
    "x_test = x_test[:, :, :, np.newaxis]"
   ]
  },
  {
   "cell_type": "code",
   "execution_count": 6,
   "id": "b3530bf2",
   "metadata": {},
   "outputs": [
    {
     "name": "stdout",
     "output_type": "stream",
     "text": [
      "Numpy arrays of Custom Dataset\n",
      "(36288, 48, 48, 1)\n",
      "(12440, 48, 48, 1)\n",
      "(3111, 48, 48, 1)\n",
      "\n"
     ]
    }
   ],
   "source": [
    "# Check point\n",
    "# Showing shapes of Numpy arrays with RGB images\n",
    "print('Numpy arrays of Custom Dataset')\n",
    "print(x_train.shape)\n",
    "print(x_validation.shape)\n",
    "print(x_test.shape)\n",
    "print()"
   ]
  },
  {
   "cell_type": "markdown",
   "id": "72fb568d",
   "metadata": {},
   "source": [
    "## Preprocessing technique: Normalizing image pixels"
   ]
  },
  {
   "cell_type": "code",
   "execution_count": 7,
   "id": "2e462ba2",
   "metadata": {},
   "outputs": [],
   "source": [
    "# Implementing normalization by dividing images pixels on 255.0\n",
    "# Purpose: to make computation more efficient by reducing values between 0 and 1\n",
    "x_train_255 = x_train / 255.0\n",
    "x_validation_255 = x_validation / 255.0\n",
    "x_test_255 = x_test / 255.0"
   ]
  },
  {
   "cell_type": "markdown",
   "id": "3487dabb",
   "metadata": {},
   "source": [
    "## Write into a new file"
   ]
  },
  {
   "cell_type": "code",
   "execution_count": 8,
   "id": "68e01e3c",
   "metadata": {},
   "outputs": [],
   "source": [
    "with h5py.File('dataset_custom_gray_255.hdf5', 'w') as f:\n",
    "    # Calling methods to create datasets of given shapes and types\n",
    "    # Saving Numpy arrays for training\n",
    "    f.create_dataset('x_train', data=x_train_255, dtype='f')\n",
    "    f.create_dataset('y_train', data=y_train, dtype='i')\n",
    "\n",
    "    # Saving Numpy arrays for validation\n",
    "    f.create_dataset('x_validation', data=x_validation_255, dtype='f')\n",
    "    f.create_dataset('y_validation', data=y_validation, dtype='i')\n",
    "\n",
    "    # Saving Numpy arrays for testing\n",
    "    f.create_dataset('x_test', data=x_test_255, dtype='f')\n",
    "    f.create_dataset('y_test', data=y_test, dtype='i')"
   ]
  },
  {
   "cell_type": "markdown",
   "id": "0ee69990",
   "metadata": {},
   "source": [
    "## Center around 0"
   ]
  },
  {
   "cell_type": "code",
   "execution_count": 9,
   "id": "cefc332d",
   "metadata": {},
   "outputs": [],
   "source": [
    "# Calculating Mean Image from training dataset\n",
    "# (!) We calculate Mean Image only from training dataset\n",
    "# And apply it to all sub-datasets\n",
    "mean_gray_dataset_custom = np.mean(x_train_255, axis=0)  # (64, 64, 1)\n",
    "\n",
    "# Implementing normalization by subtracting Mean Image\n",
    "# Purpose: to centralize the data dispersion around zero, that, in turn,\n",
    "# is needed for training with respect to learnability and accuracy\n",
    "# The images themselves are no longer interpretable to human eyes\n",
    "# Pixels' values are now in some range (from negative to positive),\n",
    "# where the mean lies at zero\n",
    "x_train_255_mean = x_train_255 - mean_gray_dataset_custom\n",
    "x_validation_255_mean = x_validation_255 - mean_gray_dataset_custom\n",
    "x_test_255_mean = x_test_255 - mean_gray_dataset_custom"
   ]
  },
  {
   "cell_type": "code",
   "execution_count": 11,
   "id": "d63af6c1",
   "metadata": {},
   "outputs": [],
   "source": [
    "with h5py.File('mean_gray_dataset_custom.hdf5', 'w') as f:\n",
    "    # Calling methods to create datasets of given shapes and types\n",
    "    # Saving Numpy array for Mean Image\n",
    "    f.create_dataset('mean', data=mean_gray_dataset_custom, dtype='f')"
   ]
  },
  {
   "cell_type": "code",
   "execution_count": 12,
   "id": "99418b4e",
   "metadata": {},
   "outputs": [],
   "source": [
    "with h5py.File('dataset_custom_gray_255_mean.hdf5', 'w') as f:\n",
    "    # Calling methods to create datasets of given shapes and types\n",
    "    # Saving Numpy arrays for training\n",
    "    f.create_dataset('x_train', data=x_train_255_mean, dtype='f')\n",
    "    f.create_dataset('y_train', data=y_train, dtype='i')\n",
    "\n",
    "    # Saving Numpy arrays for validation\n",
    "    f.create_dataset('x_validation', data=x_validation_255_mean, dtype='f')\n",
    "    f.create_dataset('y_validation', data=y_validation, dtype='i')\n",
    "\n",
    "    # Saving Numpy arrays for testing\n",
    "    f.create_dataset('x_test', data=x_test_255_mean, dtype='f')\n",
    "    f.create_dataset('y_test', data=y_test, dtype='i')"
   ]
  },
  {
   "cell_type": "markdown",
   "id": "b8f7618c",
   "metadata": {},
   "source": [
    "## Divide by SD"
   ]
  },
  {
   "cell_type": "code",
   "execution_count": 13,
   "id": "2b34ba8c",
   "metadata": {},
   "outputs": [],
   "source": [
    "# Calculating Standard Deviation from training dataset\n",
    "# (!) We calculate Standard Deviation only from training dataset\n",
    "# And apply it to all sub-datasets\n",
    "std_gray_dataset_custom = np.std(x_train_255_mean, axis=0)  # (64, 64, 1)\n",
    "\n",
    "# Implementing preprocessing by dividing on Standard Deviation\n",
    "# Purpose: to scale pixels' values to a smaller range, that, in turn,\n",
    "# is needed for training with respect to learnability and accuracy\n",
    "x_train_255_mean_std = x_train_255_mean / std_gray_dataset_custom\n",
    "x_validation_255_mean_std = x_validation_255_mean / std_gray_dataset_custom\n",
    "x_test_255_mean_std = x_test_255_mean / std_gray_dataset_custom"
   ]
  },
  {
   "cell_type": "code",
   "execution_count": 14,
   "id": "5f09e93c",
   "metadata": {},
   "outputs": [],
   "source": [
    "with h5py.File('std_gray_dataset_custom.hdf5', 'w') as f:\n",
    "    # Calling methods to create datasets of given shapes and types\n",
    "    # Saving Numpy array for Mean Image\n",
    "    f.create_dataset('std', data=std_gray_dataset_custom, dtype='f')"
   ]
  },
  {
   "cell_type": "code",
   "execution_count": 15,
   "id": "a4594180",
   "metadata": {},
   "outputs": [],
   "source": [
    "with h5py.File('dataset_custom_gray_255_mean_std.hdf5', 'w') \\\n",
    "        as f:\n",
    "    # Calling methods to create datasets of given shapes and types\n",
    "    # Saving Numpy arrays for training\n",
    "    f.create_dataset('x_train', data=x_train_255_mean_std, dtype='f')\n",
    "    f.create_dataset('y_train', data=y_train, dtype='i')\n",
    "\n",
    "    # Saving Numpy arrays for validation\n",
    "    f.create_dataset('x_validation', data=x_validation_255_mean_std, dtype='f')\n",
    "    f.create_dataset('y_validation', data=y_validation, dtype='i')\n",
    "\n",
    "    # Saving Numpy arrays for testing\n",
    "    f.create_dataset('x_test', data=x_test_255_mean_std, dtype='f')\n",
    "    f.create_dataset('y_test', data=y_test, dtype='i')\n",
    "\n"
   ]
  },
  {
   "cell_type": "code",
   "execution_count": 16,
   "id": "7dcc0f06",
   "metadata": {},
   "outputs": [
    {
     "name": "stdout",
     "output_type": "stream",
     "text": [
      "Original:             [0.11332157 0.11724313 0.12508628 0.13013725 0.13288628]\n",
      "- Mean Image:         [-0.22365505 -0.2196837  -0.21184957 -0.20679532 -0.20444526]\n",
      "/ Standard Deviation: [-0.7563406 -0.7454593 -0.719396  -0.7018096 -0.6928362]\n",
      "\n",
      "Mean Image:           [0.33697662 0.33692685 0.33693585 0.33693257 0.33733153]\n",
      "Standard Deviation:   [0.29570678 0.29469576 0.29448256 0.29466015 0.29508454]\n",
      "\n"
     ]
    }
   ],
   "source": [
    "# Check point\n",
    "# Printing some values from matrices\n",
    "print('Original:            ', x_train_255[0, 0, :5, 0])\n",
    "print('- Mean Image:        ', x_train_255_mean[0, 0, :5, 0])\n",
    "print('/ Standard Deviation:', x_train_255_mean_std[0, 0, :5, 0])\n",
    "print()\n",
    "\n",
    "# Check point\n",
    "# Printing some values of Mean Image and Standard Deviation\n",
    "print('Mean Image:          ', mean_gray_dataset_custom[0, :5, 0])\n",
    "print('Standard Deviation:  ', std_gray_dataset_custom[0, :5, 0])\n",
    "print()"
   ]
  },
  {
   "cell_type": "code",
   "execution_count": null,
   "id": "7f528f62",
   "metadata": {},
   "outputs": [],
   "source": []
  }
 ],
 "metadata": {
  "kernelspec": {
   "display_name": "Python [conda env:metis] *",
   "language": "python",
   "name": "conda-env-metis-py"
  },
  "language_info": {
   "codemirror_mode": {
    "name": "ipython",
    "version": 3
   },
   "file_extension": ".py",
   "mimetype": "text/x-python",
   "name": "python",
   "nbconvert_exporter": "python",
   "pygments_lexer": "ipython3",
   "version": "3.8.10"
  }
 },
 "nbformat": 4,
 "nbformat_minor": 5
}
