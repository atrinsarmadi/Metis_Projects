{
 "cells": [
  {
   "cell_type": "code",
   "execution_count": 1,
   "id": "db00bd9b",
   "metadata": {},
   "outputs": [],
   "source": [
    "import numpy as np\n",
    "import h5py"
   ]
  },
  {
   "cell_type": "markdown",
   "id": "a78d15d9",
   "metadata": {},
   "source": [
    "## Open File"
   ]
  },
  {
   "cell_type": "code",
   "execution_count": 2,
   "id": "226df08f",
   "metadata": {},
   "outputs": [],
   "source": [
    "with h5py.File('dataset_ts.hdf5', 'r') as f:\n",
    "    # Extracting saved arrays for training by appropriate keys\n",
    "    # Saving them into new variables\n",
    "    x_train = f['x_train']  # HDF5 dataset\n",
    "    y_train = f['y_train']  # HDF5 dataset\n",
    "    # Converting them into Numpy arrays\n",
    "    x_train = np.array(x_train)  # Numpy arrays\n",
    "    y_train = np.array(y_train)  # Numpy arrays\n",
    "\n",
    "    # Extracting saved arrays for validation by appropriate keys\n",
    "    # Saving them into new variables\n",
    "    x_validation = f['x_validation']  # HDF5 dataset\n",
    "    y_validation = f['y_validation']  # HDF5 dataset\n",
    "    # Converting them into Numpy arrays\n",
    "    x_validation = np.array(x_validation)  # Numpy arrays\n",
    "    y_validation = np.array(y_validation)  # Numpy arrays\n",
    "\n",
    "    # Extracting saved arrays for testing by appropriate keys\n",
    "    # Saving them into new variables\n",
    "    x_test = f['x_test']  # HDF5 dataset\n",
    "    y_test = f['y_test']  # HDF5 dataset\n",
    "    # Converting them into Numpy arrays\n",
    "    x_test = np.array(x_test)  # Numpy arrays\n",
    "    y_test = np.array(y_test)  # Numpy arrays"
   ]
  },
  {
   "cell_type": "code",
   "execution_count": 3,
   "id": "b3530bf2",
   "metadata": {},
   "outputs": [
    {
     "name": "stdout",
     "output_type": "stream",
     "text": [
      "Numpy arrays of Custom Dataset\n",
      "(36288, 48, 48, 3)\n",
      "(12440, 48, 48, 3)\n",
      "(3111, 48, 48, 3)\n",
      "\n"
     ]
    }
   ],
   "source": [
    "# Check point\n",
    "# Showing shapes of Numpy arrays with RGB images\n",
    "print('Numpy arrays of Custom Dataset')\n",
    "print(x_train.shape)\n",
    "print(x_validation.shape)\n",
    "print(x_test.shape)\n",
    "print()"
   ]
  },
  {
   "cell_type": "markdown",
   "id": "72fb568d",
   "metadata": {},
   "source": [
    "## Preprocessing technique: Normalizing image pixels"
   ]
  },
  {
   "cell_type": "code",
   "execution_count": 4,
   "id": "2e462ba2",
   "metadata": {},
   "outputs": [],
   "source": [
    "# Implementing normalization by dividing images pixels on 255.0\n",
    "# Purpose: to make computation more efficient by reducing values between 0 and 1\n",
    "x_train_255 = x_train / 255.0\n",
    "x_validation_255 = x_validation / 255.0\n",
    "x_test_255 = x_test / 255.0"
   ]
  },
  {
   "cell_type": "markdown",
   "id": "3487dabb",
   "metadata": {},
   "source": [
    "## Write into a new file"
   ]
  },
  {
   "cell_type": "code",
   "execution_count": 5,
   "id": "68e01e3c",
   "metadata": {},
   "outputs": [],
   "source": [
    "with h5py.File('dataset_custom_rgb_255.hdf5', 'w') as f:\n",
    "    # Calling methods to create datasets of given shapes and types\n",
    "    # Saving Numpy arrays for training\n",
    "    f.create_dataset('x_train', data=x_train_255, dtype='f')\n",
    "    f.create_dataset('y_train', data=y_train, dtype='i')\n",
    "\n",
    "    # Saving Numpy arrays for validation\n",
    "    f.create_dataset('x_validation', data=x_validation_255, dtype='f')\n",
    "    f.create_dataset('y_validation', data=y_validation, dtype='i')\n",
    "\n",
    "    # Saving Numpy arrays for testing\n",
    "    f.create_dataset('x_test', data=x_test_255, dtype='f')\n",
    "    f.create_dataset('y_test', data=y_test, dtype='i')"
   ]
  },
  {
   "cell_type": "markdown",
   "id": "0ee69990",
   "metadata": {},
   "source": [
    "## Center around 0"
   ]
  },
  {
   "cell_type": "code",
   "execution_count": 7,
   "id": "cefc332d",
   "metadata": {},
   "outputs": [],
   "source": [
    "mean_rgb_dataset_custom = np.mean(x_train_255, axis=0)"
   ]
  },
  {
   "cell_type": "code",
   "execution_count": 8,
   "id": "99405fbd",
   "metadata": {},
   "outputs": [],
   "source": [
    "x_train_255_mean = x_train_255 - mean_rgb_dataset_custom\n",
    "x_validation_255_mean = x_validation_255 - mean_rgb_dataset_custom\n",
    "x_test_255_mean = x_test_255 - mean_rgb_dataset_custom"
   ]
  },
  {
   "cell_type": "code",
   "execution_count": 9,
   "id": "d63af6c1",
   "metadata": {},
   "outputs": [],
   "source": [
    "with h5py.File('mean_rgb_dataset_custom.hdf5', 'w') as f:\n",
    "    # Calling methods to create datasets of given shapes and types\n",
    "    # Saving Numpy array for Mean Image\n",
    "    f.create_dataset('mean', data=mean_rgb_dataset_custom, dtype='f')"
   ]
  },
  {
   "cell_type": "code",
   "execution_count": 10,
   "id": "99418b4e",
   "metadata": {},
   "outputs": [],
   "source": [
    "with h5py.File('dataset_custom_rgb_255_mean.hdf5', 'w') as f:\n",
    "    # Calling methods to create datasets of given shapes and types\n",
    "    # Saving Numpy arrays for training\n",
    "    f.create_dataset('x_train', data=x_train_255_mean, dtype='f')\n",
    "    f.create_dataset('y_train', data=y_train, dtype='i')\n",
    "\n",
    "    # Saving Numpy arrays for validation\n",
    "    f.create_dataset('x_validation', data=x_validation_255_mean, dtype='f')\n",
    "    f.create_dataset('y_validation', data=y_validation, dtype='i')\n",
    "\n",
    "    # Saving Numpy arrays for testing\n",
    "    f.create_dataset('x_test', data=x_test_255_mean, dtype='f')\n",
    "    f.create_dataset('y_test', data=y_test, dtype='i')"
   ]
  },
  {
   "cell_type": "markdown",
   "id": "b8f7618c",
   "metadata": {},
   "source": [
    "## Divide by SD"
   ]
  },
  {
   "cell_type": "code",
   "execution_count": 11,
   "id": "2b34ba8c",
   "metadata": {},
   "outputs": [],
   "source": [
    "# Calculating Standard Deviation from training dataset\n",
    "# (!) We calculate Standard Deviation only from training dataset\n",
    "# And apply it to all sub-datasets\n",
    "std_rgb_dataset_custom = np.std(x_train_255_mean, axis=0)  # (64, 64, 3)\n",
    "\n",
    "# Implementing preprocessing by dividing on Standard Deviation\n",
    "# Purpose: to scale pixels' values to a smaller range, that, in turn,\n",
    "# is needed for training with respect to learnability and accuracy\n",
    "x_train_255_mean_std = x_train_255_mean / std_rgb_dataset_custom\n",
    "x_validation_255_mean_std = x_validation_255_mean / std_rgb_dataset_custom\n",
    "x_test_255_mean_std = x_test_255_mean / std_rgb_dataset_custom"
   ]
  },
  {
   "cell_type": "code",
   "execution_count": 13,
   "id": "5f09e93c",
   "metadata": {},
   "outputs": [],
   "source": [
    "with h5py.File('std_rgb_dataset_custom.hdf5', 'w') as f:\n",
    "    # Calling methods to create datasets of given shapes and types\n",
    "    # Saving Numpy array for Mean Image\n",
    "    f.create_dataset('std', data=std_rgb_dataset_custom, dtype='f')"
   ]
  },
  {
   "cell_type": "code",
   "execution_count": 14,
   "id": "a4594180",
   "metadata": {},
   "outputs": [],
   "source": [
    "with h5py.File('dataset_custom_rgb_255_mean_std.hdf5', 'w') \\\n",
    "        as f:\n",
    "    # Calling methods to create datasets of given shapes and types\n",
    "    # Saving Numpy arrays for training\n",
    "    f.create_dataset('x_train', data=x_train_255_mean_std, dtype='f')\n",
    "    f.create_dataset('y_train', data=y_train, dtype='i')\n",
    "\n",
    "    # Saving Numpy arrays for validation\n",
    "    f.create_dataset('x_validation', data=x_validation_255_mean_std, dtype='f')\n",
    "    f.create_dataset('y_validation', data=y_validation, dtype='i')\n",
    "\n",
    "    # Saving Numpy arrays for testing\n",
    "    f.create_dataset('x_test', data=x_test_255_mean_std, dtype='f')\n",
    "    f.create_dataset('y_test', data=y_test, dtype='i')"
   ]
  },
  {
   "cell_type": "code",
   "execution_count": 15,
   "id": "7dcc0f06",
   "metadata": {},
   "outputs": [
    {
     "name": "stdout",
     "output_type": "stream",
     "text": [
      "Original:             [0.12156863 0.1254902  0.13333334 0.13333334 0.13333334]\n",
      "- Mean Image:         [-0.22103152 -0.21705939 -0.2093419  -0.20932241 -0.2097836 ]\n",
      "/ Standard Deviation: [-0.7456347  -0.7350312  -0.70953315 -0.70900697 -0.70911974]\n",
      "\n",
      "Mean Image:           [0.34260014 0.3425496  0.34267524 0.34265575 0.34311694]\n",
      "Standard Deviation:   [0.29643407 0.29530635 0.29504174 0.29523322 0.29583663]\n",
      "\n"
     ]
    }
   ],
   "source": [
    "# Check point\n",
    "# Printing some values from matrices\n",
    "print('Original:            ', x_train_255[0, 0, :5, 0])\n",
    "print('- Mean Image:        ', x_train_255_mean[0, 0, :5, 0])\n",
    "print('/ Standard Deviation:', x_train_255_mean_std[0, 0, :5, 0])\n",
    "print()\n",
    "\n",
    "# Check point\n",
    "# Printing some values of Mean Image and Standard Deviation\n",
    "print('Mean Image:          ', mean_rgb_dataset_custom[0, :5, 0])\n",
    "print('Standard Deviation:  ', std_rgb_dataset_custom[0, :5, 0])\n",
    "print()"
   ]
  },
  {
   "cell_type": "code",
   "execution_count": null,
   "id": "7f528f62",
   "metadata": {},
   "outputs": [],
   "source": []
  }
 ],
 "metadata": {
  "kernelspec": {
   "display_name": "Python [conda env:metis] *",
   "language": "python",
   "name": "conda-env-metis-py"
  },
  "language_info": {
   "codemirror_mode": {
    "name": "ipython",
    "version": 3
   },
   "file_extension": ".py",
   "mimetype": "text/x-python",
   "name": "python",
   "nbconvert_exporter": "python",
   "pygments_lexer": "ipython3",
   "version": "3.8.10"
  }
 },
 "nbformat": 4,
 "nbformat_minor": 5
}
