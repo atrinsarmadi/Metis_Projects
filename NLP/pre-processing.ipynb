{
 "cells": [
  {
   "cell_type": "code",
   "execution_count": 1,
   "id": "51465018",
   "metadata": {},
   "outputs": [],
   "source": [
    "import pandas as pd\n",
    "import re\n",
    "import nltk\n",
    "from nltk.stem import WordNetLemmatizer\n",
    "import numpy as np"
   ]
  },
  {
   "cell_type": "code",
   "execution_count": 2,
   "id": "cbd91b2f",
   "metadata": {},
   "outputs": [],
   "source": [
    "df = pd.read_csv('data.csv', lineterminator='\\n')"
   ]
  },
  {
   "cell_type": "code",
   "execution_count": 3,
   "id": "5db975f6",
   "metadata": {},
   "outputs": [
    {
     "name": "stdout",
     "output_type": "stream",
     "text": [
      "<class 'pandas.core.frame.DataFrame'>\n",
      "RangeIndex: 212789 entries, 0 to 212788\n",
      "Data columns (total 11 columns):\n",
      " #   Column          Non-Null Count   Dtype \n",
      "---  ------          --------------   ----- \n",
      " 0   user            212789 non-null  int64 \n",
      " 1   date            212789 non-null  object\n",
      " 2   content         212789 non-null  object\n",
      " 3   tweet_id        212789 non-null  int64 \n",
      " 4   replyCount      212789 non-null  int64 \n",
      " 5   retweetCount    212789 non-null  int64 \n",
      " 6   likeCount       212789 non-null  int64 \n",
      " 7   quoteCount      212789 non-null  int64 \n",
      " 8   quotedTweet     35694 non-null   object\n",
      " 9   mentionedUsers  91201 non-null   object\n",
      " 10  hashtags        160869 non-null  object\n",
      "dtypes: int64(6), object(5)\n",
      "memory usage: 17.9+ MB\n"
     ]
    }
   ],
   "source": [
    "df.info()"
   ]
  },
  {
   "cell_type": "code",
   "execution_count": 4,
   "id": "b7a428df",
   "metadata": {},
   "outputs": [
    {
     "data": {
      "text/html": [
       "<div>\n",
       "<style scoped>\n",
       "    .dataframe tbody tr th:only-of-type {\n",
       "        vertical-align: middle;\n",
       "    }\n",
       "\n",
       "    .dataframe tbody tr th {\n",
       "        vertical-align: top;\n",
       "    }\n",
       "\n",
       "    .dataframe thead th {\n",
       "        text-align: right;\n",
       "    }\n",
       "</style>\n",
       "<table border=\"1\" class=\"dataframe\">\n",
       "  <thead>\n",
       "    <tr style=\"text-align: right;\">\n",
       "      <th></th>\n",
       "      <th>user</th>\n",
       "      <th>date</th>\n",
       "      <th>content</th>\n",
       "      <th>tweet_id</th>\n",
       "      <th>replyCount</th>\n",
       "      <th>retweetCount</th>\n",
       "      <th>likeCount</th>\n",
       "      <th>quoteCount</th>\n",
       "      <th>quotedTweet</th>\n",
       "      <th>mentionedUsers</th>\n",
       "      <th>hashtags</th>\n",
       "    </tr>\n",
       "  </thead>\n",
       "  <tbody>\n",
       "    <tr>\n",
       "      <th>0</th>\n",
       "      <td>58010461</td>\n",
       "      <td>2021-11-04 23:58:13+00:00</td>\n",
       "      <td>To continually grow it audience &amp;amp; make mor...</td>\n",
       "      <td>1456410488775061515</td>\n",
       "      <td>0</td>\n",
       "      <td>0</td>\n",
       "      <td>0</td>\n",
       "      <td>0</td>\n",
       "      <td>NaN</td>\n",
       "      <td>NaN</td>\n",
       "      <td>['MONEY', 'socialmedia', 'censure', 'personal'...</td>\n",
       "    </tr>\n",
       "    <tr>\n",
       "      <th>1</th>\n",
       "      <td>1393628979526094851</td>\n",
       "      <td>2021-11-04 23:57:39+00:00</td>\n",
       "      <td>My Linktr making it easier to follow my social...</td>\n",
       "      <td>1456410344138723333</td>\n",
       "      <td>0</td>\n",
       "      <td>0</td>\n",
       "      <td>3</td>\n",
       "      <td>0</td>\n",
       "      <td>NaN</td>\n",
       "      <td>NaN</td>\n",
       "      <td>['smallstreamer', 'twitch', 'facebook', 'Youtu...</td>\n",
       "    </tr>\n",
       "    <tr>\n",
       "      <th>2</th>\n",
       "      <td>617853906</td>\n",
       "      <td>2021-11-04 23:57:19+00:00</td>\n",
       "      <td>#giftsforher #tumblr #twitter #facebook #insta...</td>\n",
       "      <td>1456410261645058050</td>\n",
       "      <td>1</td>\n",
       "      <td>0</td>\n",
       "      <td>0</td>\n",
       "      <td>0</td>\n",
       "      <td>NaN</td>\n",
       "      <td>NaN</td>\n",
       "      <td>['giftsforher', 'tumblr', 'twitter', 'facebook...</td>\n",
       "    </tr>\n",
       "    <tr>\n",
       "      <th>3</th>\n",
       "      <td>617853906</td>\n",
       "      <td>2021-11-04 23:57:17+00:00</td>\n",
       "      <td>#linkedin #twitter #facebook #instagram #dogec...</td>\n",
       "      <td>1456410253952753665</td>\n",
       "      <td>1</td>\n",
       "      <td>0</td>\n",
       "      <td>0</td>\n",
       "      <td>0</td>\n",
       "      <td>NaN</td>\n",
       "      <td>NaN</td>\n",
       "      <td>['linkedin', 'twitter', 'facebook', 'instagram...</td>\n",
       "    </tr>\n",
       "    <tr>\n",
       "      <th>4</th>\n",
       "      <td>812704308089208832</td>\n",
       "      <td>2021-11-04 23:56:57+00:00</td>\n",
       "      <td>Quit Your Job With These 3 Winning #Facebook #...</td>\n",
       "      <td>1456410166157479941</td>\n",
       "      <td>0</td>\n",
       "      <td>1</td>\n",
       "      <td>1</td>\n",
       "      <td>0</td>\n",
       "      <td>NaN</td>\n",
       "      <td>NaN</td>\n",
       "      <td>['Facebook', 'Marketing']</td>\n",
       "    </tr>\n",
       "  </tbody>\n",
       "</table>\n",
       "</div>"
      ],
      "text/plain": [
       "                  user                       date  \\\n",
       "0             58010461  2021-11-04 23:58:13+00:00   \n",
       "1  1393628979526094851  2021-11-04 23:57:39+00:00   \n",
       "2            617853906  2021-11-04 23:57:19+00:00   \n",
       "3            617853906  2021-11-04 23:57:17+00:00   \n",
       "4   812704308089208832  2021-11-04 23:56:57+00:00   \n",
       "\n",
       "                                             content             tweet_id  \\\n",
       "0  To continually grow it audience &amp; make mor...  1456410488775061515   \n",
       "1  My Linktr making it easier to follow my social...  1456410344138723333   \n",
       "2  #giftsforher #tumblr #twitter #facebook #insta...  1456410261645058050   \n",
       "3  #linkedin #twitter #facebook #instagram #dogec...  1456410253952753665   \n",
       "4  Quit Your Job With These 3 Winning #Facebook #...  1456410166157479941   \n",
       "\n",
       "   replyCount  retweetCount  likeCount  quoteCount quotedTweet mentionedUsers  \\\n",
       "0           0             0          0           0         NaN            NaN   \n",
       "1           0             0          3           0         NaN            NaN   \n",
       "2           1             0          0           0         NaN            NaN   \n",
       "3           1             0          0           0         NaN            NaN   \n",
       "4           0             1          1           0         NaN            NaN   \n",
       "\n",
       "                                            hashtags  \n",
       "0  ['MONEY', 'socialmedia', 'censure', 'personal'...  \n",
       "1  ['smallstreamer', 'twitch', 'facebook', 'Youtu...  \n",
       "2  ['giftsforher', 'tumblr', 'twitter', 'facebook...  \n",
       "3  ['linkedin', 'twitter', 'facebook', 'instagram...  \n",
       "4                          ['Facebook', 'Marketing']  "
      ]
     },
     "execution_count": 4,
     "metadata": {},
     "output_type": "execute_result"
    }
   ],
   "source": [
    "df.head()"
   ]
  },
  {
   "cell_type": "code",
   "execution_count": 5,
   "id": "dfb89682",
   "metadata": {},
   "outputs": [],
   "source": [
    "df = df[['user', 'content']]"
   ]
  },
  {
   "cell_type": "code",
   "execution_count": 6,
   "id": "0ea6a3d8",
   "metadata": {},
   "outputs": [
    {
     "data": {
      "text/html": [
       "<div>\n",
       "<style scoped>\n",
       "    .dataframe tbody tr th:only-of-type {\n",
       "        vertical-align: middle;\n",
       "    }\n",
       "\n",
       "    .dataframe tbody tr th {\n",
       "        vertical-align: top;\n",
       "    }\n",
       "\n",
       "    .dataframe thead th {\n",
       "        text-align: right;\n",
       "    }\n",
       "</style>\n",
       "<table border=\"1\" class=\"dataframe\">\n",
       "  <thead>\n",
       "    <tr style=\"text-align: right;\">\n",
       "      <th></th>\n",
       "      <th>user</th>\n",
       "      <th>content</th>\n",
       "    </tr>\n",
       "  </thead>\n",
       "  <tbody>\n",
       "    <tr>\n",
       "      <th>0</th>\n",
       "      <td>58010461</td>\n",
       "      <td>To continually grow it audience &amp;amp; make mor...</td>\n",
       "    </tr>\n",
       "    <tr>\n",
       "      <th>1</th>\n",
       "      <td>1393628979526094851</td>\n",
       "      <td>My Linktr making it easier to follow my social...</td>\n",
       "    </tr>\n",
       "    <tr>\n",
       "      <th>2</th>\n",
       "      <td>617853906</td>\n",
       "      <td>#giftsforher #tumblr #twitter #facebook #insta...</td>\n",
       "    </tr>\n",
       "    <tr>\n",
       "      <th>3</th>\n",
       "      <td>617853906</td>\n",
       "      <td>#linkedin #twitter #facebook #instagram #dogec...</td>\n",
       "    </tr>\n",
       "    <tr>\n",
       "      <th>4</th>\n",
       "      <td>812704308089208832</td>\n",
       "      <td>Quit Your Job With These 3 Winning #Facebook #...</td>\n",
       "    </tr>\n",
       "  </tbody>\n",
       "</table>\n",
       "</div>"
      ],
      "text/plain": [
       "                  user                                            content\n",
       "0             58010461  To continually grow it audience &amp; make mor...\n",
       "1  1393628979526094851  My Linktr making it easier to follow my social...\n",
       "2            617853906  #giftsforher #tumblr #twitter #facebook #insta...\n",
       "3            617853906  #linkedin #twitter #facebook #instagram #dogec...\n",
       "4   812704308089208832  Quit Your Job With These 3 Winning #Facebook #..."
      ]
     },
     "execution_count": 6,
     "metadata": {},
     "output_type": "execute_result"
    }
   ],
   "source": [
    "df.head()"
   ]
  },
  {
   "cell_type": "code",
   "execution_count": 7,
   "id": "e6d04ffc",
   "metadata": {},
   "outputs": [],
   "source": [
    "df['raw_tweet'] = df['content'].copy()"
   ]
  },
  {
   "cell_type": "code",
   "execution_count": 9,
   "id": "1f5525f9",
   "metadata": {},
   "outputs": [
    {
     "data": {
      "text/html": [
       "<div>\n",
       "<style scoped>\n",
       "    .dataframe tbody tr th:only-of-type {\n",
       "        vertical-align: middle;\n",
       "    }\n",
       "\n",
       "    .dataframe tbody tr th {\n",
       "        vertical-align: top;\n",
       "    }\n",
       "\n",
       "    .dataframe thead th {\n",
       "        text-align: right;\n",
       "    }\n",
       "</style>\n",
       "<table border=\"1\" class=\"dataframe\">\n",
       "  <thead>\n",
       "    <tr style=\"text-align: right;\">\n",
       "      <th></th>\n",
       "      <th>user</th>\n",
       "      <th>content</th>\n",
       "      <th>raw_tweet</th>\n",
       "    </tr>\n",
       "  </thead>\n",
       "  <tbody>\n",
       "    <tr>\n",
       "      <th>0</th>\n",
       "      <td>58010461</td>\n",
       "      <td>To continually grow it audience &amp;amp; make mor...</td>\n",
       "      <td>To continually grow it audience &amp;amp; make mor...</td>\n",
       "    </tr>\n",
       "    <tr>\n",
       "      <th>1</th>\n",
       "      <td>1393628979526094851</td>\n",
       "      <td>My Linktr making it easier to follow my social...</td>\n",
       "      <td>My Linktr making it easier to follow my social...</td>\n",
       "    </tr>\n",
       "    <tr>\n",
       "      <th>2</th>\n",
       "      <td>617853906</td>\n",
       "      <td>#giftsforher #tumblr #twitter #facebook #insta...</td>\n",
       "      <td>#giftsforher #tumblr #twitter #facebook #insta...</td>\n",
       "    </tr>\n",
       "    <tr>\n",
       "      <th>3</th>\n",
       "      <td>617853906</td>\n",
       "      <td>#linkedin #twitter #facebook #instagram #dogec...</td>\n",
       "      <td>#linkedin #twitter #facebook #instagram #dogec...</td>\n",
       "    </tr>\n",
       "    <tr>\n",
       "      <th>4</th>\n",
       "      <td>812704308089208832</td>\n",
       "      <td>Quit Your Job With These 3 Winning #Facebook #...</td>\n",
       "      <td>Quit Your Job With These 3 Winning #Facebook #...</td>\n",
       "    </tr>\n",
       "  </tbody>\n",
       "</table>\n",
       "</div>"
      ],
      "text/plain": [
       "                  user                                            content  \\\n",
       "0             58010461  To continually grow it audience &amp; make mor...   \n",
       "1  1393628979526094851  My Linktr making it easier to follow my social...   \n",
       "2            617853906  #giftsforher #tumblr #twitter #facebook #insta...   \n",
       "3            617853906  #linkedin #twitter #facebook #instagram #dogec...   \n",
       "4   812704308089208832  Quit Your Job With These 3 Winning #Facebook #...   \n",
       "\n",
       "                                           raw_tweet  \n",
       "0  To continually grow it audience &amp; make mor...  \n",
       "1  My Linktr making it easier to follow my social...  \n",
       "2  #giftsforher #tumblr #twitter #facebook #insta...  \n",
       "3  #linkedin #twitter #facebook #instagram #dogec...  \n",
       "4  Quit Your Job With These 3 Winning #Facebook #...  "
      ]
     },
     "execution_count": 9,
     "metadata": {},
     "output_type": "execute_result"
    }
   ],
   "source": [
    "df.head()"
   ]
  },
  {
   "cell_type": "markdown",
   "id": "5fe32e15",
   "metadata": {},
   "source": [
    "### Lowercase"
   ]
  },
  {
   "cell_type": "code",
   "execution_count": 10,
   "id": "c8f25b4d",
   "metadata": {},
   "outputs": [],
   "source": [
    "df['content'] = df['content'].str.lower()"
   ]
  },
  {
   "cell_type": "markdown",
   "id": "e474a748",
   "metadata": {},
   "source": [
    "### Remove URLs"
   ]
  },
  {
   "cell_type": "code",
   "execution_count": 11,
   "id": "4748cae2",
   "metadata": {
    "scrolled": true
   },
   "outputs": [],
   "source": [
    "df['content'] = df['content'].apply(lambda x: re.sub(r'https?:\\/\\/\\S+', '', x))\n",
    "df['content'] = df['content'].apply(lambda x: re.sub(r\"www\\.[a-z]?\\.?(com)+|[a-z]+\\.(com)\", '', x))\n",
    "df['content'] = df['content'].apply(lambda x: re.sub(r'bit.ly/\\S+', '', x))\n",
    "df['content'] = df['content'].apply(lambda x: re.sub(r'pic.twitter\\S+','', x))"
   ]
  },
  {
   "cell_type": "markdown",
   "id": "6aa9991a",
   "metadata": {},
   "source": [
    "### Remove HTML references"
   ]
  },
  {
   "cell_type": "code",
   "execution_count": 12,
   "id": "21966bb3",
   "metadata": {},
   "outputs": [],
   "source": [
    "df['content'] = df['content'].apply(lambda x: re.sub(r'&[a-z]+;', '', x))"
   ]
  },
  {
   "cell_type": "markdown",
   "id": "8fd991aa",
   "metadata": {},
   "source": [
    "### Remove non-letter characters"
   ]
  },
  {
   "cell_type": "code",
   "execution_count": 13,
   "id": "551ea859",
   "metadata": {},
   "outputs": [],
   "source": [
    "df['content'] = df['content'].apply(lambda x: re.sub(r\"[^a-z\\s\\(\\-:\\)\\\\\\/\\];='#]\", '', x))"
   ]
  },
  {
   "cell_type": "markdown",
   "id": "3c62652e",
   "metadata": {},
   "source": [
    "### Remove users"
   ]
  },
  {
   "cell_type": "code",
   "execution_count": 14,
   "id": "cc094e4a",
   "metadata": {},
   "outputs": [],
   "source": [
    "df['content'] = df['content'].apply(lambda x: re.sub('(RT\\s@[A-Za-z]+[A-Za-z0-9-_]+)', '', x))\n",
    "df['content'] = df['content'].apply(lambda x: re.sub('(@[A-Za-z]+[A-Za-z0-9-_]+)', '', x))"
   ]
  },
  {
   "cell_type": "markdown",
   "id": "ff1d5f5d",
   "metadata": {},
   "source": [
    "### Remove hashtags"
   ]
  },
  {
   "cell_type": "code",
   "execution_count": 15,
   "id": "8fcad5ce",
   "metadata": {},
   "outputs": [],
   "source": [
    "df['content'] = df['content'].apply(lambda x: re.sub('(#[A-Za-z]+[A-Za-z0-9-_]+)', '', x))"
   ]
  },
  {
   "cell_type": "markdown",
   "id": "7193902c",
   "metadata": {},
   "source": [
    "### Remove Audio/Video tags"
   ]
  },
  {
   "cell_type": "code",
   "execution_count": 16,
   "id": "551286e4",
   "metadata": {},
   "outputs": [],
   "source": [
    "df['content'] = df['content'].apply(lambda x: re.sub('VIDEO:', '', x))\n",
    "df['content'] = df['content'].apply(lambda x: re.sub('AUDIO:', '', x))"
   ]
  },
  {
   "cell_type": "markdown",
   "id": "a7b9dbb8",
   "metadata": {},
   "source": [
    "### Remove empty contents"
   ]
  },
  {
   "cell_type": "code",
   "execution_count": 17,
   "id": "ec5dc80c",
   "metadata": {},
   "outputs": [],
   "source": [
    "df.replace(\"\", np.nan, inplace=True)"
   ]
  },
  {
   "cell_type": "code",
   "execution_count": 18,
   "id": "e35560cd",
   "metadata": {},
   "outputs": [],
   "source": [
    "df.dropna(subset = [\"content\"], inplace=True)"
   ]
  },
  {
   "cell_type": "code",
   "execution_count": 19,
   "id": "c04ff11c",
   "metadata": {},
   "outputs": [
    {
     "name": "stdout",
     "output_type": "stream",
     "text": [
      "<class 'pandas.core.frame.DataFrame'>\n",
      "Int64Index: 212778 entries, 0 to 212788\n",
      "Data columns (total 3 columns):\n",
      " #   Column     Non-Null Count   Dtype \n",
      "---  ------     --------------   ----- \n",
      " 0   user       212778 non-null  int64 \n",
      " 1   content    212778 non-null  object\n",
      " 2   raw_tweet  212778 non-null  object\n",
      "dtypes: int64(1), object(2)\n",
      "memory usage: 6.5+ MB\n"
     ]
    }
   ],
   "source": [
    "df.info()"
   ]
  },
  {
   "cell_type": "code",
   "execution_count": 20,
   "id": "26570172",
   "metadata": {},
   "outputs": [],
   "source": [
    "df.to_csv('data_preprocessed.csv')"
   ]
  },
  {
   "cell_type": "code",
   "execution_count": null,
   "id": "cad16fa6",
   "metadata": {},
   "outputs": [],
   "source": []
  },
  {
   "cell_type": "code",
   "execution_count": null,
   "id": "e09bcd7d",
   "metadata": {},
   "outputs": [],
   "source": []
  },
  {
   "cell_type": "code",
   "execution_count": null,
   "id": "db2a0977",
   "metadata": {},
   "outputs": [],
   "source": []
  },
  {
   "cell_type": "code",
   "execution_count": null,
   "id": "68d84a30",
   "metadata": {},
   "outputs": [],
   "source": []
  }
 ],
 "metadata": {
  "kernelspec": {
   "display_name": "Python [conda env:metis] *",
   "language": "python",
   "name": "conda-env-metis-py"
  },
  "language_info": {
   "codemirror_mode": {
    "name": "ipython",
    "version": 3
   },
   "file_extension": ".py",
   "mimetype": "text/x-python",
   "name": "python",
   "nbconvert_exporter": "python",
   "pygments_lexer": "ipython3",
   "version": "3.8.10"
  }
 },
 "nbformat": 4,
 "nbformat_minor": 5
}
