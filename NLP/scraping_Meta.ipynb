{
 "cells": [
  {
   "cell_type": "code",
   "execution_count": 1,
   "id": "c2e32526",
   "metadata": {},
   "outputs": [],
   "source": [
    "import os\n",
    "import pandas as pd"
   ]
  },
  {
   "cell_type": "code",
   "execution_count": 2,
   "id": "8caba7ab",
   "metadata": {},
   "outputs": [
    {
     "data": {
      "text/plain": [
       "0"
      ]
     },
     "execution_count": 2,
     "metadata": {},
     "output_type": "execute_result"
    }
   ],
   "source": [
    "# Setting variables to be used in format string command below\n",
    "#tweet_count = 500\n",
    "text_query = \"#Meta\"\n",
    "since_date = \"2021-10-28\"\n",
    "until_date = \"2021-11-05\"\n",
    "\n",
    "# Using OS library to call CLI commands in Python\n",
    "os.system('snscrape --jsonl --since {} twitter-search \"{} until:{}\"> meta.json'\n",
    "          .format(since_date, text_query, until_date))"
   ]
  },
  {
   "cell_type": "code",
   "execution_count": 3,
   "id": "62402ce2",
   "metadata": {},
   "outputs": [],
   "source": [
    "df = pd.read_json('meta.json', lines = True)"
   ]
  },
  {
   "cell_type": "code",
   "execution_count": 4,
   "id": "72ad2744",
   "metadata": {},
   "outputs": [
    {
     "name": "stdout",
     "output_type": "stream",
     "text": [
      "<class 'pandas.core.frame.DataFrame'>\n",
      "RangeIndex: 87964 entries, 0 to 87963\n",
      "Data columns (total 28 columns):\n",
      " #   Column            Non-Null Count  Dtype              \n",
      "---  ------            --------------  -----              \n",
      " 0   _type             87964 non-null  object             \n",
      " 1   url               87964 non-null  object             \n",
      " 2   date              87964 non-null  datetime64[ns, UTC]\n",
      " 3   content           87964 non-null  object             \n",
      " 4   renderedContent   87964 non-null  object             \n",
      " 5   id                87964 non-null  int64              \n",
      " 6   user              87964 non-null  object             \n",
      " 7   replyCount        87964 non-null  int64              \n",
      " 8   retweetCount      87964 non-null  int64              \n",
      " 9   likeCount         87964 non-null  int64              \n",
      " 10  quoteCount        87964 non-null  int64              \n",
      " 11  conversationId    87964 non-null  int64              \n",
      " 12  lang              87964 non-null  object             \n",
      " 13  source            87964 non-null  object             \n",
      " 14  sourceUrl         87964 non-null  object             \n",
      " 15  sourceLabel       87964 non-null  object             \n",
      " 16  outlinks          28243 non-null  object             \n",
      " 17  tcooutlinks       28243 non-null  object             \n",
      " 18  media             30291 non-null  object             \n",
      " 19  retweetedTweet    0 non-null      float64            \n",
      " 20  quotedTweet       11718 non-null  object             \n",
      " 21  inReplyToTweetId  10654 non-null  float64            \n",
      " 22  inReplyToUser     10654 non-null  object             \n",
      " 23  mentionedUsers    22151 non-null  object             \n",
      " 24  coordinates       2949 non-null   object             \n",
      " 25  place             2948 non-null   object             \n",
      " 26  hashtags          87957 non-null  object             \n",
      " 27  cashtags          5843 non-null   object             \n",
      "dtypes: datetime64[ns, UTC](1), float64(2), int64(6), object(19)\n",
      "memory usage: 18.8+ MB\n"
     ]
    }
   ],
   "source": [
    "df.info()"
   ]
  },
  {
   "cell_type": "code",
   "execution_count": null,
   "id": "41ea26c1",
   "metadata": {},
   "outputs": [],
   "source": []
  }
 ],
 "metadata": {
  "kernelspec": {
   "display_name": "Python 3",
   "language": "python",
   "name": "python3"
  },
  "language_info": {
   "codemirror_mode": {
    "name": "ipython",
    "version": 3
   },
   "file_extension": ".py",
   "mimetype": "text/x-python",
   "name": "python",
   "nbconvert_exporter": "python",
   "pygments_lexer": "ipython3",
   "version": "3.8.8"
  }
 },
 "nbformat": 4,
 "nbformat_minor": 5
}
