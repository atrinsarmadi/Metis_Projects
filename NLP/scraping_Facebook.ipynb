{
 "cells": [
  {
   "cell_type": "code",
   "execution_count": 1,
   "id": "c8c22b70",
   "metadata": {},
   "outputs": [],
   "source": [
    "import os\n",
    "import pandas as pd"
   ]
  },
  {
   "cell_type": "code",
   "execution_count": 2,
   "id": "edbfd0ba",
   "metadata": {},
   "outputs": [
    {
     "data": {
      "text/plain": [
       "0"
      ]
     },
     "execution_count": 2,
     "metadata": {},
     "output_type": "execute_result"
    }
   ],
   "source": [
    "# Setting variables to be used in format string command below\n",
    "#tweet_count = 500\n",
    "text_query = \"#Facebook\"\n",
    "since_date = \"2021-10-28\"\n",
    "until_date = \"2021-11-05\"\n",
    "\n",
    "# Using OS library to call CLI commands in Python\n",
    "os.system('snscrape --jsonl --since {} twitter-search \"{} until:{}\"> facebook.json'\n",
    "          .format(since_date, text_query, until_date))"
   ]
  },
  {
   "cell_type": "code",
   "execution_count": null,
   "id": "bc4883c6",
   "metadata": {},
   "outputs": [],
   "source": []
  }
 ],
 "metadata": {
  "kernelspec": {
   "display_name": "Python 3",
   "language": "python",
   "name": "python3"
  },
  "language_info": {
   "codemirror_mode": {
    "name": "ipython",
    "version": 3
   },
   "file_extension": ".py",
   "mimetype": "text/x-python",
   "name": "python",
   "nbconvert_exporter": "python",
   "pygments_lexer": "ipython3",
   "version": "3.8.8"
  }
 },
 "nbformat": 4,
 "nbformat_minor": 5
}
