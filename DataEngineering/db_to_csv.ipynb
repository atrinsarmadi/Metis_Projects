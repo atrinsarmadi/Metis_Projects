{
 "cells": [
  {
   "cell_type": "code",
   "execution_count": 7,
   "id": "eb3218e4",
   "metadata": {},
   "outputs": [],
   "source": [
    "## Create database\n",
    "# sqlite3 park_meter.db\n",
    "## Set the mode\n",
    "# .mode csv\n",
    "## Import the csv file data to sqlite3\n",
    "# .import park_meter_clean.csv meter_list\n",
    "# .import meter_policies_clean.csv meter_policies"
   ]
  },
  {
   "cell_type": "code",
   "execution_count": 1,
   "id": "075df927",
   "metadata": {},
   "outputs": [],
   "source": [
    "from sqlalchemy import create_engine\n",
    "import pandas as pd"
   ]
  },
  {
   "cell_type": "code",
   "execution_count": 2,
   "id": "a31e9fe9",
   "metadata": {},
   "outputs": [],
   "source": [
    "eng = create_engine('sqlite:///park_meter.db')"
   ]
  },
  {
   "cell_type": "code",
   "execution_count": 3,
   "id": "3d2312b4",
   "metadata": {},
   "outputs": [],
   "source": [
    "meter_list_df = pd.read_sql('SELECT * FROM meter_list', eng)"
   ]
  },
  {
   "cell_type": "code",
   "execution_count": 4,
   "id": "3b04d0db",
   "metadata": {},
   "outputs": [],
   "source": [
    "meter_policies_df = pd.read_sql('SELECT * FROM meter_policies', eng)"
   ]
  },
  {
   "cell_type": "code",
   "execution_count": 5,
   "id": "92ecd3e2",
   "metadata": {},
   "outputs": [],
   "source": [
    "meter_list_df.to_csv('meter_l.csv', index = False)"
   ]
  },
  {
   "cell_type": "code",
   "execution_count": 6,
   "id": "5491c4e6",
   "metadata": {},
   "outputs": [],
   "source": [
    "meter_policies_df.to_csv('meter_p.csv', index = False)"
   ]
  },
  {
   "cell_type": "code",
   "execution_count": null,
   "id": "cd40aef3",
   "metadata": {},
   "outputs": [],
   "source": []
  }
 ],
 "metadata": {
  "kernelspec": {
   "display_name": "Python [conda env:metis] *",
   "language": "python",
   "name": "conda-env-metis-py"
  },
  "language_info": {
   "codemirror_mode": {
    "name": "ipython",
    "version": 3
   },
   "file_extension": ".py",
   "mimetype": "text/x-python",
   "name": "python",
   "nbconvert_exporter": "python",
   "pygments_lexer": "ipython3",
   "version": "3.8.10"
  }
 },
 "nbformat": 4,
 "nbformat_minor": 5
}
