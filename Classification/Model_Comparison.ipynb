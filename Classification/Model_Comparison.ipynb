{
 "cells": [
  {
   "cell_type": "code",
   "execution_count": 1,
   "id": "8f1b3e8d",
   "metadata": {},
   "outputs": [],
   "source": [
    "import pandas as pd\n",
    "import numpy as np\n",
    "import matplotlib.pyplot as plt\n",
    "import seaborn as sns\n",
    "%matplotlib inline\n",
    "\n",
    "from sklearn.model_selection import train_test_split\n",
    "from sklearn.preprocessing import StandardScaler\n",
    "from sklearn.neighbors import KNeighborsClassifier\n",
    "from sklearn.linear_model import LogisticRegression\n",
    "from sklearn import naive_bayes, tree\n",
    "from sklearn.svm import LinearSVC, SVC\n",
    "from sklearn.tree import DecisionTreeClassifier\n",
    "from sklearn.ensemble import RandomForestClassifier\n",
    "from sklearn.model_selection import GridSearchCV\n",
    "import xgboost as xgb\n",
    "from xgboost import XGBClassifier\n",
    "\n",
    "from sklearn.metrics import classification_report\n",
    "from sklearn.metrics import precision_score, recall_score, precision_recall_curve,f1_score, fbeta_score\n",
    "from sklearn.metrics import confusion_matrix\n",
    "from sklearn.metrics import roc_auc_score, roc_curve\n",
    "from sklearn.metrics import roc_curve, auc\n",
    "\n",
    "import warnings\n",
    "warnings.filterwarnings('ignore')"
   ]
  },
  {
   "cell_type": "code",
   "execution_count": 2,
   "id": "6942ec2c",
   "metadata": {},
   "outputs": [],
   "source": [
    "df = pd.read_csv('modeling_data.csv', index_col = 'id')"
   ]
  },
  {
   "cell_type": "code",
   "execution_count": 3,
   "id": "0112ae2b",
   "metadata": {},
   "outputs": [
    {
     "data": {
      "text/html": [
       "<div>\n",
       "<style scoped>\n",
       "    .dataframe tbody tr th:only-of-type {\n",
       "        vertical-align: middle;\n",
       "    }\n",
       "\n",
       "    .dataframe tbody tr th {\n",
       "        vertical-align: top;\n",
       "    }\n",
       "\n",
       "    .dataframe thead th {\n",
       "        text-align: right;\n",
       "    }\n",
       "</style>\n",
       "<table border=\"1\" class=\"dataframe\">\n",
       "  <thead>\n",
       "    <tr style=\"text-align: right;\">\n",
       "      <th></th>\n",
       "      <th>created_at</th>\n",
       "      <th>deadline</th>\n",
       "      <th>launched_at</th>\n",
       "      <th>sub_category</th>\n",
       "      <th>goal_usd</th>\n",
       "      <th>campaign_duration</th>\n",
       "      <th>create_to_launch_duration</th>\n",
       "      <th>Failed</th>\n",
       "      <th>region_AM_non_US</th>\n",
       "      <th>region_AP</th>\n",
       "      <th>...</th>\n",
       "      <th>main_category_Fashion</th>\n",
       "      <th>main_category_Film &amp; Video</th>\n",
       "      <th>main_category_Food</th>\n",
       "      <th>main_category_Games</th>\n",
       "      <th>main_category_Journalism</th>\n",
       "      <th>main_category_Music</th>\n",
       "      <th>main_category_Photography</th>\n",
       "      <th>main_category_Publishing</th>\n",
       "      <th>main_category_Technology</th>\n",
       "      <th>main_category_Theater</th>\n",
       "    </tr>\n",
       "    <tr>\n",
       "      <th>id</th>\n",
       "      <th></th>\n",
       "      <th></th>\n",
       "      <th></th>\n",
       "      <th></th>\n",
       "      <th></th>\n",
       "      <th></th>\n",
       "      <th></th>\n",
       "      <th></th>\n",
       "      <th></th>\n",
       "      <th></th>\n",
       "      <th></th>\n",
       "      <th></th>\n",
       "      <th></th>\n",
       "      <th></th>\n",
       "      <th></th>\n",
       "      <th></th>\n",
       "      <th></th>\n",
       "      <th></th>\n",
       "      <th></th>\n",
       "      <th></th>\n",
       "      <th></th>\n",
       "    </tr>\n",
       "  </thead>\n",
       "  <tbody>\n",
       "    <tr>\n",
       "      <th>1846656783</th>\n",
       "      <td>2020-04-16 05:18:45</td>\n",
       "      <td>2020-05-15 01:58:55</td>\n",
       "      <td>2020-04-24 01:58:55</td>\n",
       "      <td>Children's Books</td>\n",
       "      <td>3410.199225</td>\n",
       "      <td>21</td>\n",
       "      <td>7</td>\n",
       "      <td>0</td>\n",
       "      <td>0</td>\n",
       "      <td>0</td>\n",
       "      <td>...</td>\n",
       "      <td>0</td>\n",
       "      <td>0</td>\n",
       "      <td>0</td>\n",
       "      <td>0</td>\n",
       "      <td>0</td>\n",
       "      <td>0</td>\n",
       "      <td>0</td>\n",
       "      <td>1</td>\n",
       "      <td>0</td>\n",
       "      <td>0</td>\n",
       "    </tr>\n",
       "    <tr>\n",
       "      <th>1091394927</th>\n",
       "      <td>2020-05-27 06:47:29</td>\n",
       "      <td>2020-07-09 09:00:00</td>\n",
       "      <td>2020-06-09 09:14:06</td>\n",
       "      <td>Product Design</td>\n",
       "      <td>5000.000000</td>\n",
       "      <td>29</td>\n",
       "      <td>13</td>\n",
       "      <td>0</td>\n",
       "      <td>0</td>\n",
       "      <td>0</td>\n",
       "      <td>...</td>\n",
       "      <td>0</td>\n",
       "      <td>0</td>\n",
       "      <td>0</td>\n",
       "      <td>0</td>\n",
       "      <td>0</td>\n",
       "      <td>0</td>\n",
       "      <td>0</td>\n",
       "      <td>0</td>\n",
       "      <td>0</td>\n",
       "      <td>0</td>\n",
       "    </tr>\n",
       "    <tr>\n",
       "      <th>1892452780</th>\n",
       "      <td>2020-04-15 07:11:52</td>\n",
       "      <td>2020-07-13 05:22:08</td>\n",
       "      <td>2020-06-13 05:22:08</td>\n",
       "      <td>Product Design</td>\n",
       "      <td>7700.000000</td>\n",
       "      <td>30</td>\n",
       "      <td>58</td>\n",
       "      <td>0</td>\n",
       "      <td>0</td>\n",
       "      <td>0</td>\n",
       "      <td>...</td>\n",
       "      <td>0</td>\n",
       "      <td>0</td>\n",
       "      <td>0</td>\n",
       "      <td>0</td>\n",
       "      <td>0</td>\n",
       "      <td>0</td>\n",
       "      <td>0</td>\n",
       "      <td>0</td>\n",
       "      <td>0</td>\n",
       "      <td>0</td>\n",
       "    </tr>\n",
       "    <tr>\n",
       "      <th>591954572</th>\n",
       "      <td>2016-12-27 13:19:41</td>\n",
       "      <td>2020-04-23 19:33:00</td>\n",
       "      <td>2020-03-24 10:02:22</td>\n",
       "      <td>Product Design</td>\n",
       "      <td>10000.000000</td>\n",
       "      <td>30</td>\n",
       "      <td>1182</td>\n",
       "      <td>0</td>\n",
       "      <td>0</td>\n",
       "      <td>0</td>\n",
       "      <td>...</td>\n",
       "      <td>0</td>\n",
       "      <td>0</td>\n",
       "      <td>0</td>\n",
       "      <td>0</td>\n",
       "      <td>0</td>\n",
       "      <td>0</td>\n",
       "      <td>0</td>\n",
       "      <td>0</td>\n",
       "      <td>0</td>\n",
       "      <td>0</td>\n",
       "    </tr>\n",
       "    <tr>\n",
       "      <th>1488247508</th>\n",
       "      <td>2020-07-17 19:34:35</td>\n",
       "      <td>2020-08-26 23:59:00</td>\n",
       "      <td>2020-07-28 08:05:39</td>\n",
       "      <td>Product Design</td>\n",
       "      <td>10000.000000</td>\n",
       "      <td>29</td>\n",
       "      <td>10</td>\n",
       "      <td>0</td>\n",
       "      <td>0</td>\n",
       "      <td>0</td>\n",
       "      <td>...</td>\n",
       "      <td>0</td>\n",
       "      <td>0</td>\n",
       "      <td>0</td>\n",
       "      <td>0</td>\n",
       "      <td>0</td>\n",
       "      <td>0</td>\n",
       "      <td>0</td>\n",
       "      <td>0</td>\n",
       "      <td>0</td>\n",
       "      <td>0</td>\n",
       "    </tr>\n",
       "  </tbody>\n",
       "</table>\n",
       "<p>5 rows × 27 columns</p>\n",
       "</div>"
      ],
      "text/plain": [
       "                     created_at             deadline          launched_at  \\\n",
       "id                                                                          \n",
       "1846656783  2020-04-16 05:18:45  2020-05-15 01:58:55  2020-04-24 01:58:55   \n",
       "1091394927  2020-05-27 06:47:29  2020-07-09 09:00:00  2020-06-09 09:14:06   \n",
       "1892452780  2020-04-15 07:11:52  2020-07-13 05:22:08  2020-06-13 05:22:08   \n",
       "591954572   2016-12-27 13:19:41  2020-04-23 19:33:00  2020-03-24 10:02:22   \n",
       "1488247508  2020-07-17 19:34:35  2020-08-26 23:59:00  2020-07-28 08:05:39   \n",
       "\n",
       "                sub_category      goal_usd  campaign_duration  \\\n",
       "id                                                              \n",
       "1846656783  Children's Books   3410.199225                 21   \n",
       "1091394927    Product Design   5000.000000                 29   \n",
       "1892452780    Product Design   7700.000000                 30   \n",
       "591954572     Product Design  10000.000000                 30   \n",
       "1488247508    Product Design  10000.000000                 29   \n",
       "\n",
       "            create_to_launch_duration  Failed  region_AM_non_US  region_AP  \\\n",
       "id                                                                           \n",
       "1846656783                          7       0                 0          0   \n",
       "1091394927                         13       0                 0          0   \n",
       "1892452780                         58       0                 0          0   \n",
       "591954572                        1182       0                 0          0   \n",
       "1488247508                         10       0                 0          0   \n",
       "\n",
       "            ...  main_category_Fashion  main_category_Film & Video  \\\n",
       "id          ...                                                      \n",
       "1846656783  ...                      0                           0   \n",
       "1091394927  ...                      0                           0   \n",
       "1892452780  ...                      0                           0   \n",
       "591954572   ...                      0                           0   \n",
       "1488247508  ...                      0                           0   \n",
       "\n",
       "            main_category_Food  main_category_Games  main_category_Journalism  \\\n",
       "id                                                                              \n",
       "1846656783                   0                    0                         0   \n",
       "1091394927                   0                    0                         0   \n",
       "1892452780                   0                    0                         0   \n",
       "591954572                    0                    0                         0   \n",
       "1488247508                   0                    0                         0   \n",
       "\n",
       "            main_category_Music  main_category_Photography  \\\n",
       "id                                                           \n",
       "1846656783                    0                          0   \n",
       "1091394927                    0                          0   \n",
       "1892452780                    0                          0   \n",
       "591954572                     0                          0   \n",
       "1488247508                    0                          0   \n",
       "\n",
       "            main_category_Publishing  main_category_Technology  \\\n",
       "id                                                               \n",
       "1846656783                         1                         0   \n",
       "1091394927                         0                         0   \n",
       "1892452780                         0                         0   \n",
       "591954572                          0                         0   \n",
       "1488247508                         0                         0   \n",
       "\n",
       "            main_category_Theater  \n",
       "id                                 \n",
       "1846656783                      0  \n",
       "1091394927                      0  \n",
       "1892452780                      0  \n",
       "591954572                       0  \n",
       "1488247508                      0  \n",
       "\n",
       "[5 rows x 27 columns]"
      ]
     },
     "execution_count": 3,
     "metadata": {},
     "output_type": "execute_result"
    }
   ],
   "source": [
    "df.head()"
   ]
  },
  {
   "cell_type": "code",
   "execution_count": 4,
   "id": "7e26ee4c",
   "metadata": {},
   "outputs": [
    {
     "name": "stdout",
     "output_type": "stream",
     "text": [
      "0    0.768566\n",
      "1    0.231434\n",
      "Name: Failed, dtype: float64\n"
     ]
    },
    {
     "data": {
      "image/png": "[encoded data removed]",
      "text/plain": [
       "<Figure size 432x288 with 1 Axes>"
      ]
     },
     "metadata": {
      "needs_background": "light"
     },
     "output_type": "display_data"
    }
   ],
   "source": [
    "target = df.Failed.value_counts(normalize=True) \n",
    "print(target)\n",
    "sns.barplot(target.index, target.values)\n",
    "plt.title('Kickstarter Failed Ratio')\n",
    "plt.ylabel('Percentage of Campaign', fontsize=12);"
   ]
  },
  {
   "cell_type": "markdown",
   "id": "7772bc1b",
   "metadata": {},
   "source": [
    "### Data splitting train/val/test"
   ]
  },
  {
   "cell_type": "code",
   "execution_count": 5,
   "id": "3051fb15",
   "metadata": {},
   "outputs": [],
   "source": [
    "df_m = df.drop(['created_at', 'deadline', 'launched_at', 'sub_category'], axis=1)"
   ]
  },
  {
   "cell_type": "code",
   "execution_count": 6,
   "id": "0efc6e9d",
   "metadata": {},
   "outputs": [],
   "source": [
    "X, y = df_m.drop(['Failed'], axis=1), df_m.Failed\n",
    "\n",
    "X_train, X_rem, y_train, y_rem = train_test_split(X, y, test_size=0.4,random_state=42)\n",
    "X_val, X_test, y_val, y_test = train_test_split(X_rem, y_rem, test_size=0.5,random_state=42)\n",
    "\n",
    "scaler = StandardScaler()\n",
    "X_train_sc = scaler.fit_transform(X_train)\n",
    "\n",
    "scaler = StandardScaler()\n",
    "X_val_sc = scaler.fit_transform(X_val)\n",
    "\n",
    "scaler = StandardScaler()\n",
    "X_test_sc = scaler.fit_transform(X_test)"
   ]
  },
  {
   "cell_type": "markdown",
   "id": "7f5926c8",
   "metadata": {},
   "source": [
    "# Model 1: KNN - GridSearchCV"
   ]
  },
  {
   "cell_type": "code",
   "execution_count": 7,
   "id": "c5f738d7",
   "metadata": {},
   "outputs": [],
   "source": [
    "from sklearn.model_selection import GridSearchCV"
   ]
  },
  {
   "cell_type": "code",
   "execution_count": 8,
   "id": "f4ce03be",
   "metadata": {},
   "outputs": [],
   "source": [
    "# define the parameter values that should be searched\n",
    "k_range = list(range(1, 21))\n",
    "weight_options = ['uniform', 'distance']"
   ]
  },
  {
   "cell_type": "code",
   "execution_count": 9,
   "id": "9b6c419d",
   "metadata": {},
   "outputs": [
    {
     "name": "stdout",
     "output_type": "stream",
     "text": [
      "{'n_neighbors': [1, 2, 3, 4, 5, 6, 7, 8, 9, 10, 11, 12, 13, 14, 15, 16, 17, 18, 19, 20], 'weights': ['uniform', 'distance']}\n"
     ]
    }
   ],
   "source": [
    "# create a parameter grid: map the parameter names to the values that should be searched\n",
    "param_grid = dict(n_neighbors=k_range, weights=weight_options)\n",
    "print(param_grid)"
   ]
  },
  {
   "cell_type": "code",
   "execution_count": 10,
   "id": "75098827",
   "metadata": {},
   "outputs": [
    {
     "data": {
      "text/plain": [
       "GridSearchCV(cv=10, estimator=KNeighborsClassifier(),\n",
       "             param_grid={'n_neighbors': [1, 2, 3, 4, 5, 6, 7, 8, 9, 10, 11, 12,\n",
       "                                         13, 14, 15, 16, 17, 18, 19, 20],\n",
       "                         'weights': ['uniform', 'distance']},\n",
       "             scoring='f1')"
      ]
     },
     "execution_count": 10,
     "metadata": {},
     "output_type": "execute_result"
    }
   ],
   "source": [
    "# Train on training set, and Test on testing set\n",
    "knn = KNeighborsClassifier(n_neighbors=5)\n",
    "grid = GridSearchCV(knn, param_grid, cv=10, scoring='f1')\n",
    "grid.fit(X_train_sc, y_train)"
   ]
  },
  {
   "cell_type": "code",
   "execution_count": 11,
   "id": "39569aa2",
   "metadata": {},
   "outputs": [
    {
     "name": "stdout",
     "output_type": "stream",
     "text": [
      "Best params:  {'n_neighbors': 13, 'weights': 'uniform'}\n",
      "Best estimator:  KNeighborsClassifier(n_neighbors=13)\n",
      "Best score:  0.5212659144665286\n"
     ]
    }
   ],
   "source": [
    "print(\"Best params: \", grid.best_params_)\n",
    "print(\"Best estimator: \", grid.best_estimator_)\n",
    "print(\"Best score: \", grid.best_score_)"
   ]
  },
  {
   "cell_type": "code",
   "execution_count": 12,
   "id": "58b64ef1",
   "metadata": {},
   "outputs": [
    {
     "name": "stdout",
     "output_type": "stream",
     "text": [
      "              precision    recall  f1-score   support\n",
      "\n",
      "           0       0.86      0.93      0.89      4906\n",
      "           1       0.69      0.48      0.57      1485\n",
      "\n",
      "    accuracy                           0.83      6391\n",
      "   macro avg       0.77      0.71      0.73      6391\n",
      "weighted avg       0.82      0.83      0.82      6391\n",
      "\n"
     ]
    }
   ],
   "source": [
    "# Train on best parameters and get score on validation data\n",
    "knn = KNeighborsClassifier(n_neighbors=13, weights='uniform')\n",
    "knn.fit(X_train_sc, y_train)\n",
    "\n",
    "knn_pred = knn.predict(X_val_sc)\n",
    "knn_confusion = confusion_matrix(y_val,knn_pred)\n",
    "\n",
    "knn_ac = knn.score(X_val_sc, y_val)\n",
    "knn_precision = precision_score(y_val, knn_pred)\n",
    "knn_recall = recall_score(y_val, knn_pred)\n",
    "knn_f1 = f1_score(y_val, knn_pred)\n",
    "\n",
    "print(classification_report(y_val, knn_pred))"
   ]
  },
  {
   "cell_type": "code",
   "execution_count": 13,
   "id": "78c78f49",
   "metadata": {},
   "outputs": [
    {
     "data": {
      "text/plain": [
       "array([[4576,  330],\n",
       "       [ 766,  719]])"
      ]
     },
     "execution_count": 13,
     "metadata": {},
     "output_type": "execute_result"
    }
   ],
   "source": [
    "knn_confusion"
   ]
  },
  {
   "cell_type": "code",
   "execution_count": 14,
   "id": "a86cf936",
   "metadata": {},
   "outputs": [],
   "source": [
    "# Start to make a dict of scores for each model\n",
    "f1_scores = {}\n",
    "f1_scores['knn_f1'] = knn_f1\n",
    "\n",
    "recall_scores = {}\n",
    "recall_scores['knn_recall'] = knn_recall"
   ]
  },
  {
   "cell_type": "code",
   "execution_count": 93,
   "id": "c858ba05",
   "metadata": {},
   "outputs": [
    {
     "name": "stdout",
     "output_type": "stream",
     "text": [
      "0.8204847084790012\n"
     ]
    }
   ],
   "source": [
    "knn_y_score = knn.predict_proba(X_val_sc)[:,1]\n",
    "knn_fpr, knn_tpr, knn_auc_thresholds = roc_curve(y_val, knn_y_score)\n",
    "roc_auc_knn = auc(knn_fpr, knn_tpr)\n",
    "print(roc_auc_knn)"
   ]
  },
  {
   "cell_type": "markdown",
   "id": "1512076d",
   "metadata": {},
   "source": [
    "# Model 2: Logistic Regression - GridSearchCV"
   ]
  },
  {
   "cell_type": "code",
   "execution_count": 15,
   "id": "9f42e26f",
   "metadata": {},
   "outputs": [
    {
     "name": "stdout",
     "output_type": "stream",
     "text": [
      "{'C': 1, 'penalty': 'l2'} LogisticRegression(C=1) [[4516  390]\n",
      " [ 883  602]]               precision    recall  f1-score   support\n",
      "\n",
      "           0       0.84      0.92      0.88      4906\n",
      "           1       0.61      0.41      0.49      1485\n",
      "\n",
      "    accuracy                           0.80      6391\n",
      "   macro avg       0.72      0.66      0.68      6391\n",
      "weighted avg       0.78      0.80      0.79      6391\n",
      "\n"
     ]
    }
   ],
   "source": [
    "grid_values = {'penalty': ['l1','l2'], 'C': [0.001,0.01,0.1,1,10,100,1000]}\n",
    "lr = LogisticRegression()\n",
    "lr_grid = GridSearchCV(lr, param_grid = grid_values, scoring = 'f1')\n",
    "lr_grid.fit(X_train_sc, y_train)\n",
    "lr_grid_preds = lr_grid.predict(X_val_sc)\n",
    "\n",
    "lr_grid_best_params = lr_grid.best_params_\n",
    "lr_grid_best_estimator = lr_grid.best_estimator_\n",
    "lr_grid_best_cm = confusion_matrix(y_val,lr_grid_preds)\n",
    "lr_grid_best_cr = classification_report(y_val,lr_grid_preds)\n",
    "print(lr_grid_best_params, lr_grid_best_estimator, lr_grid_best_cm, lr_grid_best_cr)"
   ]
  },
  {
   "cell_type": "code",
   "execution_count": 16,
   "id": "9f4eaa1b",
   "metadata": {},
   "outputs": [
    {
     "data": {
      "text/plain": [
       "array([[4516,  390],\n",
       "       [ 883,  602]])"
      ]
     },
     "execution_count": 16,
     "metadata": {},
     "output_type": "execute_result"
    }
   ],
   "source": [
    "lr_grid_best_cm"
   ]
  },
  {
   "cell_type": "code",
   "execution_count": 17,
   "id": "7fc901d6",
   "metadata": {},
   "outputs": [
    {
     "data": {
      "text/plain": [
       "{'C': 1, 'penalty': 'l2'}"
      ]
     },
     "execution_count": 17,
     "metadata": {},
     "output_type": "execute_result"
    }
   ],
   "source": [
    "lr_grid_best_params"
   ]
  },
  {
   "cell_type": "code",
   "execution_count": 18,
   "id": "7ca9b517",
   "metadata": {},
   "outputs": [
    {
     "data": {
      "text/plain": [
       "'              precision    recall  f1-score   support\\n\\n           0       0.84      0.92      0.88      4906\\n           1       0.61      0.41      0.49      1485\\n\\n    accuracy                           0.80      6391\\n   macro avg       0.72      0.66      0.68      6391\\nweighted avg       0.78      0.80      0.79      6391\\n'"
      ]
     },
     "execution_count": 18,
     "metadata": {},
     "output_type": "execute_result"
    }
   ],
   "source": [
    "classification_report(y_val,lr_grid_preds)"
   ]
  },
  {
   "cell_type": "code",
   "execution_count": 19,
   "id": "0a4ee554",
   "metadata": {},
   "outputs": [],
   "source": [
    "from sklearn.metrics import accuracy_score,recall_score,precision_score,f1_score"
   ]
  },
  {
   "cell_type": "code",
   "execution_count": 20,
   "id": "bf3fade4",
   "metadata": {},
   "outputs": [
    {
     "data": {
      "text/plain": [
       "0.4860718611223254"
      ]
     },
     "execution_count": 20,
     "metadata": {},
     "output_type": "execute_result"
    }
   ],
   "source": [
    "f1_score(y_val, lr_grid_preds)"
   ]
  },
  {
   "cell_type": "code",
   "execution_count": 21,
   "id": "33fc3b17",
   "metadata": {},
   "outputs": [
    {
     "data": {
      "text/plain": [
       "0.4053872053872054"
      ]
     },
     "execution_count": 21,
     "metadata": {},
     "output_type": "execute_result"
    }
   ],
   "source": [
    "recall_score(y_val, lr_grid_preds)"
   ]
  },
  {
   "cell_type": "code",
   "execution_count": 22,
   "id": "17eb6853",
   "metadata": {},
   "outputs": [],
   "source": [
    "f1_scores['LR_f1'] = f1_score(y_val, lr_grid_preds)\n",
    "recall_scores['LR_recall'] = recall_score(y_val, lr_grid_preds)"
   ]
  },
  {
   "cell_type": "code",
   "execution_count": 23,
   "id": "a0ad4ef1",
   "metadata": {},
   "outputs": [
    {
     "data": {
      "text/plain": [
       "{'knn_f1': 0.5674822415153907, 'LR_f1': 0.4860718611223254}"
      ]
     },
     "execution_count": 23,
     "metadata": {},
     "output_type": "execute_result"
    }
   ],
   "source": [
    "f1_scores"
   ]
  },
  {
   "cell_type": "code",
   "execution_count": 24,
   "id": "42ddf1be",
   "metadata": {},
   "outputs": [
    {
     "data": {
      "text/plain": [
       "{'knn_recall': 0.4841750841750842, 'LR_recall': 0.4053872053872054}"
      ]
     },
     "execution_count": 24,
     "metadata": {},
     "output_type": "execute_result"
    }
   ],
   "source": [
    "recall_scores"
   ]
  },
  {
   "cell_type": "code",
   "execution_count": 96,
   "id": "02a38d9e",
   "metadata": {},
   "outputs": [
    {
     "name": "stdout",
     "output_type": "stream",
     "text": [
      "0.8033636404814554\n"
     ]
    }
   ],
   "source": [
    "lr_y_score = lr_grid.predict_proba(X_val_sc)[:,1]\n",
    "lr_fpr, lr_tpr, lr_auc_thresholds = roc_curve(y_val, lr_y_score)\n",
    "roc_auc_lr = auc(lr_fpr, lr_tpr)\n",
    "print(roc_auc_lr)"
   ]
  },
  {
   "cell_type": "markdown",
   "id": "903d6c73",
   "metadata": {},
   "source": [
    "# Model 3: Decision Tree"
   ]
  },
  {
   "cell_type": "code",
   "execution_count": 25,
   "id": "7db25e77",
   "metadata": {},
   "outputs": [
    {
     "name": "stdout",
     "output_type": "stream",
     "text": [
      "              precision    recall  f1-score   support\n",
      "\n",
      "           0       0.86      0.85      0.85      4906\n",
      "           1       0.52      0.53      0.52      1485\n",
      "\n",
      "    accuracy                           0.78      6391\n",
      "   macro avg       0.69      0.69      0.69      6391\n",
      "weighted avg       0.78      0.78      0.78      6391\n",
      "\n"
     ]
    }
   ],
   "source": [
    "# No need to scale feature magnitude for DT and RF\n",
    "dt = DecisionTreeClassifier()\n",
    "dt.fit(X_train, y_train)\n",
    "dt_pred = dt.predict(X_val)\n",
    "\n",
    "dt_ac = dt.score(X_val, y_val)\n",
    "dt_precision = precision_score(y_val, dt_pred)\n",
    "dt_recall = recall_score(y_val, dt_pred)\n",
    "dt_f1 = f1_score(y_val, dt_pred)\n",
    "\n",
    "print(classification_report(y_val, dt_pred))"
   ]
  },
  {
   "cell_type": "code",
   "execution_count": 26,
   "id": "1c08b706",
   "metadata": {},
   "outputs": [
    {
     "name": "stdout",
     "output_type": "stream",
     "text": [
      "Decision Tree validation metrics: \n",
      " Accuracy: 0.7753 \n",
      " Precision: 0.5160 \n",
      " Recall: 0.5333 \n",
      " F1: 0.5245\n"
     ]
    }
   ],
   "source": [
    "print('Decision Tree validation metrics: \\n Accuracy: %.4f \\n Precision: %.4f \\n Recall: %.4f \\n F1: %.4f' %\n",
    "        (dt_ac, \n",
    "         dt_precision, \n",
    "         dt_recall,\n",
    "         dt_f1)\n",
    "     )"
   ]
  },
  {
   "cell_type": "code",
   "execution_count": 28,
   "id": "abaf393f",
   "metadata": {},
   "outputs": [],
   "source": [
    "f1_scores['DT_f1'] = dt_f1\n",
    "recall_scores['DT_recall'] = dt_recall"
   ]
  },
  {
   "cell_type": "code",
   "execution_count": 31,
   "id": "6eb6620d",
   "metadata": {},
   "outputs": [
    {
     "name": "stdout",
     "output_type": "stream",
     "text": [
      "[[4163  743]\n",
      " [ 693  792]]\n"
     ]
    }
   ],
   "source": [
    "print(confusion_matrix(y_val, dt_pred))"
   ]
  },
  {
   "cell_type": "code",
   "execution_count": 98,
   "id": "eca16c69",
   "metadata": {},
   "outputs": [
    {
     "name": "stdout",
     "output_type": "stream",
     "text": [
      "0.6916938785874783\n"
     ]
    }
   ],
   "source": [
    "dt_y_score = dt.predict_proba(X_val)[:, 1]\n",
    "dt_fpr, dt_tpr, auc_thresholds = roc_curve(y_val, dt_y_score)\n",
    "roc_auc_dt = auc(dt_fpr, dt_tpr)\n",
    "print(roc_auc_dt)"
   ]
  },
  {
   "cell_type": "markdown",
   "id": "8d07668c",
   "metadata": {},
   "source": [
    "# Model 4: Random Forest - GridSearchCV"
   ]
  },
  {
   "cell_type": "code",
   "execution_count": 66,
   "id": "254899c1",
   "metadata": {},
   "outputs": [
    {
     "name": "stdout",
     "output_type": "stream",
     "text": [
      "              precision    recall  f1-score   support\n",
      "\n",
      "           0       0.87      0.92      0.89      4906\n",
      "           1       0.68      0.54      0.60      1485\n",
      "\n",
      "    accuracy                           0.83      6391\n",
      "   macro avg       0.77      0.73      0.75      6391\n",
      "weighted avg       0.82      0.83      0.83      6391\n",
      "\n"
     ]
    }
   ],
   "source": [
    "rf = RandomForestClassifier()\n",
    "rf.fit(X_train, y_train)\n",
    "rf_pred = rf.predict(X_val)\n",
    "\n",
    "rf_ac = rf.score(X_val, y_val)\n",
    "rf_precision = precision_score(y_val, rf_pred)\n",
    "rf_recall = recall_score(y_val, rf_pred)\n",
    "rf_f1 = f1_score(y_val, rf_pred)\n",
    "\n",
    "rf_y_score = rf.predict_proba(X_val)[:, 1]\n",
    "rf_fpr, rf_tpr, auc_thresholds = roc_curve(y_val, rf_y_score)\n",
    "roc_auc_rf = auc(rf_fpr, rf_tpr)\n",
    "\n",
    "print(classification_report(y_val, rf_pred))"
   ]
  },
  {
   "cell_type": "code",
   "execution_count": 67,
   "id": "471cc775",
   "metadata": {},
   "outputs": [
    {
     "name": "stdout",
     "output_type": "stream",
     "text": [
      "Random Forest validation metrics: \n",
      " Accuracy: 0.8329 \n",
      " Precision: 0.6757 \n",
      " Recall: 0.5401 \n",
      " F1: 0.6003 \n",
      " ROC: 0.8403\n"
     ]
    }
   ],
   "source": [
    "print('Random Forest validation metrics: \\n Accuracy: %.4f \\n Precision: %.4f \\n Recall: %.4f \\n F1: %.4f \\n ROC: %.4f' %\n",
    "        (rf_ac, \n",
    "         rf_precision, \n",
    "         rf_recall,\n",
    "         rf_f1,\n",
    "         roc_auc_rf)\n",
    "     )"
   ]
  },
  {
   "cell_type": "code",
   "execution_count": 68,
   "id": "df86634c",
   "metadata": {},
   "outputs": [
    {
     "data": {
      "text/plain": [
       "array([[4521,  385],\n",
       "       [ 683,  802]])"
      ]
     },
     "execution_count": 68,
     "metadata": {},
     "output_type": "execute_result"
    }
   ],
   "source": [
    "confusion_matrix(y_val, rf_pred)"
   ]
  },
  {
   "cell_type": "code",
   "execution_count": 69,
   "id": "a51f319a",
   "metadata": {},
   "outputs": [],
   "source": [
    "f1_scores['RF_f1'] = rf_f1\n",
    "recall_scores['RF_recall'] = rf_recall"
   ]
  },
  {
   "cell_type": "markdown",
   "id": "631594e0",
   "metadata": {},
   "source": [
    "### Model 4.2: RF Parameter tuning"
   ]
  },
  {
   "cell_type": "code",
   "execution_count": 58,
   "id": "6a5da314",
   "metadata": {},
   "outputs": [],
   "source": [
    "# # from sklearn.model_selection import RandomizedSearchCV\n",
    "# # # Number of trees in random forest\n",
    "# n_estimators = [int(x) for x in np.linspace(start = 10, stop = 1000, num = 10)]\n",
    "# # # Number of features to consider at every split\n",
    "# # max_features = ['auto', 'sqrt']\n",
    "# # # Maximum number of levels in tree\n",
    "# # max_depth = [int(x) for x in np.linspace(10, 110, num = 11)]\n",
    "# # max_depth.append(None)\n",
    "# # # Minimum number of samples required to split a node\n",
    "# # min_samples_split = [2, 5, 10]\n",
    "# # # Minimum number of samples required at each leaf node\n",
    "# # min_samples_leaf = [1, 2, 4]\n",
    "# # # Method of selecting samples for training each tree\n",
    "# # bootstrap = [True, False]\n",
    "# # #Criterion\n",
    "# criterion = ['gini', 'entropy']\n",
    "# # # Create the random grid\n",
    "# # random_grid = {'n_estimators': n_estimators,\n",
    "# #                'max_features': max_features,\n",
    "# #                'max_depth': max_depth,\n",
    "# #                'min_samples_split': min_samples_split,\n",
    "# #                'min_samples_leaf': min_samples_leaf,\n",
    "# #                'bootstrap': bootstrap,\n",
    "# #               'critertion': criterion}\n",
    "# param_grid = { \n",
    "#     'n_estimators': n_estimators,\n",
    "#     'criterion' :['gini', 'entropy']\n",
    "# }"
   ]
  },
  {
   "cell_type": "code",
   "execution_count": 59,
   "id": "14d61e08",
   "metadata": {},
   "outputs": [
    {
     "name": "stdout",
     "output_type": "stream",
     "text": [
      "Fitting 5 folds for each of 20 candidates, totalling 100 fits\n"
     ]
    },
    {
     "data": {
      "text/plain": [
       "GridSearchCV(cv=5, estimator=RandomForestClassifier(), n_jobs=-1,\n",
       "             param_grid={'criterion': ['gini', 'entropy'],\n",
       "                         'n_estimators': [10, 120, 230, 340, 450, 560, 670, 780,\n",
       "                                          890, 1000]},\n",
       "             scoring='f1', verbose=2)"
      ]
     },
     "execution_count": 59,
     "metadata": {},
     "output_type": "execute_result"
    }
   ],
   "source": [
    "# # Use the random grid to search for best hyperparameters \n",
    "# rf_random = GridSearchCV(estimator = rf, param_grid = param_grid, cv = 5, \n",
    "#                                scoring = 'f1', verbose=2, n_jobs=-1)\n",
    "# rf_random.fit(X_train, y_train)"
   ]
  },
  {
   "cell_type": "code",
   "execution_count": 60,
   "id": "c645ab41",
   "metadata": {},
   "outputs": [
    {
     "name": "stdout",
     "output_type": "stream",
     "text": [
      "{'criterion': 'gini', 'n_estimators': 450} RandomForestClassifier(n_estimators=450) [[4512  394]\n",
      " [ 696  789]]               precision    recall  f1-score   support\n",
      "\n",
      "           0       0.87      0.92      0.89      4906\n",
      "           1       0.67      0.53      0.59      1485\n",
      "\n",
      "    accuracy                           0.83      6391\n",
      "   macro avg       0.77      0.73      0.74      6391\n",
      "weighted avg       0.82      0.83      0.82      6391\n",
      "\n"
     ]
    }
   ],
   "source": [
    "# rf_grid_preds = rf_random.predict(X_val)\n",
    "# rf_best_params = rf_random.best_params_\n",
    "# rf_best_estimator = rf_random.best_estimator_\n",
    "# rf_best_cm = confusion_matrix(y_val,rf_grid_preds)\n",
    "# rf_best_cr = classification_report(y_val,rf_grid_preds)\n",
    "# print(rf_best_params, rf_best_estimator, rf_best_cm, rf_best_cr)"
   ]
  },
  {
   "cell_type": "code",
   "execution_count": 70,
   "id": "d1a71de6",
   "metadata": {},
   "outputs": [
    {
     "name": "stdout",
     "output_type": "stream",
     "text": [
      "Random Forest validation metrics: \n",
      " Accuracy: 0.5915 \n",
      " Precision: 0.6669 \n",
      " Recall: 0.5313 \n",
      " F1: 0.5915 \n",
      " ROC: 0.8403\n"
     ]
    }
   ],
   "source": [
    "# rf_ac = rf_random.score(X_val, y_val)\n",
    "# rf_precision = precision_score(y_val, rf_grid_preds)\n",
    "# rf_recall = recall_score(y_val, rf_grid_preds)\n",
    "# rf_f1 = f1_score(y_val, rf_grid_preds)\n",
    "\n",
    "# print('Random Forest validation metrics: \\n Accuracy: %.4f \\n Precision: %.4f \\n Recall: %.4f \\n F1: %.4f \\n ROC: %.4f' %\n",
    "#         (rf_ac, \n",
    "#          rf_precision, \n",
    "#          rf_recall,\n",
    "#          rf_f1,\n",
    "#          roc_auc_rf)\n",
    "#      )"
   ]
  },
  {
   "cell_type": "code",
   "execution_count": 71,
   "id": "dcc708d3",
   "metadata": {},
   "outputs": [],
   "source": [
    "# confusion_matrix(y_val, rf_grid_preds)"
   ]
  },
  {
   "cell_type": "markdown",
   "id": "9ab77d3a",
   "metadata": {},
   "source": [
    "# Model 5: XGBoost"
   ]
  },
  {
   "cell_type": "code",
   "execution_count": 72,
   "id": "71f08ecc",
   "metadata": {},
   "outputs": [
    {
     "name": "stdout",
     "output_type": "stream",
     "text": [
      "[11:02:04] WARNING: ../src/learner.cc:1095: Starting in XGBoost 1.3.0, the default evaluation metric used with the objective 'binary:logistic' was changed from 'error' to 'logloss'. Explicitly set eval_metric if you'd like to restore the old behavior.\n",
      "              precision    recall  f1-score   support\n",
      "\n",
      "           0       0.87      0.94      0.90      4906\n",
      "           1       0.73      0.51      0.60      1485\n",
      "\n",
      "    accuracy                           0.84      6391\n",
      "   macro avg       0.80      0.73      0.75      6391\n",
      "weighted avg       0.83      0.84      0.83      6391\n",
      "\n"
     ]
    }
   ],
   "source": [
    "xg = XGBClassifier()\n",
    "xg.fit(X_train, y_train)\n",
    "xg_pred = xg.predict(X_val)\n",
    "\n",
    "xg_ac = xg.score(X_val, y_val)\n",
    "xg_precision = precision_score(y_val, xg_pred)\n",
    "xg_recall = recall_score(y_val, xg_pred)\n",
    "xg_f1 = f1_score(y_val, xg_pred)\n",
    "\n",
    "xg_y_score = xg.predict_proba(X_val)[:, 1]\n",
    "xg_fpr, xg_tpr, auc_thresholds = roc_curve(y_val, xg_y_score)\n",
    "roc_auc_xg = auc(xg_fpr, xg_tpr)\n",
    "\n",
    "print(classification_report(y_val, xg_pred))"
   ]
  },
  {
   "cell_type": "code",
   "execution_count": 73,
   "id": "b06934d9",
   "metadata": {},
   "outputs": [
    {
     "name": "stdout",
     "output_type": "stream",
     "text": [
      "XGBoost validation metrics: \n",
      " Accuracy: 0.8435 \n",
      " Precision: 0.7325 \n",
      " Recall: 0.5145 \n",
      " F1: 0.6044 \n",
      " ROC: 0.8561\n"
     ]
    }
   ],
   "source": [
    "print('XGBoost validation metrics: \\n Accuracy: %.4f \\n Precision: %.4f \\n Recall: %.4f \\n F1: %.4f \\n ROC: %.4f' %\n",
    "        (xg_ac, \n",
    "         xg_precision, \n",
    "         xg_recall,\n",
    "         xg_f1,\n",
    "         roc_auc_xg)\n",
    "     )\n"
   ]
  },
  {
   "cell_type": "code",
   "execution_count": 74,
   "id": "a7b1195e",
   "metadata": {},
   "outputs": [
    {
     "data": {
      "text/plain": [
       "array([[4627,  279],\n",
       "       [ 721,  764]])"
      ]
     },
     "execution_count": 74,
     "metadata": {},
     "output_type": "execute_result"
    }
   ],
   "source": [
    "confusion_matrix(y_val, xg_pred)"
   ]
  },
  {
   "cell_type": "markdown",
   "id": "de330079",
   "metadata": {},
   "source": [
    "## Model 5.2: XGBoost - Initial Parameter Tuning"
   ]
  },
  {
   "cell_type": "code",
   "execution_count": 79,
   "id": "f3b89338",
   "metadata": {},
   "outputs": [
    {
     "name": "stdout",
     "output_type": "stream",
     "text": [
      "Fitting 5 folds for each of 20 candidates, totalling 100 fits\n",
      "[11:23:23] WARNING: ../src/learner.cc:1095: Starting in XGBoost 1.3.0, the default evaluation metric used with the objective 'binary:logistic' was changed from 'error' to 'logloss'. Explicitly set eval_metric if you'd like to restore the old behavior.\n",
      "{'learning_rate': 0.1, 'max_depth': 5, 'n_estimators': 255}\n",
      "XGBClassifier(base_score=0.5, booster='gbtree', colsample_bylevel=1,\n",
      "              colsample_bynode=1, colsample_bytree=1, gamma=0, gpu_id=-1,\n",
      "              importance_type='gain', interaction_constraints='',\n",
      "              learning_rate=0.1, max_delta_step=0, max_depth=5,\n",
      "              min_child_weight=1, missing=nan, monotone_constraints='()',\n",
      "              n_estimators=255, n_jobs=4, num_parallel_tree=1, random_state=0,\n",
      "              reg_alpha=0, reg_lambda=1, scale_pos_weight=1, subsample=1,\n",
      "              tree_method='exact', validate_parameters=1, verbosity=None)\n",
      "confusion matrix:\n",
      "[[4644  262]\n",
      " [ 721  764]]\n",
      "              precision    recall  f1-score   support\n",
      "\n",
      "           0       0.87      0.95      0.90      4906\n",
      "           1       0.74      0.51      0.61      1485\n",
      "\n",
      "    accuracy                           0.85      6391\n",
      "   macro avg       0.81      0.73      0.76      6391\n",
      "weighted avg       0.84      0.85      0.84      6391\n",
      "\n"
     ]
    }
   ],
   "source": [
    "param_grid= dict(\n",
    "    max_depth = list(range(5, 7)),\n",
    "    learning_rate = [0.1, 0.3],\n",
    "    n_estimators = [int(x) for x in np.linspace(start = 10, stop = 500, num = 5)]\n",
    ")\n",
    "xg_grid_search = XGBClassifier()\n",
    "xg_grid = GridSearchCV(xg_grid_search, param_grid=param_grid, cv=5, scoring='f1', verbose=2, n_jobs=-1)\n",
    "xg_grid.fit(X_train, y_train)\n",
    "xg_grid_pred = xg_grid.predict(X_val)\n",
    "\n",
    "xg_best_params = xg_grid.best_params_\n",
    "xg_best_estimator = xg_grid.best_estimator_\n",
    "xg_best_cm = confusion_matrix(y_val, xg_grid_pred)\n",
    "xg_best_cr = classification_report(y_val, xg_grid_pred)\n",
    "\n",
    "print(xg_best_params)\n",
    "print(xg_best_estimator)\n",
    "print('confusion matrix:')\n",
    "print(xg_best_cm)\n",
    "print(xg_best_cr)"
   ]
  },
  {
   "cell_type": "code",
   "execution_count": 85,
   "id": "34568b7d",
   "metadata": {},
   "outputs": [
    {
     "name": "stdout",
     "output_type": "stream",
     "text": [
      "              precision    recall  f1-score   support\n",
      "\n",
      "           0       0.87      0.95      0.90      4906\n",
      "           1       0.74      0.51      0.61      1485\n",
      "\n",
      "    accuracy                           0.85      6391\n",
      "   macro avg       0.81      0.73      0.76      6391\n",
      "weighted avg       0.84      0.85      0.84      6391\n",
      "\n"
     ]
    }
   ],
   "source": [
    "xg_ac = xg_grid.score(X_val, y_val)\n",
    "xg_precision = precision_score(y_val, xg_grid_pred)\n",
    "xg_recall = recall_score(y_val, xg_grid_pred)\n",
    "xg_f1 = f1_score(y_val, xg_grid_pred)\n",
    "\n",
    "xg_y_score = xg_grid.predict_proba(X_val)[:, 1]\n",
    "xg_fpr, xg_tpr, auc_thresholds = roc_curve(y_val, xg_y_score)\n",
    "roc_auc_xg = auc(xg_fpr, xg_tpr)\n",
    "\n",
    "print(classification_report(y_val, xg_grid_pred))"
   ]
  },
  {
   "cell_type": "code",
   "execution_count": 86,
   "id": "93fff8be",
   "metadata": {},
   "outputs": [
    {
     "name": "stdout",
     "output_type": "stream",
     "text": [
      "XGBoost validation metrics: \n",
      " Accuracy: 0.6085 \n",
      " Precision: 0.7446 \n",
      " Recall: 0.5145 \n",
      " F1: 0.6085 \n",
      " ROC: 0.8607\n"
     ]
    }
   ],
   "source": [
    "print('XGBoost validation metrics: \\n Accuracy: %.4f \\n Precision: %.4f \\n Recall: %.4f \\n F1: %.4f \\n ROC: %.4f' %\n",
    "        (xg_ac, \n",
    "         xg_precision, \n",
    "         xg_recall,\n",
    "         xg_f1,\n",
    "         roc_auc_xg)\n",
    "     )\n"
   ]
  },
  {
   "cell_type": "code",
   "execution_count": 87,
   "id": "72d7caee",
   "metadata": {},
   "outputs": [
    {
     "data": {
      "text/plain": [
       "array([[4627,  279],\n",
       "       [ 721,  764]])"
      ]
     },
     "execution_count": 87,
     "metadata": {},
     "output_type": "execute_result"
    }
   ],
   "source": [
    "confusion_matrix(y_val, xg_pred)"
   ]
  },
  {
   "cell_type": "code",
   "execution_count": 88,
   "id": "2735d8b8",
   "metadata": {},
   "outputs": [],
   "source": [
    "f1_scores['xgb_f1'] = xg_f1\n",
    "recall_scores['xgb_recall'] = xg_recall"
   ]
  },
  {
   "cell_type": "markdown",
   "id": "eff56100",
   "metadata": {},
   "source": [
    "# Model comparison graphs"
   ]
  },
  {
   "cell_type": "markdown",
   "id": "2b9673f0",
   "metadata": {},
   "source": [
    "### Do a graph of the scores for f1 and recall"
   ]
  },
  {
   "cell_type": "code",
   "execution_count": 102,
   "id": "9d04772b",
   "metadata": {},
   "outputs": [],
   "source": [
    "import warnings\n",
    "warnings.filterwarnings('ignore')"
   ]
  },
  {
   "cell_type": "code",
   "execution_count": 103,
   "id": "f8d90ff5",
   "metadata": {},
   "outputs": [
    {
     "data": {
      "text/plain": [
       "{'knn_recall': 0.4841750841750842,\n",
       " 'LR_recall': 0.4053872053872054,\n",
       " 'DT_recall': 0.5333333333333333,\n",
       " 'RF_recall': 0.54006734006734,\n",
       " 'xgb_recall': 0.5144781144781144}"
      ]
     },
     "execution_count": 103,
     "metadata": {},
     "output_type": "execute_result"
    }
   ],
   "source": [
    "recall_scores"
   ]
  },
  {
   "cell_type": "code",
   "execution_count": 104,
   "id": "be1c60ef",
   "metadata": {},
   "outputs": [
    {
     "data": {
      "text/plain": [
       "{'knn_f1': 0.5674822415153907,\n",
       " 'LR_f1': 0.4860718611223254,\n",
       " 'DT_f1': 0.5245033112582781,\n",
       " 'RF_f1': 0.6002994011976047,\n",
       " 'xgb_f1': 0.6085225009956192}"
      ]
     },
     "execution_count": 104,
     "metadata": {},
     "output_type": "execute_result"
    }
   ],
   "source": [
    "f1_scores"
   ]
  },
  {
   "cell_type": "code",
   "execution_count": 105,
   "id": "fc894690",
   "metadata": {},
   "outputs": [],
   "source": [
    "scores_dict = {'KNN': [f1_scores['knn_f1'], recall_scores['knn_recall']],\n",
    "              'LR': [f1_scores['LR_f1'], recall_scores['LR_recall']],\n",
    "              'DT': [f1_scores['DT_f1'], recall_scores['DT_recall']],\n",
    "              'RF': [f1_scores['RF_f1'], recall_scores['RF_recall']],\n",
    "              'XGB': [f1_scores['xgb_f1'], recall_scores['xgb_recall']]}"
   ]
  },
  {
   "cell_type": "code",
   "execution_count": 106,
   "id": "dbed1e80",
   "metadata": {},
   "outputs": [
    {
     "data": {
      "text/plain": [
       "{'KNN': [0.5674822415153907, 0.4841750841750842],\n",
       " 'LR': [0.4860718611223254, 0.4053872053872054],\n",
       " 'DT': [0.5245033112582781, 0.5333333333333333],\n",
       " 'RF': [0.6002994011976047, 0.54006734006734],\n",
       " 'XGB': [0.6085225009956192, 0.5144781144781144]}"
      ]
     },
     "execution_count": 106,
     "metadata": {},
     "output_type": "execute_result"
    }
   ],
   "source": [
    "scores_dict"
   ]
  },
  {
   "cell_type": "code",
   "execution_count": 123,
   "id": "01b34332",
   "metadata": {},
   "outputs": [],
   "source": [
    "scores_df = pd.DataFrame.from_dict(scores_dict, orient = 'index',columns = ['F1', 'Recall'])"
   ]
  },
  {
   "cell_type": "code",
   "execution_count": 124,
   "id": "fe0cca77",
   "metadata": {},
   "outputs": [
    {
     "data": {
      "text/html": [
       "<div>\n",
       "<style scoped>\n",
       "    .dataframe tbody tr th:only-of-type {\n",
       "        vertical-align: middle;\n",
       "    }\n",
       "\n",
       "    .dataframe tbody tr th {\n",
       "        vertical-align: top;\n",
       "    }\n",
       "\n",
       "    .dataframe thead th {\n",
       "        text-align: right;\n",
       "    }\n",
       "</style>\n",
       "<table border=\"1\" class=\"dataframe\">\n",
       "  <thead>\n",
       "    <tr style=\"text-align: right;\">\n",
       "      <th></th>\n",
       "      <th>F1</th>\n",
       "      <th>Recall</th>\n",
       "    </tr>\n",
       "  </thead>\n",
       "  <tbody>\n",
       "    <tr>\n",
       "      <th>KNN</th>\n",
       "      <td>0.567482</td>\n",
       "      <td>0.484175</td>\n",
       "    </tr>\n",
       "    <tr>\n",
       "      <th>LR</th>\n",
       "      <td>0.486072</td>\n",
       "      <td>0.405387</td>\n",
       "    </tr>\n",
       "    <tr>\n",
       "      <th>DT</th>\n",
       "      <td>0.524503</td>\n",
       "      <td>0.533333</td>\n",
       "    </tr>\n",
       "    <tr>\n",
       "      <th>RF</th>\n",
       "      <td>0.600299</td>\n",
       "      <td>0.540067</td>\n",
       "    </tr>\n",
       "    <tr>\n",
       "      <th>XGB</th>\n",
       "      <td>0.608523</td>\n",
       "      <td>0.514478</td>\n",
       "    </tr>\n",
       "  </tbody>\n",
       "</table>\n",
       "</div>"
      ],
      "text/plain": [
       "           F1    Recall\n",
       "KNN  0.567482  0.484175\n",
       "LR   0.486072  0.405387\n",
       "DT   0.524503  0.533333\n",
       "RF   0.600299  0.540067\n",
       "XGB  0.608523  0.514478"
      ]
     },
     "execution_count": 124,
     "metadata": {},
     "output_type": "execute_result"
    }
   ],
   "source": [
    "scores_df"
   ]
  },
  {
   "cell_type": "code",
   "execution_count": 150,
   "id": "f14ed503",
   "metadata": {},
   "outputs": [
    {
     "data": {
      "image/png": "[encoded data removed]",
      "text/plain": [
       "<Figure size 432x288 with 2 Axes>"
      ]
     },
     "metadata": {
      "needs_background": "light"
     },
     "output_type": "display_data"
    }
   ],
   "source": [
    "axes = scores_df.plot.bar(rot=0, subplots=True, legend = '') \n"
   ]
  },
  {
   "cell_type": "code",
   "execution_count": null,
   "id": "0e8158c7",
   "metadata": {},
   "outputs": [],
   "source": []
  },
  {
   "cell_type": "markdown",
   "id": "cb93c586",
   "metadata": {},
   "source": [
    "### ROC Curve comparison"
   ]
  },
  {
   "cell_type": "code",
   "execution_count": 119,
   "id": "0f9e13e3",
   "metadata": {},
   "outputs": [
    {
     "data": {
      "image/png": "[encoded data removed]",
      "text/plain": [
       "<Figure size 720x720 with 1 Axes>"
      ]
     },
     "metadata": {
      "needs_background": "light"
     },
     "output_type": "display_data"
    }
   ],
   "source": [
    "plt.figure(figsize=(10,10))\n",
    "lw = 2\n",
    "plt.plot(knn_fpr, knn_tpr, color='black', lw=lw, \n",
    "         label='kNN curve (area= %0.2f)' %roc_auc_knn)\n",
    "plt.plot(lr_fpr, lr_tpr, color='blue', lw=lw, \n",
    "         label='Logistic curve (area= %0.2f)' %roc_auc_lr)\n",
    "plt.plot(dt_fpr, dt_tpr, color='green', lw=lw, \n",
    "         label='Decision Tree curve (area= %0.2f)' %roc_auc_dt)\n",
    "plt.plot(rf_fpr, rf_tpr, color='red', lw=lw, \n",
    "         label='Random Forest curve (area= %0.2f)' %roc_auc_rf)\n",
    "plt.plot(xg_fpr, xg_tpr, color='pink', lw=lw,\n",
    "        label='XGBoost curve (area= %0.2f)' %roc_auc_xg)\n",
    "plt.plot([0,1], [0,1], color='navy', lw=lw, linestyle='--')\n",
    "plt.xlim([0.0, 1.0])\n",
    "plt.ylim([0.0, 1.0])\n",
    "plt.xlabel('False Positive Rate')\n",
    "plt.ylabel('True Positive Rate')\n",
    "plt.title('ROC Curves')\n",
    "plt.legend(loc='lower right')\n",
    "\n",
    "plt.savefig('roc_curve.png', dpi = 500, bbox_inches='tight')"
   ]
  },
  {
   "cell_type": "code",
   "execution_count": null,
   "id": "d7660a49",
   "metadata": {},
   "outputs": [],
   "source": []
  }
 ],
 "metadata": {
  "kernelspec": {
   "display_name": "Python [conda env:metis] *",
   "language": "python",
   "name": "conda-env-metis-py"
  },
  "language_info": {
   "codemirror_mode": {
    "name": "ipython",
    "version": 3
   },
   "file_extension": ".py",
   "mimetype": "text/x-python",
   "name": "python",
   "nbconvert_exporter": "python",
   "pygments_lexer": "ipython3",
   "version": "3.8.10"
  }
 },
 "nbformat": 4,
 "nbformat_minor": 5
}
