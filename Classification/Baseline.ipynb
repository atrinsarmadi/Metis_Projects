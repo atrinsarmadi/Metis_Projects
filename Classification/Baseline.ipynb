{
 "cells": [
  {
   "cell_type": "code",
   "execution_count": 2,
   "id": "c997d9a0",
   "metadata": {},
   "outputs": [],
   "source": [
    "import pandas as pd\n",
    "import numpy as np\n",
    "import matplotlib.pyplot as plt\n",
    "import seaborn as sns\n",
    "%matplotlib inline\n",
    "\n",
    "from sklearn.model_selection import train_test_split\n",
    "from sklearn.preprocessing import StandardScaler\n",
    "from sklearn.linear_model import LogisticRegression\n",
    "from sklearn.neighbors import KNeighborsClassifier\n",
    "\n",
    "from sklearn import metrics\n",
    "from sklearn.metrics import classification_report\n",
    "from sklearn.metrics import precision_score, recall_score, precision_recall_curve,f1_score, fbeta_score\n",
    "from sklearn.metrics import confusion_matrix\n",
    "from sklearn.metrics import roc_auc_score, roc_curve\n",
    "from sklearn.metrics import roc_curve, auc\n",
    "\n",
    "import warnings\n",
    "warnings.filterwarnings('ignore')"
   ]
  },
  {
   "cell_type": "code",
   "execution_count": 4,
   "id": "8a5ddb83",
   "metadata": {},
   "outputs": [],
   "source": [
    "df = pd.read_csv('data_post_pandemic.csv')"
   ]
  },
  {
   "cell_type": "code",
   "execution_count": 5,
   "id": "6eeed6e8",
   "metadata": {},
   "outputs": [
    {
     "data": {
      "text/plain": [
       "Index(['id', 'region', 'created_at', 'deadline', 'launched_at', 'pledged_usd',\n",
       "       'main_category', 'sub_category', 'goal_usd', 'campaign_duration',\n",
       "       'create_to_launch_duration', 'Failed'],\n",
       "      dtype='object')"
      ]
     },
     "execution_count": 5,
     "metadata": {},
     "output_type": "execute_result"
    }
   ],
   "source": [
    "df.columns"
   ]
  },
  {
   "cell_type": "code",
   "execution_count": 6,
   "id": "664615f7",
   "metadata": {},
   "outputs": [
    {
     "data": {
      "text/html": [
       "<div>\n",
       "<style scoped>\n",
       "    .dataframe tbody tr th:only-of-type {\n",
       "        vertical-align: middle;\n",
       "    }\n",
       "\n",
       "    .dataframe tbody tr th {\n",
       "        vertical-align: top;\n",
       "    }\n",
       "\n",
       "    .dataframe thead th {\n",
       "        text-align: right;\n",
       "    }\n",
       "</style>\n",
       "<table border=\"1\" class=\"dataframe\">\n",
       "  <thead>\n",
       "    <tr style=\"text-align: right;\">\n",
       "      <th></th>\n",
       "      <th>id</th>\n",
       "      <th>region</th>\n",
       "      <th>created_at</th>\n",
       "      <th>deadline</th>\n",
       "      <th>launched_at</th>\n",
       "      <th>pledged_usd</th>\n",
       "      <th>main_category</th>\n",
       "      <th>sub_category</th>\n",
       "      <th>goal_usd</th>\n",
       "      <th>campaign_duration</th>\n",
       "      <th>create_to_launch_duration</th>\n",
       "      <th>Failed</th>\n",
       "    </tr>\n",
       "  </thead>\n",
       "  <tbody>\n",
       "    <tr>\n",
       "      <th>0</th>\n",
       "      <td>1846656783</td>\n",
       "      <td>EU</td>\n",
       "      <td>2020-04-16 05:18:45</td>\n",
       "      <td>2020-05-15 01:58:55</td>\n",
       "      <td>2020-04-24 01:58:55</td>\n",
       "      <td>6172.413435</td>\n",
       "      <td>Publishing</td>\n",
       "      <td>Children's Books</td>\n",
       "      <td>3410.199225</td>\n",
       "      <td>21</td>\n",
       "      <td>7</td>\n",
       "      <td>0</td>\n",
       "    </tr>\n",
       "    <tr>\n",
       "      <th>1</th>\n",
       "      <td>1091394927</td>\n",
       "      <td>US</td>\n",
       "      <td>2020-05-27 06:47:29</td>\n",
       "      <td>2020-07-09 09:00:00</td>\n",
       "      <td>2020-06-09 09:14:06</td>\n",
       "      <td>5643.000000</td>\n",
       "      <td>Design</td>\n",
       "      <td>Product Design</td>\n",
       "      <td>5000.000000</td>\n",
       "      <td>29</td>\n",
       "      <td>13</td>\n",
       "      <td>0</td>\n",
       "    </tr>\n",
       "    <tr>\n",
       "      <th>2</th>\n",
       "      <td>1892452780</td>\n",
       "      <td>US</td>\n",
       "      <td>2020-04-15 07:11:52</td>\n",
       "      <td>2020-07-13 05:22:08</td>\n",
       "      <td>2020-06-13 05:22:08</td>\n",
       "      <td>9857.440000</td>\n",
       "      <td>Design</td>\n",
       "      <td>Product Design</td>\n",
       "      <td>7700.000000</td>\n",
       "      <td>30</td>\n",
       "      <td>58</td>\n",
       "      <td>0</td>\n",
       "    </tr>\n",
       "    <tr>\n",
       "      <th>3</th>\n",
       "      <td>591954572</td>\n",
       "      <td>US</td>\n",
       "      <td>2016-12-27 13:19:41</td>\n",
       "      <td>2020-04-23 19:33:00</td>\n",
       "      <td>2020-03-24 10:02:22</td>\n",
       "      <td>116629.000000</td>\n",
       "      <td>Design</td>\n",
       "      <td>Product Design</td>\n",
       "      <td>10000.000000</td>\n",
       "      <td>30</td>\n",
       "      <td>1182</td>\n",
       "      <td>0</td>\n",
       "    </tr>\n",
       "    <tr>\n",
       "      <th>4</th>\n",
       "      <td>1488247508</td>\n",
       "      <td>US</td>\n",
       "      <td>2020-07-17 19:34:35</td>\n",
       "      <td>2020-08-26 23:59:00</td>\n",
       "      <td>2020-07-28 08:05:39</td>\n",
       "      <td>11880.000000</td>\n",
       "      <td>Design</td>\n",
       "      <td>Product Design</td>\n",
       "      <td>10000.000000</td>\n",
       "      <td>29</td>\n",
       "      <td>10</td>\n",
       "      <td>0</td>\n",
       "    </tr>\n",
       "  </tbody>\n",
       "</table>\n",
       "</div>"
      ],
      "text/plain": [
       "           id region           created_at             deadline  \\\n",
       "0  1846656783     EU  2020-04-16 05:18:45  2020-05-15 01:58:55   \n",
       "1  1091394927     US  2020-05-27 06:47:29  2020-07-09 09:00:00   \n",
       "2  1892452780     US  2020-04-15 07:11:52  2020-07-13 05:22:08   \n",
       "3   591954572     US  2016-12-27 13:19:41  2020-04-23 19:33:00   \n",
       "4  1488247508     US  2020-07-17 19:34:35  2020-08-26 23:59:00   \n",
       "\n",
       "           launched_at    pledged_usd main_category      sub_category  \\\n",
       "0  2020-04-24 01:58:55    6172.413435    Publishing  Children's Books   \n",
       "1  2020-06-09 09:14:06    5643.000000        Design    Product Design   \n",
       "2  2020-06-13 05:22:08    9857.440000        Design    Product Design   \n",
       "3  2020-03-24 10:02:22  116629.000000        Design    Product Design   \n",
       "4  2020-07-28 08:05:39   11880.000000        Design    Product Design   \n",
       "\n",
       "       goal_usd  campaign_duration  create_to_launch_duration  Failed  \n",
       "0   3410.199225                 21                          7       0  \n",
       "1   5000.000000                 29                         13       0  \n",
       "2   7700.000000                 30                         58       0  \n",
       "3  10000.000000                 30                       1182       0  \n",
       "4  10000.000000                 29                         10       0  "
      ]
     },
     "execution_count": 6,
     "metadata": {},
     "output_type": "execute_result"
    }
   ],
   "source": [
    "df.head()"
   ]
  },
  {
   "cell_type": "code",
   "execution_count": 7,
   "id": "45a9d806",
   "metadata": {},
   "outputs": [
    {
     "name": "stdout",
     "output_type": "stream",
     "text": [
      "0    0.768566\n",
      "1    0.231434\n",
      "Name: Failed, dtype: float64\n"
     ]
    },
    {
     "data": {
      "image/png": "[encoded data removed]",
      "text/plain": [
       "<Figure size 432x288 with 1 Axes>"
      ]
     },
     "metadata": {
      "needs_background": "light"
     },
     "output_type": "display_data"
    }
   ],
   "source": [
    "target = df.Failed.value_counts(normalize=True) \n",
    "print(target)\n",
    "sns.barplot(target.index, target.values)\n",
    "plt.title('Kickstarter Failed Ratio')\n",
    "plt.ylabel('Percentage of Campaign', fontsize=12);"
   ]
  },
  {
   "cell_type": "code",
   "execution_count": 8,
   "id": "4234af37",
   "metadata": {},
   "outputs": [
    {
     "data": {
      "text/plain": [
       "([<matplotlib.patches.Wedge at 0x7fcda5fc15e0>,\n",
       "  <matplotlib.patches.Wedge at 0x7fcda694d280>],\n",
       " [Text(-0.8218373647309076, 0.7311520675838626, ''),\n",
       "  Text(0.8218373305032085, -0.7311521060568453, '')])"
      ]
     },
     "execution_count": 8,
     "metadata": {},
     "output_type": "execute_result"
    },
    {
     "data": {
      "image/png": "[encoded data removed]",
      "text/plain": [
       "<Figure size 432x288 with 1 Axes>"
      ]
     },
     "metadata": {},
     "output_type": "display_data"
    }
   ],
   "source": [
    "plt.pie(df.Failed.value_counts(normalize=True))"
   ]
  },
  {
   "cell_type": "code",
   "execution_count": 9,
   "id": "a05e584d",
   "metadata": {},
   "outputs": [
    {
     "name": "stdout",
     "output_type": "stream",
     "text": [
      "<class 'pandas.core.frame.DataFrame'>\n",
      "RangeIndex: 31953 entries, 0 to 31952\n",
      "Data columns (total 12 columns):\n",
      " #   Column                     Non-Null Count  Dtype  \n",
      "---  ------                     --------------  -----  \n",
      " 0   id                         31953 non-null  int64  \n",
      " 1   region                     31953 non-null  object \n",
      " 2   created_at                 31953 non-null  object \n",
      " 3   deadline                   31953 non-null  object \n",
      " 4   launched_at                31953 non-null  object \n",
      " 5   pledged_usd                31953 non-null  float64\n",
      " 6   main_category              31953 non-null  object \n",
      " 7   sub_category               31953 non-null  object \n",
      " 8   goal_usd                   31953 non-null  float64\n",
      " 9   campaign_duration          31953 non-null  int64  \n",
      " 10  create_to_launch_duration  31953 non-null  int64  \n",
      " 11  Failed                     31953 non-null  int64  \n",
      "dtypes: float64(2), int64(4), object(6)\n",
      "memory usage: 2.9+ MB\n"
     ]
    }
   ],
   "source": [
    "df.info()"
   ]
  },
  {
   "cell_type": "code",
   "execution_count": 10,
   "id": "08a4424f",
   "metadata": {},
   "outputs": [
    {
     "data": {
      "text/plain": [
       "31.892498356961788"
      ]
     },
     "execution_count": 10,
     "metadata": {},
     "output_type": "execute_result"
    }
   ],
   "source": [
    "df.campaign_duration.mean()"
   ]
  },
  {
   "cell_type": "code",
   "execution_count": 12,
   "id": "61ecd528",
   "metadata": {},
   "outputs": [
    {
     "data": {
      "text/plain": [
       "59.865427346415046"
      ]
     },
     "execution_count": 12,
     "metadata": {},
     "output_type": "execute_result"
    }
   ],
   "source": [
    "df.create_to_launch_duration.mean()"
   ]
  },
  {
   "cell_type": "markdown",
   "id": "c5608fb5",
   "metadata": {},
   "source": [
    "# Subset1"
   ]
  },
  {
   "cell_type": "code",
   "execution_count": 6,
   "id": "5d922a2d",
   "metadata": {},
   "outputs": [],
   "source": [
    "subset1 = df.loc[:,['Failed', 'goal_usd', 'campaign_duration']]"
   ]
  },
  {
   "cell_type": "code",
   "execution_count": 7,
   "id": "9d445e98",
   "metadata": {},
   "outputs": [
    {
     "data": {
      "text/html": [
       "<div>\n",
       "<style scoped>\n",
       "    .dataframe tbody tr th:only-of-type {\n",
       "        vertical-align: middle;\n",
       "    }\n",
       "\n",
       "    .dataframe tbody tr th {\n",
       "        vertical-align: top;\n",
       "    }\n",
       "\n",
       "    .dataframe thead th {\n",
       "        text-align: right;\n",
       "    }\n",
       "</style>\n",
       "<table border=\"1\" class=\"dataframe\">\n",
       "  <thead>\n",
       "    <tr style=\"text-align: right;\">\n",
       "      <th></th>\n",
       "      <th>Failed</th>\n",
       "      <th>goal_usd</th>\n",
       "      <th>campaign_duration</th>\n",
       "    </tr>\n",
       "  </thead>\n",
       "  <tbody>\n",
       "    <tr>\n",
       "      <th>0</th>\n",
       "      <td>0</td>\n",
       "      <td>3410.199225</td>\n",
       "      <td>21</td>\n",
       "    </tr>\n",
       "    <tr>\n",
       "      <th>1</th>\n",
       "      <td>0</td>\n",
       "      <td>5000.000000</td>\n",
       "      <td>29</td>\n",
       "    </tr>\n",
       "    <tr>\n",
       "      <th>2</th>\n",
       "      <td>0</td>\n",
       "      <td>7700.000000</td>\n",
       "      <td>30</td>\n",
       "    </tr>\n",
       "    <tr>\n",
       "      <th>3</th>\n",
       "      <td>0</td>\n",
       "      <td>10000.000000</td>\n",
       "      <td>30</td>\n",
       "    </tr>\n",
       "    <tr>\n",
       "      <th>4</th>\n",
       "      <td>0</td>\n",
       "      <td>10000.000000</td>\n",
       "      <td>29</td>\n",
       "    </tr>\n",
       "  </tbody>\n",
       "</table>\n",
       "</div>"
      ],
      "text/plain": [
       "   Failed      goal_usd  campaign_duration\n",
       "0       0   3410.199225                 21\n",
       "1       0   5000.000000                 29\n",
       "2       0   7700.000000                 30\n",
       "3       0  10000.000000                 30\n",
       "4       0  10000.000000                 29"
      ]
     },
     "execution_count": 7,
     "metadata": {},
     "output_type": "execute_result"
    }
   ],
   "source": [
    "subset1.head()"
   ]
  },
  {
   "cell_type": "markdown",
   "id": "6d0d710b",
   "metadata": {},
   "source": [
    "### Splitting data to train, val, test: 0.6, 0.2, 0.2 and scaling the features"
   ]
  },
  {
   "cell_type": "code",
   "execution_count": 8,
   "id": "a392cfa7",
   "metadata": {},
   "outputs": [],
   "source": [
    "X, y = subset1.drop(['Failed'], axis=1), subset1.Failed\n",
    "\n",
    "X_train, X_rem, y_train, y_rem = train_test_split(X, y, test_size=0.4,random_state=42)\n",
    "\n",
    "scaler = StandardScaler()\n",
    "X_train_sc = scaler.fit_transform(X_train)"
   ]
  },
  {
   "cell_type": "code",
   "execution_count": 9,
   "id": "7faa13de",
   "metadata": {},
   "outputs": [],
   "source": [
    "X_val, X_test, y_val, y_test = train_test_split(X_rem, y_rem, test_size=0.5,random_state=42)\n",
    "\n",
    "scaler = StandardScaler()\n",
    "X_val_sc = scaler.fit_transform(X_val)"
   ]
  },
  {
   "cell_type": "markdown",
   "id": "a187cff5",
   "metadata": {},
   "source": [
    "## Machine Learning Baseline"
   ]
  },
  {
   "cell_type": "markdown",
   "id": "f0db78c6",
   "metadata": {},
   "source": [
    "### Baseline Linear Regression"
   ]
  },
  {
   "cell_type": "code",
   "execution_count": 10,
   "id": "c8584028",
   "metadata": {},
   "outputs": [
    {
     "name": "stdout",
     "output_type": "stream",
     "text": [
      "              precision    recall  f1-score   support\n",
      "\n",
      "           0       0.83      0.89      0.86      4906\n",
      "           1       0.52      0.38      0.44      1485\n",
      "\n",
      "    accuracy                           0.77      6391\n",
      "   macro avg       0.67      0.64      0.65      6391\n",
      "weighted avg       0.75      0.77      0.76      6391\n",
      "\n"
     ]
    }
   ],
   "source": [
    "lr = LogisticRegression(C=1000) #no regularization\n",
    "lr.fit(X_train_sc, y_train)\n",
    "lr_pred = lr.predict(X_val_sc)\n",
    "lr_confusion = confusion_matrix(y_val, lr_pred)\n",
    "\n",
    "lr_ac = lr.score(X_val_sc, y_val)\n",
    "lr_precision = precision_score(y_val, lr_pred)\n",
    "lr_recall = recall_score(y_val, lr_pred)\n",
    "lr_f1 = f1_score(y_val, lr_pred)\n",
    "\n",
    "lr_y_score = lr.predict_proba(X_val_sc)[:,1]\n",
    "lr_fpr, lr_tpr, lr_auc_thresholds = roc_curve(y_val, lr_y_score)\n",
    "roc_auc_lr = auc(lr_fpr, lr_tpr)\n",
    "\n",
    "print(classification_report(y_val, lr_pred))"
   ]
  },
  {
   "cell_type": "code",
   "execution_count": 11,
   "id": "9fd5804b",
   "metadata": {},
   "outputs": [
    {
     "name": "stdout",
     "output_type": "stream",
     "text": [
      "[[4389  517]\n",
      " [ 927  558]]\n"
     ]
    }
   ],
   "source": [
    "print(lr_confusion)"
   ]
  },
  {
   "cell_type": "code",
   "execution_count": 12,
   "id": "2e35fa97",
   "metadata": {},
   "outputs": [
    {
     "name": "stdout",
     "output_type": "stream",
     "text": [
      "0.7740572680331717\n"
     ]
    }
   ],
   "source": [
    "print(lr_ac)"
   ]
  },
  {
   "cell_type": "code",
   "execution_count": 13,
   "id": "81c5be99",
   "metadata": {},
   "outputs": [
    {
     "data": {
      "text/plain": [
       "<AxesSubplot:>"
      ]
     },
     "execution_count": 13,
     "metadata": {},
     "output_type": "execute_result"
    },
    {
     "data": {
      "image/png": "[encoded data removed]",
      "text/plain": [
       "<Figure size 432x288 with 2 Axes>"
      ]
     },
     "metadata": {
      "needs_background": "light"
     },
     "output_type": "display_data"
    }
   ],
   "source": [
    "sns.heatmap(lr_confusion/np.sum(lr_confusion), annot = True, fmt='.2%', cmap='Blues')"
   ]
  },
  {
   "cell_type": "code",
   "execution_count": 14,
   "id": "b1567937",
   "metadata": {},
   "outputs": [
    {
     "data": {
      "text/plain": [
       "<AxesSubplot:>"
      ]
     },
     "execution_count": 14,
     "metadata": {},
     "output_type": "execute_result"
    },
    {
     "data": {
      "image/png": "[encoded data removed]",
      "text/plain": [
       "<Figure size 432x288 with 2 Axes>"
      ]
     },
     "metadata": {
      "needs_background": "light"
     },
     "output_type": "display_data"
    }
   ],
   "source": [
    "group_names = ['True Neg','False Pos','False Neg','True Pos']\n",
    "group_counts = [\"{0:0.0f}\".format(value) for value in\n",
    "                lr_confusion.flatten()]\n",
    "group_percentages = [\"{0:.2%}\".format(value) for value in\n",
    "                     lr_confusion.flatten()/np.sum(lr_confusion)]\n",
    "labels = [f\"{v1}\\n{v2}\\n{v3}\" for v1, v2, v3 in\n",
    "          zip(group_names,group_counts,group_percentages)]\n",
    "labels = np.asarray(labels).reshape(2,2)\n",
    "sns.heatmap(lr_confusion, annot=labels, fmt=\"\", cmap='Blues')"
   ]
  },
  {
   "cell_type": "markdown",
   "id": "ad5a8c55",
   "metadata": {},
   "source": [
    "### Baseline KNN model"
   ]
  },
  {
   "cell_type": "code",
   "execution_count": 15,
   "id": "3015301b",
   "metadata": {},
   "outputs": [
    {
     "name": "stdout",
     "output_type": "stream",
     "text": [
      "0.7748396182131122\n"
     ]
    }
   ],
   "source": [
    "knn = KNeighborsClassifier(n_neighbors=5)\n",
    "\n",
    "knn.fit(X_train_sc, y_train)\n",
    "y_pred = knn.predict(X_val_sc)\n",
    "\n",
    "print(metrics.accuracy_score(y_val, y_pred))"
   ]
  },
  {
   "cell_type": "markdown",
   "id": "6f2f7b94",
   "metadata": {},
   "source": [
    "# Subset 2"
   ]
  },
  {
   "cell_type": "code",
   "execution_count": 16,
   "id": "71f60362",
   "metadata": {},
   "outputs": [],
   "source": [
    "subset2 = df.loc[:,['Failed', 'goal_usd', 'campaign_duration', 'create_to_launch_duration']]"
   ]
  },
  {
   "cell_type": "code",
   "execution_count": 17,
   "id": "190d1876",
   "metadata": {},
   "outputs": [],
   "source": [
    "X, y = subset2.drop(['Failed'], axis=1), subset2.Failed\n",
    "\n",
    "X_train, X_rem, y_train, y_rem = train_test_split(X, y, test_size=0.4,random_state=42)\n",
    "\n",
    "scaler = StandardScaler()\n",
    "X_train_sc = scaler.fit_transform(X_train)"
   ]
  },
  {
   "cell_type": "code",
   "execution_count": 18,
   "id": "9b617438",
   "metadata": {},
   "outputs": [],
   "source": [
    "X_val, X_test, y_val, y_test = train_test_split(X_rem, y_rem, test_size=0.5,random_state=42)\n",
    "\n",
    "scaler = StandardScaler()\n",
    "X_val_sc = scaler.fit_transform(X_val)"
   ]
  },
  {
   "cell_type": "code",
   "execution_count": 19,
   "id": "61063a02",
   "metadata": {},
   "outputs": [
    {
     "name": "stdout",
     "output_type": "stream",
     "text": [
      "              precision    recall  f1-score   support\n",
      "\n",
      "           0       0.83      0.90      0.86      4906\n",
      "           1       0.52      0.38      0.44      1485\n",
      "\n",
      "    accuracy                           0.77      6391\n",
      "   macro avg       0.67      0.64      0.65      6391\n",
      "weighted avg       0.76      0.77      0.76      6391\n",
      "\n"
     ]
    }
   ],
   "source": [
    "lr = LogisticRegression(C=1000) #no regularization\n",
    "lr.fit(X_train_sc, y_train)\n",
    "lr_pred = lr.predict(X_val_sc)\n",
    "lr_confusion = confusion_matrix(y_val, lr_pred)\n",
    "\n",
    "lr_ac = lr.score(X_val_sc, y_val)\n",
    "lr_precision = precision_score(y_val, lr_pred)\n",
    "lr_recall = recall_score(y_val, lr_pred)\n",
    "lr_f1 = f1_score(y_val, lr_pred)\n",
    "\n",
    "lr_y_score = lr.predict_proba(X_val_sc)[:,1]\n",
    "lr_fpr, lr_tpr, lr_auc_thresholds = roc_curve(y_val, lr_y_score)\n",
    "roc_auc_lr = auc(lr_fpr, lr_tpr)\n",
    "\n",
    "print(classification_report(y_val, lr_pred))"
   ]
  },
  {
   "cell_type": "code",
   "execution_count": 20,
   "id": "dc08ccbc",
   "metadata": {},
   "outputs": [
    {
     "name": "stdout",
     "output_type": "stream",
     "text": [
      "[[4392  514]\n",
      " [ 924  561]]\n"
     ]
    }
   ],
   "source": [
    "print(lr_confusion)"
   ]
  },
  {
   "cell_type": "code",
   "execution_count": 21,
   "id": "c2fbb3ce",
   "metadata": {},
   "outputs": [
    {
     "name": "stdout",
     "output_type": "stream",
     "text": [
      "0.7749960882491003\n"
     ]
    }
   ],
   "source": [
    "print(lr_ac)"
   ]
  },
  {
   "cell_type": "code",
   "execution_count": 22,
   "id": "974e02e3",
   "metadata": {},
   "outputs": [
    {
     "data": {
      "text/plain": [
       "<AxesSubplot:>"
      ]
     },
     "execution_count": 22,
     "metadata": {},
     "output_type": "execute_result"
    },
    {
     "data": {
      "image/png": "[encoded data removed]",
      "text/plain": [
       "<Figure size 432x288 with 2 Axes>"
      ]
     },
     "metadata": {
      "needs_background": "light"
     },
     "output_type": "display_data"
    }
   ],
   "source": [
    "group_names = ['True Neg','False Pos','False Neg','True Pos']\n",
    "group_counts = [\"{0:0.0f}\".format(value) for value in\n",
    "                lr_confusion.flatten()]\n",
    "group_percentages = [\"{0:.2%}\".format(value) for value in\n",
    "                     lr_confusion.flatten()/np.sum(lr_confusion)]\n",
    "labels = [f\"{v1}\\n{v2}\\n{v3}\" for v1, v2, v3 in\n",
    "          zip(group_names,group_counts,group_percentages)]\n",
    "labels = np.asarray(labels).reshape(2,2)\n",
    "sns.heatmap(lr_confusion, annot=labels, fmt=\"\", cmap='Blues')"
   ]
  },
  {
   "cell_type": "code",
   "execution_count": 23,
   "id": "705bb573",
   "metadata": {},
   "outputs": [
    {
     "name": "stdout",
     "output_type": "stream",
     "text": [
      "0.7859489907682679\n"
     ]
    }
   ],
   "source": [
    "knn = KNeighborsClassifier(n_neighbors=5)\n",
    "\n",
    "knn.fit(X_train_sc, y_train)\n",
    "y_pred = knn.predict(X_val_sc)\n",
    "\n",
    "print(metrics.accuracy_score(y_val, y_pred))"
   ]
  },
  {
   "cell_type": "markdown",
   "id": "f875be04",
   "metadata": {},
   "source": [
    "# More Feature Engineering"
   ]
  },
  {
   "cell_type": "code",
   "execution_count": 24,
   "id": "e4273837",
   "metadata": {},
   "outputs": [
    {
     "name": "stdout",
     "output_type": "stream",
     "text": [
      "<class 'pandas.core.frame.DataFrame'>\n",
      "RangeIndex: 31953 entries, 0 to 31952\n",
      "Data columns (total 12 columns):\n",
      " #   Column                     Non-Null Count  Dtype  \n",
      "---  ------                     --------------  -----  \n",
      " 0   id                         31953 non-null  int64  \n",
      " 1   region                     31953 non-null  object \n",
      " 2   created_at                 31953 non-null  object \n",
      " 3   deadline                   31953 non-null  object \n",
      " 4   launched_at                31953 non-null  object \n",
      " 5   pledged_usd                31953 non-null  float64\n",
      " 6   main_category              31953 non-null  object \n",
      " 7   sub_category               31953 non-null  object \n",
      " 8   goal_usd                   31953 non-null  float64\n",
      " 9   campaign_duration          31953 non-null  int64  \n",
      " 10  create_to_launch_duration  31953 non-null  int64  \n",
      " 11  Failed                     31953 non-null  int64  \n",
      "dtypes: float64(2), int64(4), object(6)\n",
      "memory usage: 2.9+ MB\n"
     ]
    }
   ],
   "source": [
    "df.info()"
   ]
  },
  {
   "cell_type": "code",
   "execution_count": 25,
   "id": "0c073bce",
   "metadata": {},
   "outputs": [
    {
     "data": {
      "text/html": [
       "<div>\n",
       "<style scoped>\n",
       "    .dataframe tbody tr th:only-of-type {\n",
       "        vertical-align: middle;\n",
       "    }\n",
       "\n",
       "    .dataframe tbody tr th {\n",
       "        vertical-align: top;\n",
       "    }\n",
       "\n",
       "    .dataframe thead th {\n",
       "        text-align: right;\n",
       "    }\n",
       "</style>\n",
       "<table border=\"1\" class=\"dataframe\">\n",
       "  <thead>\n",
       "    <tr style=\"text-align: right;\">\n",
       "      <th></th>\n",
       "      <th>id</th>\n",
       "      <th>region</th>\n",
       "      <th>created_at</th>\n",
       "      <th>deadline</th>\n",
       "      <th>launched_at</th>\n",
       "      <th>pledged_usd</th>\n",
       "      <th>main_category</th>\n",
       "      <th>sub_category</th>\n",
       "      <th>goal_usd</th>\n",
       "      <th>campaign_duration</th>\n",
       "      <th>create_to_launch_duration</th>\n",
       "      <th>Failed</th>\n",
       "    </tr>\n",
       "  </thead>\n",
       "  <tbody>\n",
       "    <tr>\n",
       "      <th>0</th>\n",
       "      <td>1846656783</td>\n",
       "      <td>EU</td>\n",
       "      <td>2020-04-16 05:18:45</td>\n",
       "      <td>2020-05-15 01:58:55</td>\n",
       "      <td>2020-04-24 01:58:55</td>\n",
       "      <td>6172.413435</td>\n",
       "      <td>Publishing</td>\n",
       "      <td>Children's Books</td>\n",
       "      <td>3410.199225</td>\n",
       "      <td>21</td>\n",
       "      <td>7</td>\n",
       "      <td>0</td>\n",
       "    </tr>\n",
       "    <tr>\n",
       "      <th>1</th>\n",
       "      <td>1091394927</td>\n",
       "      <td>US</td>\n",
       "      <td>2020-05-27 06:47:29</td>\n",
       "      <td>2020-07-09 09:00:00</td>\n",
       "      <td>2020-06-09 09:14:06</td>\n",
       "      <td>5643.000000</td>\n",
       "      <td>Design</td>\n",
       "      <td>Product Design</td>\n",
       "      <td>5000.000000</td>\n",
       "      <td>29</td>\n",
       "      <td>13</td>\n",
       "      <td>0</td>\n",
       "    </tr>\n",
       "    <tr>\n",
       "      <th>2</th>\n",
       "      <td>1892452780</td>\n",
       "      <td>US</td>\n",
       "      <td>2020-04-15 07:11:52</td>\n",
       "      <td>2020-07-13 05:22:08</td>\n",
       "      <td>2020-06-13 05:22:08</td>\n",
       "      <td>9857.440000</td>\n",
       "      <td>Design</td>\n",
       "      <td>Product Design</td>\n",
       "      <td>7700.000000</td>\n",
       "      <td>30</td>\n",
       "      <td>58</td>\n",
       "      <td>0</td>\n",
       "    </tr>\n",
       "    <tr>\n",
       "      <th>3</th>\n",
       "      <td>591954572</td>\n",
       "      <td>US</td>\n",
       "      <td>2016-12-27 13:19:41</td>\n",
       "      <td>2020-04-23 19:33:00</td>\n",
       "      <td>2020-03-24 10:02:22</td>\n",
       "      <td>116629.000000</td>\n",
       "      <td>Design</td>\n",
       "      <td>Product Design</td>\n",
       "      <td>10000.000000</td>\n",
       "      <td>30</td>\n",
       "      <td>1182</td>\n",
       "      <td>0</td>\n",
       "    </tr>\n",
       "    <tr>\n",
       "      <th>4</th>\n",
       "      <td>1488247508</td>\n",
       "      <td>US</td>\n",
       "      <td>2020-07-17 19:34:35</td>\n",
       "      <td>2020-08-26 23:59:00</td>\n",
       "      <td>2020-07-28 08:05:39</td>\n",
       "      <td>11880.000000</td>\n",
       "      <td>Design</td>\n",
       "      <td>Product Design</td>\n",
       "      <td>10000.000000</td>\n",
       "      <td>29</td>\n",
       "      <td>10</td>\n",
       "      <td>0</td>\n",
       "    </tr>\n",
       "  </tbody>\n",
       "</table>\n",
       "</div>"
      ],
      "text/plain": [
       "           id region           created_at             deadline  \\\n",
       "0  1846656783     EU  2020-04-16 05:18:45  2020-05-15 01:58:55   \n",
       "1  1091394927     US  2020-05-27 06:47:29  2020-07-09 09:00:00   \n",
       "2  1892452780     US  2020-04-15 07:11:52  2020-07-13 05:22:08   \n",
       "3   591954572     US  2016-12-27 13:19:41  2020-04-23 19:33:00   \n",
       "4  1488247508     US  2020-07-17 19:34:35  2020-08-26 23:59:00   \n",
       "\n",
       "           launched_at    pledged_usd main_category      sub_category  \\\n",
       "0  2020-04-24 01:58:55    6172.413435    Publishing  Children's Books   \n",
       "1  2020-06-09 09:14:06    5643.000000        Design    Product Design   \n",
       "2  2020-06-13 05:22:08    9857.440000        Design    Product Design   \n",
       "3  2020-03-24 10:02:22  116629.000000        Design    Product Design   \n",
       "4  2020-07-28 08:05:39   11880.000000        Design    Product Design   \n",
       "\n",
       "       goal_usd  campaign_duration  create_to_launch_duration  Failed  \n",
       "0   3410.199225                 21                          7       0  \n",
       "1   5000.000000                 29                         13       0  \n",
       "2   7700.000000                 30                         58       0  \n",
       "3  10000.000000                 30                       1182       0  \n",
       "4  10000.000000                 29                         10       0  "
      ]
     },
     "execution_count": 25,
     "metadata": {},
     "output_type": "execute_result"
    }
   ],
   "source": [
    "df.head()"
   ]
  },
  {
   "cell_type": "code",
   "execution_count": 26,
   "id": "ad2f9de3",
   "metadata": {},
   "outputs": [],
   "source": [
    "df.drop('pledged_usd', axis = 1, inplace = True)"
   ]
  },
  {
   "cell_type": "code",
   "execution_count": 27,
   "id": "33e978f4",
   "metadata": {},
   "outputs": [],
   "source": [
    "df = pd.get_dummies(df, columns = ['region'])"
   ]
  },
  {
   "cell_type": "code",
   "execution_count": 28,
   "id": "29a6d664",
   "metadata": {},
   "outputs": [],
   "source": [
    "df = pd.get_dummies(df, columns = ['main_category'])"
   ]
  },
  {
   "cell_type": "code",
   "execution_count": 29,
   "id": "39f377fa",
   "metadata": {},
   "outputs": [
    {
     "data": {
      "text/html": [
       "<div>\n",
       "<style scoped>\n",
       "    .dataframe tbody tr th:only-of-type {\n",
       "        vertical-align: middle;\n",
       "    }\n",
       "\n",
       "    .dataframe tbody tr th {\n",
       "        vertical-align: top;\n",
       "    }\n",
       "\n",
       "    .dataframe thead th {\n",
       "        text-align: right;\n",
       "    }\n",
       "</style>\n",
       "<table border=\"1\" class=\"dataframe\">\n",
       "  <thead>\n",
       "    <tr style=\"text-align: right;\">\n",
       "      <th></th>\n",
       "      <th>id</th>\n",
       "      <th>created_at</th>\n",
       "      <th>deadline</th>\n",
       "      <th>launched_at</th>\n",
       "      <th>sub_category</th>\n",
       "      <th>goal_usd</th>\n",
       "      <th>campaign_duration</th>\n",
       "      <th>create_to_launch_duration</th>\n",
       "      <th>Failed</th>\n",
       "      <th>region_AM_non_US</th>\n",
       "      <th>...</th>\n",
       "      <th>main_category_Fashion</th>\n",
       "      <th>main_category_Film &amp; Video</th>\n",
       "      <th>main_category_Food</th>\n",
       "      <th>main_category_Games</th>\n",
       "      <th>main_category_Journalism</th>\n",
       "      <th>main_category_Music</th>\n",
       "      <th>main_category_Photography</th>\n",
       "      <th>main_category_Publishing</th>\n",
       "      <th>main_category_Technology</th>\n",
       "      <th>main_category_Theater</th>\n",
       "    </tr>\n",
       "  </thead>\n",
       "  <tbody>\n",
       "    <tr>\n",
       "      <th>0</th>\n",
       "      <td>1846656783</td>\n",
       "      <td>2020-04-16 05:18:45</td>\n",
       "      <td>2020-05-15 01:58:55</td>\n",
       "      <td>2020-04-24 01:58:55</td>\n",
       "      <td>Children's Books</td>\n",
       "      <td>3410.199225</td>\n",
       "      <td>21</td>\n",
       "      <td>7</td>\n",
       "      <td>0</td>\n",
       "      <td>0</td>\n",
       "      <td>...</td>\n",
       "      <td>0</td>\n",
       "      <td>0</td>\n",
       "      <td>0</td>\n",
       "      <td>0</td>\n",
       "      <td>0</td>\n",
       "      <td>0</td>\n",
       "      <td>0</td>\n",
       "      <td>1</td>\n",
       "      <td>0</td>\n",
       "      <td>0</td>\n",
       "    </tr>\n",
       "    <tr>\n",
       "      <th>1</th>\n",
       "      <td>1091394927</td>\n",
       "      <td>2020-05-27 06:47:29</td>\n",
       "      <td>2020-07-09 09:00:00</td>\n",
       "      <td>2020-06-09 09:14:06</td>\n",
       "      <td>Product Design</td>\n",
       "      <td>5000.000000</td>\n",
       "      <td>29</td>\n",
       "      <td>13</td>\n",
       "      <td>0</td>\n",
       "      <td>0</td>\n",
       "      <td>...</td>\n",
       "      <td>0</td>\n",
       "      <td>0</td>\n",
       "      <td>0</td>\n",
       "      <td>0</td>\n",
       "      <td>0</td>\n",
       "      <td>0</td>\n",
       "      <td>0</td>\n",
       "      <td>0</td>\n",
       "      <td>0</td>\n",
       "      <td>0</td>\n",
       "    </tr>\n",
       "    <tr>\n",
       "      <th>2</th>\n",
       "      <td>1892452780</td>\n",
       "      <td>2020-04-15 07:11:52</td>\n",
       "      <td>2020-07-13 05:22:08</td>\n",
       "      <td>2020-06-13 05:22:08</td>\n",
       "      <td>Product Design</td>\n",
       "      <td>7700.000000</td>\n",
       "      <td>30</td>\n",
       "      <td>58</td>\n",
       "      <td>0</td>\n",
       "      <td>0</td>\n",
       "      <td>...</td>\n",
       "      <td>0</td>\n",
       "      <td>0</td>\n",
       "      <td>0</td>\n",
       "      <td>0</td>\n",
       "      <td>0</td>\n",
       "      <td>0</td>\n",
       "      <td>0</td>\n",
       "      <td>0</td>\n",
       "      <td>0</td>\n",
       "      <td>0</td>\n",
       "    </tr>\n",
       "    <tr>\n",
       "      <th>3</th>\n",
       "      <td>591954572</td>\n",
       "      <td>2016-12-27 13:19:41</td>\n",
       "      <td>2020-04-23 19:33:00</td>\n",
       "      <td>2020-03-24 10:02:22</td>\n",
       "      <td>Product Design</td>\n",
       "      <td>10000.000000</td>\n",
       "      <td>30</td>\n",
       "      <td>1182</td>\n",
       "      <td>0</td>\n",
       "      <td>0</td>\n",
       "      <td>...</td>\n",
       "      <td>0</td>\n",
       "      <td>0</td>\n",
       "      <td>0</td>\n",
       "      <td>0</td>\n",
       "      <td>0</td>\n",
       "      <td>0</td>\n",
       "      <td>0</td>\n",
       "      <td>0</td>\n",
       "      <td>0</td>\n",
       "      <td>0</td>\n",
       "    </tr>\n",
       "    <tr>\n",
       "      <th>4</th>\n",
       "      <td>1488247508</td>\n",
       "      <td>2020-07-17 19:34:35</td>\n",
       "      <td>2020-08-26 23:59:00</td>\n",
       "      <td>2020-07-28 08:05:39</td>\n",
       "      <td>Product Design</td>\n",
       "      <td>10000.000000</td>\n",
       "      <td>29</td>\n",
       "      <td>10</td>\n",
       "      <td>0</td>\n",
       "      <td>0</td>\n",
       "      <td>...</td>\n",
       "      <td>0</td>\n",
       "      <td>0</td>\n",
       "      <td>0</td>\n",
       "      <td>0</td>\n",
       "      <td>0</td>\n",
       "      <td>0</td>\n",
       "      <td>0</td>\n",
       "      <td>0</td>\n",
       "      <td>0</td>\n",
       "      <td>0</td>\n",
       "    </tr>\n",
       "  </tbody>\n",
       "</table>\n",
       "<p>5 rows × 28 columns</p>\n",
       "</div>"
      ],
      "text/plain": [
       "           id           created_at             deadline          launched_at  \\\n",
       "0  1846656783  2020-04-16 05:18:45  2020-05-15 01:58:55  2020-04-24 01:58:55   \n",
       "1  1091394927  2020-05-27 06:47:29  2020-07-09 09:00:00  2020-06-09 09:14:06   \n",
       "2  1892452780  2020-04-15 07:11:52  2020-07-13 05:22:08  2020-06-13 05:22:08   \n",
       "3   591954572  2016-12-27 13:19:41  2020-04-23 19:33:00  2020-03-24 10:02:22   \n",
       "4  1488247508  2020-07-17 19:34:35  2020-08-26 23:59:00  2020-07-28 08:05:39   \n",
       "\n",
       "       sub_category      goal_usd  campaign_duration  \\\n",
       "0  Children's Books   3410.199225                 21   \n",
       "1    Product Design   5000.000000                 29   \n",
       "2    Product Design   7700.000000                 30   \n",
       "3    Product Design  10000.000000                 30   \n",
       "4    Product Design  10000.000000                 29   \n",
       "\n",
       "   create_to_launch_duration  Failed  region_AM_non_US  ...  \\\n",
       "0                          7       0                 0  ...   \n",
       "1                         13       0                 0  ...   \n",
       "2                         58       0                 0  ...   \n",
       "3                       1182       0                 0  ...   \n",
       "4                         10       0                 0  ...   \n",
       "\n",
       "   main_category_Fashion  main_category_Film & Video  main_category_Food  \\\n",
       "0                      0                           0                   0   \n",
       "1                      0                           0                   0   \n",
       "2                      0                           0                   0   \n",
       "3                      0                           0                   0   \n",
       "4                      0                           0                   0   \n",
       "\n",
       "   main_category_Games  main_category_Journalism  main_category_Music  \\\n",
       "0                    0                         0                    0   \n",
       "1                    0                         0                    0   \n",
       "2                    0                         0                    0   \n",
       "3                    0                         0                    0   \n",
       "4                    0                         0                    0   \n",
       "\n",
       "   main_category_Photography  main_category_Publishing  \\\n",
       "0                          0                         1   \n",
       "1                          0                         0   \n",
       "2                          0                         0   \n",
       "3                          0                         0   \n",
       "4                          0                         0   \n",
       "\n",
       "   main_category_Technology  main_category_Theater  \n",
       "0                         0                      0  \n",
       "1                         0                      0  \n",
       "2                         0                      0  \n",
       "3                         0                      0  \n",
       "4                         0                      0  \n",
       "\n",
       "[5 rows x 28 columns]"
      ]
     },
     "execution_count": 29,
     "metadata": {},
     "output_type": "execute_result"
    }
   ],
   "source": [
    "df.head()"
   ]
  },
  {
   "cell_type": "code",
   "execution_count": 30,
   "id": "c118243d",
   "metadata": {},
   "outputs": [
    {
     "name": "stdout",
     "output_type": "stream",
     "text": [
      "<class 'pandas.core.frame.DataFrame'>\n",
      "RangeIndex: 31953 entries, 0 to 31952\n",
      "Data columns (total 28 columns):\n",
      " #   Column                      Non-Null Count  Dtype  \n",
      "---  ------                      --------------  -----  \n",
      " 0   id                          31953 non-null  int64  \n",
      " 1   created_at                  31953 non-null  object \n",
      " 2   deadline                    31953 non-null  object \n",
      " 3   launched_at                 31953 non-null  object \n",
      " 4   sub_category                31953 non-null  object \n",
      " 5   goal_usd                    31953 non-null  float64\n",
      " 6   campaign_duration           31953 non-null  int64  \n",
      " 7   create_to_launch_duration   31953 non-null  int64  \n",
      " 8   Failed                      31953 non-null  int64  \n",
      " 9   region_AM_non_US            31953 non-null  uint8  \n",
      " 10  region_AP                   31953 non-null  uint8  \n",
      " 11  region_EU                   31953 non-null  uint8  \n",
      " 12  region_US                   31953 non-null  uint8  \n",
      " 13  main_category_Art           31953 non-null  uint8  \n",
      " 14  main_category_Comics        31953 non-null  uint8  \n",
      " 15  main_category_Crafts        31953 non-null  uint8  \n",
      " 16  main_category_Dance         31953 non-null  uint8  \n",
      " 17  main_category_Design        31953 non-null  uint8  \n",
      " 18  main_category_Fashion       31953 non-null  uint8  \n",
      " 19  main_category_Film & Video  31953 non-null  uint8  \n",
      " 20  main_category_Food          31953 non-null  uint8  \n",
      " 21  main_category_Games         31953 non-null  uint8  \n",
      " 22  main_category_Journalism    31953 non-null  uint8  \n",
      " 23  main_category_Music         31953 non-null  uint8  \n",
      " 24  main_category_Photography   31953 non-null  uint8  \n",
      " 25  main_category_Publishing    31953 non-null  uint8  \n",
      " 26  main_category_Technology    31953 non-null  uint8  \n",
      " 27  main_category_Theater       31953 non-null  uint8  \n",
      "dtypes: float64(1), int64(4), object(4), uint8(19)\n",
      "memory usage: 2.8+ MB\n"
     ]
    }
   ],
   "source": [
    "df.info()"
   ]
  },
  {
   "cell_type": "code",
   "execution_count": 31,
   "id": "fe43de1d",
   "metadata": {},
   "outputs": [],
   "source": [
    "df.to_csv('modeling_data.csv', index = False)"
   ]
  },
  {
   "cell_type": "markdown",
   "id": "ae5e0316",
   "metadata": {},
   "source": [
    "# Subset 3"
   ]
  },
  {
   "cell_type": "code",
   "execution_count": 32,
   "id": "fe4017ad",
   "metadata": {},
   "outputs": [],
   "source": [
    "subset3 = df.drop(['id', 'created_at', 'deadline', 'launched_at', 'sub_category'], axis=1)"
   ]
  },
  {
   "cell_type": "code",
   "execution_count": 33,
   "id": "e53d9a8b",
   "metadata": {},
   "outputs": [],
   "source": [
    "X, y = subset3.drop(['Failed'], axis=1), subset3.Failed\n",
    "\n",
    "X_train, X_rem, y_train, y_rem = train_test_split(X, y, test_size=0.4,random_state=42)\n",
    "\n",
    "scaler = StandardScaler()\n",
    "X_train_sc = scaler.fit_transform(X_train)"
   ]
  },
  {
   "cell_type": "code",
   "execution_count": 34,
   "id": "274fdc2a",
   "metadata": {},
   "outputs": [],
   "source": [
    "X_val, X_test, y_val, y_test = train_test_split(X_rem, y_rem, test_size=0.5,random_state=42)\n",
    "\n",
    "scaler = StandardScaler()\n",
    "X_val_sc = scaler.fit_transform(X_val)"
   ]
  },
  {
   "cell_type": "code",
   "execution_count": 35,
   "id": "4a298675",
   "metadata": {},
   "outputs": [
    {
     "name": "stdout",
     "output_type": "stream",
     "text": [
      "              precision    recall  f1-score   support\n",
      "\n",
      "           0       0.83      0.91      0.87      4906\n",
      "           1       0.57      0.40      0.47      1485\n",
      "\n",
      "    accuracy                           0.79      6391\n",
      "   macro avg       0.70      0.65      0.67      6391\n",
      "weighted avg       0.77      0.79      0.78      6391\n",
      "\n"
     ]
    }
   ],
   "source": [
    "lr = LogisticRegression(C=1000) #no regularization\n",
    "lr.fit(X_train_sc, y_train)\n",
    "lr_pred = lr.predict(X_val_sc)\n",
    "lr_confusion = confusion_matrix(y_val, lr_pred)\n",
    "\n",
    "lr_ac = lr.score(X_val_sc, y_val)\n",
    "lr_precision = precision_score(y_val, lr_pred)\n",
    "lr_recall = recall_score(y_val, lr_pred)\n",
    "lr_f1 = f1_score(y_val, lr_pred)\n",
    "\n",
    "lr_y_score = lr.predict_proba(X_val_sc)[:,1]\n",
    "lr_fpr, lr_tpr, lr_auc_thresholds = roc_curve(y_val, lr_y_score)\n",
    "roc_auc_lr = auc(lr_fpr, lr_tpr)\n",
    "\n",
    "print(classification_report(y_val, lr_pred))"
   ]
  },
  {
   "cell_type": "code",
   "execution_count": 36,
   "id": "42aa5e2e",
   "metadata": {},
   "outputs": [
    {
     "name": "stdout",
     "output_type": "stream",
     "text": [
      "[[4469  437]\n",
      " [ 894  591]]\n"
     ]
    }
   ],
   "source": [
    "print(lr_confusion)"
   ]
  },
  {
   "cell_type": "code",
   "execution_count": 37,
   "id": "f3e2effa",
   "metadata": {},
   "outputs": [
    {
     "name": "stdout",
     "output_type": "stream",
     "text": [
      "0.7917383820998278\n"
     ]
    }
   ],
   "source": [
    "print(lr_ac)"
   ]
  },
  {
   "cell_type": "code",
   "execution_count": 38,
   "id": "dcc6485b",
   "metadata": {},
   "outputs": [
    {
     "data": {
      "text/plain": [
       "<AxesSubplot:>"
      ]
     },
     "execution_count": 38,
     "metadata": {},
     "output_type": "execute_result"
    },
    {
     "data": {
      "image/png": "[encoded data removed]",
      "text/plain": [
       "<Figure size 432x288 with 2 Axes>"
      ]
     },
     "metadata": {
      "needs_background": "light"
     },
     "output_type": "display_data"
    }
   ],
   "source": [
    "group_names = ['True Neg','False Pos','False Neg','True Pos']\n",
    "group_counts = [\"{0:0.0f}\".format(value) for value in\n",
    "                lr_confusion.flatten()]\n",
    "group_percentages = [\"{0:.2%}\".format(value) for value in\n",
    "                     lr_confusion.flatten()/np.sum(lr_confusion)]\n",
    "labels = [f\"{v1}\\n{v2}\\n{v3}\" for v1, v2, v3 in\n",
    "          zip(group_names,group_counts,group_percentages)]\n",
    "labels = np.asarray(labels).reshape(2,2)\n",
    "sns.heatmap(lr_confusion, annot=labels, fmt=\"\", cmap='Blues')"
   ]
  },
  {
   "cell_type": "code",
   "execution_count": 39,
   "id": "9c6e1a6e",
   "metadata": {},
   "outputs": [
    {
     "name": "stdout",
     "output_type": "stream",
     "text": [
      "0.8177124080738538\n"
     ]
    }
   ],
   "source": [
    "knn = KNeighborsClassifier(n_neighbors=5)\n",
    "\n",
    "knn.fit(X_train_sc, y_train)\n",
    "y_pred = knn.predict(X_val_sc)\n",
    "\n",
    "print(metrics.accuracy_score(y_val, y_pred))"
   ]
  },
  {
   "cell_type": "code",
   "execution_count": 40,
   "id": "0f8a72aa",
   "metadata": {},
   "outputs": [
    {
     "data": {
      "image/png": "[encoded data removed]",
      "text/plain": [
       "<Figure size 480x320 with 1 Axes>"
      ]
     },
     "metadata": {
      "needs_background": "light"
     },
     "output_type": "display_data"
    }
   ],
   "source": [
    "precision_curve, recall_curve, threshold_curve = precision_recall_curve(y_val, lr.predict_proba(X_val_sc)[:,1] )\n",
    "\n",
    "plt.figure(dpi=80)\n",
    "plt.plot(threshold_curve, precision_curve[1:],label='precision')\n",
    "plt.plot(threshold_curve, recall_curve[1:], label='recall')\n",
    "plt.legend(loc='lower left')\n",
    "plt.xlabel('Threshold (above this probability, label as success)');\n",
    "plt.title('Precision and Recall Curves');"
   ]
  },
  {
   "cell_type": "code",
   "execution_count": 41,
   "id": "a3b74253",
   "metadata": {},
   "outputs": [
    {
     "data": {
      "image/png": "[encoded data removed]",
      "text/plain": [
       "<Figure size 480x320 with 1 Axes>"
      ]
     },
     "metadata": {
      "needs_background": "light"
     },
     "output_type": "display_data"
    }
   ],
   "source": [
    "plt.figure(dpi=80)\n",
    "plt.plot(recall_curve[1:], precision_curve[1:],label='precision')\n",
    "plt.xlabel(\"Recall\")\n",
    "plt.ylabel(\"Precision\")\n",
    "plt.title(\"Precision-Recall Curve\");"
   ]
  },
  {
   "cell_type": "code",
   "execution_count": 42,
   "id": "de234400",
   "metadata": {},
   "outputs": [],
   "source": [
    "from sklearn.metrics import roc_auc_score, roc_curve\n",
    "\n",
    "fpr, tpr, thresholds = roc_curve(y_val, lr.predict_proba(X_val_sc)[:,1])"
   ]
  },
  {
   "cell_type": "code",
   "execution_count": 43,
   "id": "86cd86c7",
   "metadata": {},
   "outputs": [
    {
     "name": "stdout",
     "output_type": "stream",
     "text": [
      "ROC AUC score =  0.7886099066490423\n"
     ]
    },
    {
     "data": {
      "image/png": "[encoded data removed]",
      "text/plain": [
       "<Figure size 432x288 with 1 Axes>"
      ]
     },
     "metadata": {
      "needs_background": "light"
     },
     "output_type": "display_data"
    }
   ],
   "source": [
    "plt.plot(fpr, tpr,lw=2)\n",
    "plt.plot([0,1],[0,1],c='violet',ls='--')\n",
    "plt.xlim([-0.05,1.05])\n",
    "plt.ylim([-0.05,1.05])\n",
    "\n",
    "\n",
    "plt.xlabel('False positive rate')\n",
    "plt.ylabel('True positive rate')\n",
    "plt.title('ROC curve for fraud problem');\n",
    "print(\"ROC AUC score = \", roc_auc_score(y_val, lr.predict_proba(X_val_sc)[:,1]))"
   ]
  },
  {
   "cell_type": "code",
   "execution_count": 44,
   "id": "604430a6",
   "metadata": {},
   "outputs": [
    {
     "name": "stdout",
     "output_type": "stream",
     "text": [
      "Log-loss on logit: 0.9253\n"
     ]
    }
   ],
   "source": [
    "from sklearn.metrics import log_loss\n",
    "\n",
    "print(\"Log-loss on logit: {:6.4f}\".format(log_loss(y_val, lr.predict_proba(X_val_sc))))"
   ]
  },
  {
   "cell_type": "code",
   "execution_count": 45,
   "id": "7bcfcf26",
   "metadata": {},
   "outputs": [
    {
     "name": "stdout",
     "output_type": "stream",
     "text": [
      "Log-loss on dummy classifier: 0.5421\n"
     ]
    }
   ],
   "source": [
    "from sklearn.dummy import DummyClassifier\n",
    "\n",
    "dc = DummyClassifier()\n",
    "dc.fit(X_train, y_train)\n",
    "print(\"Log-loss on dummy classifier: {:6.4f}\".format(log_loss(y_val, dc.predict_proba(X_val_sc))))"
   ]
  },
  {
   "cell_type": "code",
   "execution_count": 46,
   "id": "73b87d75",
   "metadata": {},
   "outputs": [
    {
     "name": "stdout",
     "output_type": "stream",
     "text": [
      "Logistic accuracy: 0.7917\n",
      "Dummy accuracy: 0.7676\n"
     ]
    }
   ],
   "source": [
    "print(\"Logistic accuracy: {:6.4f}\".format(lr.score(X_val_sc, y_val)))\n",
    "print(\"Dummy accuracy: {:6.4f}\".format(dc.score(X_val_sc, y_val)))"
   ]
  },
  {
   "cell_type": "markdown",
   "id": "27901f35",
   "metadata": {},
   "source": [
    "# Test scores on last subset, logistic regression"
   ]
  },
  {
   "cell_type": "code",
   "execution_count": 47,
   "id": "3be1c3b5",
   "metadata": {},
   "outputs": [],
   "source": [
    "scaler = StandardScaler()\n",
    "X_test_sc = scaler.fit_transform(X_test)"
   ]
  },
  {
   "cell_type": "code",
   "execution_count": 48,
   "id": "96186b55",
   "metadata": {},
   "outputs": [
    {
     "name": "stdout",
     "output_type": "stream",
     "text": [
      "              precision    recall  f1-score   support\n",
      "\n",
      "           0       0.83      0.96      0.89      4901\n",
      "           1       0.75      0.37      0.49      1490\n",
      "\n",
      "    accuracy                           0.82      6391\n",
      "   macro avg       0.79      0.67      0.69      6391\n",
      "weighted avg       0.81      0.82      0.80      6391\n",
      "\n"
     ]
    }
   ],
   "source": [
    "lr = LogisticRegression(C=1000) #no regularization\n",
    "lr.fit(X_train_sc, y_train)\n",
    "lr_pred = lr.predict(X_test_sc)\n",
    "lr_confusion = confusion_matrix(y_test, lr_pred)\n",
    "\n",
    "lr_ac = lr.score(X_test_sc, y_test)\n",
    "lr_precision = precision_score(y_test, lr_pred)\n",
    "lr_recall = recall_score(y_test, lr_pred)\n",
    "lr_f1 = f1_score(y_test, lr_pred)\n",
    "\n",
    "lr_y_score = lr.predict_proba(X_test_sc)[:,1]\n",
    "lr_fpr, lr_tpr, lr_auc_thresholds = roc_curve(y_test, lr_y_score)\n",
    "roc_auc_lr = auc(lr_fpr, lr_tpr)\n",
    "\n",
    "print(classification_report(y_test, lr_pred))"
   ]
  },
  {
   "cell_type": "code",
   "execution_count": 49,
   "id": "e9227c8c",
   "metadata": {},
   "outputs": [
    {
     "name": "stdout",
     "output_type": "stream",
     "text": [
      "Logistic Regression validation metrics: \n",
      " Accuracy: 0.8237 \n",
      " Precision: 0.7476 \n",
      " Recall: 0.3678 \n",
      " F1: 0.4930\n"
     ]
    }
   ],
   "source": [
    "print('Logistic Regression validation metrics: \\n Accuracy: %.4f \\n Precision: %.4f \\n Recall: %.4f \\n F1: %.4f' %\n",
    "        (lr_ac, \n",
    "         lr_precision, \n",
    "         lr_recall,\n",
    "         lr_f1)\n",
    "     )"
   ]
  },
  {
   "cell_type": "markdown",
   "id": "99532858",
   "metadata": {},
   "source": [
    "# Validation scores on last subset, logistic regression"
   ]
  },
  {
   "cell_type": "code",
   "execution_count": 50,
   "id": "e135baab",
   "metadata": {},
   "outputs": [
    {
     "name": "stdout",
     "output_type": "stream",
     "text": [
      "              precision    recall  f1-score   support\n",
      "\n",
      "           0       0.83      0.91      0.87      4906\n",
      "           1       0.57      0.40      0.47      1485\n",
      "\n",
      "    accuracy                           0.79      6391\n",
      "   macro avg       0.70      0.65      0.67      6391\n",
      "weighted avg       0.77      0.79      0.78      6391\n",
      "\n"
     ]
    }
   ],
   "source": [
    "lr = LogisticRegression(C=1000) #no regularization\n",
    "lr.fit(X_train_sc, y_train)\n",
    "lr_pred = lr.predict(X_val_sc)\n",
    "lr_confusion = confusion_matrix(y_val, lr_pred)\n",
    "\n",
    "lr_ac = lr.score(X_val_sc, y_val)\n",
    "lr_precision = precision_score(y_val, lr_pred)\n",
    "lr_recall = recall_score(y_val, lr_pred)\n",
    "lr_f1 = f1_score(y_val, lr_pred)\n",
    "\n",
    "lr_y_score = lr.predict_proba(X_val_sc)[:,1]\n",
    "lr_fpr, lr_tpr, lr_auc_thresholds = roc_curve(y_val, lr_y_score)\n",
    "roc_auc_lr = auc(lr_fpr, lr_tpr)\n",
    "\n",
    "print(classification_report(y_val, lr_pred))"
   ]
  },
  {
   "cell_type": "code",
   "execution_count": 51,
   "id": "270e3b2a",
   "metadata": {},
   "outputs": [
    {
     "name": "stdout",
     "output_type": "stream",
     "text": [
      "Logistic Regression validation metrics: \n",
      " Accuracy: 0.7917 \n",
      " Precision: 0.5749 \n",
      " Recall: 0.3980 \n",
      " F1: 0.4704\n"
     ]
    }
   ],
   "source": [
    "print('Logistic Regression validation metrics: \\n Accuracy: %.4f \\n Precision: %.4f \\n Recall: %.4f \\n F1: %.4f' %\n",
    "        (lr_ac, \n",
    "         lr_precision, \n",
    "         lr_recall,\n",
    "         lr_f1)\n",
    "     )"
   ]
  },
  {
   "cell_type": "markdown",
   "id": "54482c6f",
   "metadata": {},
   "source": [
    "# Train scores on last subset, logistic regression"
   ]
  },
  {
   "cell_type": "code",
   "execution_count": 52,
   "id": "d688197e",
   "metadata": {},
   "outputs": [
    {
     "name": "stdout",
     "output_type": "stream",
     "text": [
      "              precision    recall  f1-score   support\n",
      "\n",
      "           0       0.84      0.94      0.89     14751\n",
      "           1       0.69      0.42      0.52      4420\n",
      "\n",
      "    accuracy                           0.82     19171\n",
      "   macro avg       0.77      0.68      0.71     19171\n",
      "weighted avg       0.81      0.82      0.81     19171\n",
      "\n"
     ]
    }
   ],
   "source": [
    "lr = LogisticRegression(C=1000) #no regularization\n",
    "lr.fit(X_train_sc, y_train)\n",
    "lr_pred = lr.predict(X_train_sc)\n",
    "lr_confusion = confusion_matrix(y_train, lr_pred)\n",
    "\n",
    "lr_ac = lr.score(X_train_sc, y_train)\n",
    "lr_precision = precision_score(y_train, lr_pred)\n",
    "lr_recall = recall_score(y_train, lr_pred)\n",
    "lr_f1 = f1_score(y_train, lr_pred)\n",
    "\n",
    "lr_y_score = lr.predict_proba(X_train_sc)[:,1]\n",
    "lr_fpr, lr_tpr, lr_auc_thresholds = roc_curve(y_train, lr_y_score)\n",
    "roc_auc_lr = auc(lr_fpr, lr_tpr)\n",
    "\n",
    "print(classification_report(y_train, lr_pred))"
   ]
  },
  {
   "cell_type": "code",
   "execution_count": 53,
   "id": "84faec67",
   "metadata": {},
   "outputs": [
    {
     "name": "stdout",
     "output_type": "stream",
     "text": [
      "Logistic Regression validation metrics: \n",
      " Accuracy: 0.8233 \n",
      " Precision: 0.6915 \n",
      " Recall: 0.4215 \n",
      " F1: 0.5238\n"
     ]
    }
   ],
   "source": [
    "print('Logistic Regression validation metrics: \\n Accuracy: %.4f \\n Precision: %.4f \\n Recall: %.4f \\n F1: %.4f' %\n",
    "        (lr_ac, \n",
    "         lr_precision, \n",
    "         lr_recall,\n",
    "         lr_f1)\n",
    "     )"
   ]
  },
  {
   "cell_type": "code",
   "execution_count": null,
   "id": "ae094447",
   "metadata": {},
   "outputs": [],
   "source": []
  }
 ],
 "metadata": {
  "kernelspec": {
   "display_name": "Python [conda env:metis] *",
   "language": "python",
   "name": "conda-env-metis-py"
  },
  "language_info": {
   "codemirror_mode": {
    "name": "ipython",
    "version": 3
   },
   "file_extension": ".py",
   "mimetype": "text/x-python",
   "name": "python",
   "nbconvert_exporter": "python",
   "pygments_lexer": "ipython3",
   "version": "3.8.10"
  }
 },
 "nbformat": 4,
 "nbformat_minor": 5
}
