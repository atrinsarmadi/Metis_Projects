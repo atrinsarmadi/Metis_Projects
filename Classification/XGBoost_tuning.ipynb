{
 "cells": [
  {
   "cell_type": "code",
   "execution_count": 1,
   "id": "29d5aae4",
   "metadata": {},
   "outputs": [],
   "source": [
    "import pandas as pd\n",
    "import numpy as np\n",
    "import matplotlib.pyplot as plt\n",
    "import seaborn as sns\n",
    "%matplotlib inline\n",
    "\n",
    "from sklearn.model_selection import GridSearchCV\n",
    "from sklearn.model_selection import train_test_split\n",
    "from sklearn.preprocessing import StandardScaler\n",
    "from sklearn.neighbors import KNeighborsClassifier\n",
    "from sklearn.linear_model import LogisticRegression\n",
    "from sklearn import naive_bayes, tree\n",
    "from sklearn.svm import LinearSVC, SVC\n",
    "from sklearn.tree import DecisionTreeClassifier\n",
    "from sklearn.ensemble import RandomForestClassifier\n",
    "from sklearn.model_selection import GridSearchCV\n",
    "import xgboost as xgb\n",
    "from xgboost import XGBClassifier\n",
    "\n",
    "from sklearn.metrics import classification_report\n",
    "from sklearn.metrics import precision_score, recall_score, precision_recall_curve,f1_score, fbeta_score\n",
    "from sklearn.metrics import confusion_matrix\n",
    "from sklearn.metrics import roc_auc_score, roc_curve\n",
    "from sklearn.metrics import roc_curve, auc\n",
    "\n",
    "import warnings\n",
    "warnings.filterwarnings('ignore')"
   ]
  },
  {
   "cell_type": "code",
   "execution_count": 2,
   "id": "8d97a986",
   "metadata": {},
   "outputs": [],
   "source": [
    "df = pd.read_csv('modeling_data.csv', index_col = 'id')"
   ]
  },
  {
   "cell_type": "code",
   "execution_count": 3,
   "id": "a07cbd3d",
   "metadata": {},
   "outputs": [],
   "source": [
    "df_m = df.drop(['created_at', 'deadline', 'launched_at', 'sub_category'], axis=1)"
   ]
  },
  {
   "cell_type": "code",
   "execution_count": 4,
   "id": "b06430d1",
   "metadata": {},
   "outputs": [],
   "source": [
    "X, y = df_m.drop(['Failed'], axis=1), df_m.Failed\n",
    "\n",
    "X_train, X_rem, y_train, y_rem = train_test_split(X, y, test_size=0.4,random_state=42)\n",
    "X_val, X_test, y_val, y_test = train_test_split(X_rem, y_rem, test_size=0.5,random_state=42)"
   ]
  },
  {
   "cell_type": "markdown",
   "id": "1bac01f6",
   "metadata": {},
   "source": [
    "## Parameter Tuning"
   ]
  },
  {
   "cell_type": "code",
   "execution_count": 5,
   "id": "c1bfeeb2",
   "metadata": {},
   "outputs": [],
   "source": [
    "# param_grid= dict(\n",
    "#     max_depth = list(range(3, 11)),\n",
    "#     learning_rate = [0.05, 0.1],\n",
    "#     n_estimators = [int(x) for x in np.linspace(start = 200, stop = 300, num = 5)]\n",
    "# )\n",
    "# xg_grid_search = XGBClassifier()\n",
    "# xg_grid = GridSearchCV(xg_grid_search, param_grid=param_grid, cv=5, scoring='f1', verbose=2, n_jobs=-1)\n",
    "# xg_grid.fit(X_train, y_train)\n",
    "# xg_grid_pred = xg_grid.predict(X_val)\n",
    "\n",
    "# xg_best_params = xg_grid.best_params_\n",
    "# xg_best_estimator = xg_grid.best_estimator_\n",
    "# xg_best_cm = confusion_matrix(y_val, xg_grid_pred)\n",
    "# xg_best_cr = classification_report(y_val, xg_grid_pred)\n",
    "\n",
    "# xg_ac = xg_grid.score(X_val, y_val)\n",
    "# xg_precision = precision_score(y_val, xg_grid_pred)\n",
    "# xg_recall = recall_score(y_val, xg_grid_pred)\n",
    "# xg_f1 = f1_score(y_val, xg_grid_pred)\n",
    "\n",
    "# print(xg_best_params)\n",
    "# print(xg_best_estimator)\n",
    "# print('confusion matrix:')\n",
    "# print(xg_best_cm)\n",
    "# print(xg_best_cr)"
   ]
  },
  {
   "cell_type": "code",
   "execution_count": 6,
   "id": "857f2a37",
   "metadata": {},
   "outputs": [],
   "source": [
    "# print(xg_best_params)"
   ]
  },
  {
   "cell_type": "code",
   "execution_count": 7,
   "id": "35614118",
   "metadata": {},
   "outputs": [],
   "source": [
    "# print(xg_best_estimator)"
   ]
  },
  {
   "cell_type": "code",
   "execution_count": 8,
   "id": "c02a227b",
   "metadata": {},
   "outputs": [],
   "source": [
    "# print('confusion matrix: \\n', xg_best_cm)"
   ]
  },
  {
   "cell_type": "code",
   "execution_count": 9,
   "id": "d71da3be",
   "metadata": {},
   "outputs": [],
   "source": [
    "# xg_y_score = xg_grid.predict_proba(X_val)[:,1]\n",
    "# xg_grid_fpr, xg_grid_tpr, auc_thresholds = roc_curve(y_val, xg_y_score)\n",
    "# roc_auc_xg_grid = auc(xg_grid_fpr, xg_grid_tpr)\n",
    "# print(roc_auc_xg_grid)"
   ]
  },
  {
   "cell_type": "markdown",
   "id": "56b3f080",
   "metadata": {},
   "source": [
    "# Run best parameters on Val and Test sets"
   ]
  },
  {
   "cell_type": "markdown",
   "id": "ec7b31ea",
   "metadata": {},
   "source": [
    "## Val set"
   ]
  },
  {
   "cell_type": "code",
   "execution_count": 10,
   "id": "4bf4b7ff",
   "metadata": {},
   "outputs": [],
   "source": [
    "# XGBClassifier(base_score=0.5, booster='gbtree', colsample_bylevel=1,\n",
    "#               colsample_bynode=1, colsample_bytree=1, gamma=0, gpu_id=-1,\n",
    "#               importance_type='gain', interaction_constraints='',\n",
    "#               learning_rate=0.1, max_delta_step=0, max_depth=5,\n",
    "#               min_child_weight=1, missing=None, monotone_constraints='()',\n",
    "#               n_estimators=275, n_jobs=4, num_parallel_tree=1, random_state=0,\n",
    "#               reg_alpha=0, reg_lambda=1, scale_pos_weight=1, subsample=1,\n",
    "#               tree_method='exact', validate_parameters=1, verbosity=None)"
   ]
  },
  {
   "cell_type": "code",
   "execution_count": null,
   "id": "129ef1b2",
   "metadata": {},
   "outputs": [],
   "source": []
  },
  {
   "cell_type": "code",
   "execution_count": 11,
   "id": "788b1cf1",
   "metadata": {},
   "outputs": [
    {
     "name": "stdout",
     "output_type": "stream",
     "text": [
      "[16:49:52] WARNING: ../src/learner.cc:1095: Starting in XGBoost 1.3.0, the default evaluation metric used with the objective 'binary:logistic' was changed from 'error' to 'logloss'. Explicitly set eval_metric if you'd like to restore the old behavior.\n"
     ]
    }
   ],
   "source": [
    "xgBoost_v = XGBClassifier(learning_rate=0.1, n_estimators=275, max_depth=5)\n",
    "xgBoost_v.fit(X_train, y_train)\n",
    "xgBoost_pred_v = xgBoost_v.predict(X_val)\n",
    "\n",
    "xgBoost_ac_v = xgBoost_v.score(X_val, y_val)\n",
    "xgBoost_precision_v = precision_score(y_val, xgBoost_pred_v)\n",
    "xgBoost_recall_v = recall_score(y_val, xgBoost_pred_v)\n",
    "xgBoost_f1_v = f1_score(y_val, xgBoost_pred_v)\n",
    "\n",
    "xgBoost_y_score_v = xgBoost_v.predict_proba(X_val)[:, 1]\n",
    "xgBoost_fpr_v, xgBoost_tpr_v, auc_thresholds_v = roc_curve(y_val, xgBoost_y_score_v)\n",
    "roc_auc_xgb_v = auc(xgBoost_fpr_v, xgBoost_tpr_v)"
   ]
  },
  {
   "cell_type": "code",
   "execution_count": 12,
   "id": "014dd0c5",
   "metadata": {},
   "outputs": [
    {
     "name": "stdout",
     "output_type": "stream",
     "text": [
      "[16:49:56] WARNING: ../src/learner.cc:1095: Starting in XGBoost 1.3.0, the default evaluation metric used with the objective 'binary:logistic' was changed from 'error' to 'logloss'. Explicitly set eval_metric if you'd like to restore the old behavior.\n"
     ]
    }
   ],
   "source": [
    "xgBoost = XGBClassifier(learning_rate=0.1, n_estimators=275, max_depth=5)\n",
    "xgBoost.fit(X_rem, y_rem)\n",
    "xgBoost_pred = xgBoost.predict(X_test)\n",
    "\n",
    "xgBoost_ac = xgBoost.score(X_test, y_test)\n",
    "xgBoost_precision = precision_score(y_test, xgBoost_pred)\n",
    "xgBoost_recall = recall_score(y_test, xgBoost_pred)\n",
    "xgBoost_f1 = f1_score(y_test, xgBoost_pred)\n",
    "\n",
    "xgBoost_y_score = xgBoost.predict_proba(X_test)[:, 1]\n",
    "xgBoost_fpr, xgBoost_tpr, auc_thresholds = roc_curve(y_test, xgBoost_y_score)\n",
    "roc_auc_xgb = auc(xgBoost_fpr, xgBoost_tpr)"
   ]
  },
  {
   "cell_type": "code",
   "execution_count": 13,
   "id": "0747e0fb",
   "metadata": {},
   "outputs": [
    {
     "name": "stdout",
     "output_type": "stream",
     "text": [
      "XGBoost val score: \n",
      " Accuracy: 0.8451 \n",
      " Precision: 0.7387 \n",
      " Recall: 0.5158 \n",
      " F1: 0.6075 \n",
      " ROC: 0.8602\n",
      "XGBoost test score: \n",
      " Accuracy: 0.8823 \n",
      " Precision: 0.8385 \n",
      " Recall: 0.6134 \n",
      " F1: 0.7085 \n",
      " ROC: 0.9288\n"
     ]
    }
   ],
   "source": [
    "print('XGBoost val score: \\n Accuracy: %.4f \\n Precision: %.4f \\n Recall: %.4f \\n F1: %.4f \\n ROC: %.4f' %\n",
    "        (xgBoost_ac_v, \n",
    "         xgBoost_precision_v, \n",
    "         xgBoost_recall_v,\n",
    "         xgBoost_f1_v,\n",
    "         roc_auc_xgb_v)\n",
    "     )\n",
    "print('XGBoost test score: \\n Accuracy: %.4f \\n Precision: %.4f \\n Recall: %.4f \\n F1: %.4f \\n ROC: %.4f' %\n",
    "        (xgBoost_ac, \n",
    "         xgBoost_precision, \n",
    "         xgBoost_recall,\n",
    "         xgBoost_f1,\n",
    "         roc_auc_xgb)\n",
    "     )"
   ]
  },
  {
   "cell_type": "code",
   "execution_count": 15,
   "id": "cb69704b",
   "metadata": {},
   "outputs": [],
   "source": [
    "xgb_test_cf = confusion_matrix(y_test, xgBoost_pred)"
   ]
  },
  {
   "cell_type": "code",
   "execution_count": 28,
   "id": "d6991f38",
   "metadata": {},
   "outputs": [
    {
     "data": {
      "image/png": "[encoded data removed]",
      "text/plain": [
       "<Figure size 720x720 with 2 Axes>"
      ]
     },
     "metadata": {
      "needs_background": "light"
     },
     "output_type": "display_data"
    }
   ],
   "source": [
    "group_names = ['True Neg','False Pos','False Neg','True Pos']\n",
    "group_counts = [\"{0:0.0f}\".format(value) for value in\n",
    "                xgb_test_cf.flatten()]\n",
    "group_percentages = [\"{0:.2%}\".format(value) for value in xgb_test_cf.flatten()/np.sum(xgb_test_cf)]\n",
    "labels = [f\"{v1}\\n{v2}\\n{v3}\" for v1, v2, v3 in zip(group_names,group_counts, group_percentages)]\n",
    "labels = np.asarray(labels).reshape(2,2)\n",
    "\n",
    "plt.figure(figsize = (10,10))\n",
    "\n",
    "sns_plot = sns.heatmap(xgb_test_cf, annot=labels, fmt=\"\", cmap='Blues')\n",
    "#sns_plot.savefig(\"test_heatmap.png\")\n",
    "\n",
    "results_path = 'results.png'\n",
    "plt.savefig(results_path, dpi=400, facecolor='w')"
   ]
  },
  {
   "cell_type": "code",
   "execution_count": null,
   "id": "b5f94f1e",
   "metadata": {},
   "outputs": [],
   "source": []
  }
 ],
 "metadata": {
  "kernelspec": {
   "display_name": "Python [conda env:metis] *",
   "language": "python",
   "name": "conda-env-metis-py"
  },
  "language_info": {
   "codemirror_mode": {
    "name": "ipython",
    "version": 3
   },
   "file_extension": ".py",
   "mimetype": "text/x-python",
   "name": "python",
   "nbconvert_exporter": "python",
   "pygments_lexer": "ipython3",
   "version": "3.8.10"
  }
 },
 "nbformat": 4,
 "nbformat_minor": 5
}
