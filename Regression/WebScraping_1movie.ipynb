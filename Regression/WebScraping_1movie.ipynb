{
 "cells": [
  {
   "cell_type": "code",
   "execution_count": 12,
   "id": "dcdc8ae7",
   "metadata": {},
   "outputs": [],
   "source": [
    "import pandas as pd\n",
    "import matplotlib.pyplot as plt\n",
    "import seaborn as sns\n",
    "from bs4 import BeautifulSoup\n",
    "import re\n",
    "import requests\n",
    "%config InlineBackend.figure_formats = ['svg']\n",
    "%matplotlib inline\n",
    "\n",
    "sns.set(context='notebook', style='whitegrid', font_scale=1.2)"
   ]
  },
  {
   "cell_type": "markdown",
   "id": "6918b372",
   "metadata": {},
   "source": [
    "### Getting one movie to soup"
   ]
  },
  {
   "cell_type": "code",
   "execution_count": 13,
   "id": "bf8b4eff",
   "metadata": {},
   "outputs": [],
   "source": [
    "url = 'https://www.boxofficemojo.com/title/tt0499549/?ref_=bo_cso_table_1' \n",
    "\n",
    "response = requests.get(url)"
   ]
  },
  {
   "cell_type": "code",
   "execution_count": 14,
   "id": "b793611e",
   "metadata": {},
   "outputs": [
    {
     "data": {
      "text/plain": [
       "200"
      ]
     },
     "execution_count": 14,
     "metadata": {},
     "output_type": "execute_result"
    }
   ],
   "source": [
    "response.status_code"
   ]
  },
  {
   "cell_type": "code",
   "execution_count": 15,
   "id": "51911de2",
   "metadata": {},
   "outputs": [],
   "source": [
    "page = response.text"
   ]
  },
  {
   "cell_type": "code",
   "execution_count": 16,
   "id": "b837258b",
   "metadata": {},
   "outputs": [],
   "source": [
    "soup = BeautifulSoup(page, \"lxml\")"
   ]
  },
  {
   "cell_type": "markdown",
   "id": "0abedc57",
   "metadata": {},
   "source": [
    "### Function getting movie values"
   ]
  },
  {
   "cell_type": "code",
   "execution_count": 60,
   "id": "288e00b1",
   "metadata": {},
   "outputs": [],
   "source": [
    "def get_movie_value(soup, field_name):\n",
    "    \n",
    "    '''Grab a value from Box Office Mojo HTML\n",
    "    \n",
    "    Takes a string attribute of a movie on the page and returns the string in\n",
    "    the next sibling object (the value for that attribute) or None if nothing is found.\n",
    "    '''\n",
    "    \n",
    "    obj = soup.find(text=re.compile(field_name))\n",
    "    \n",
    "    if not obj: \n",
    "        return None\n",
    "    \n",
    "    # this works for most of the values\n",
    "    next_element = obj.findNext()\n",
    "    \n",
    "    if next_element:\n",
    "        return next_element.text \n",
    "    else:\n",
    "        return None"
   ]
  },
  {
   "cell_type": "markdown",
   "id": "c79725da",
   "metadata": {},
   "source": [
    "### All useful functions to clean data"
   ]
  },
  {
   "cell_type": "code",
   "execution_count": 22,
   "id": "1901e24c",
   "metadata": {},
   "outputs": [],
   "source": [
    "import dateutil.parser\n",
    "\n",
    "def money_to_int(moneystring):\n",
    "    moneystring = moneystring.replace('$', '').replace(',', '')\n",
    "    return int(moneystring)\n",
    "\n",
    "def runtime_to_minutes(runtimestring):\n",
    "    runtime = runtimestring.split()\n",
    "    try:\n",
    "        minutes = int(runtime[0])*60 + int(runtime[2])\n",
    "        return minutes\n",
    "    except:\n",
    "        return None\n",
    "\n",
    "def to_date(datestring):\n",
    "    date = dateutil.parser.parse(datestring)\n",
    "    return date"
   ]
  },
  {
   "cell_type": "markdown",
   "id": "9713c28a",
   "metadata": {},
   "source": [
    "## FIRST TABLE"
   ]
  },
  {
   "cell_type": "markdown",
   "id": "0f1a68ee",
   "metadata": {},
   "source": [
    "### Getting title"
   ]
  },
  {
   "cell_type": "code",
   "execution_count": 25,
   "id": "cf684862",
   "metadata": {},
   "outputs": [],
   "source": [
    "title_string = soup.find('title').text\n",
    "title = title_string.split('-')[0].strip()"
   ]
  },
  {
   "cell_type": "code",
   "execution_count": 27,
   "id": "625be1da",
   "metadata": {},
   "outputs": [
    {
     "data": {
      "text/plain": [
       "'Avatar'"
      ]
     },
     "execution_count": 27,
     "metadata": {},
     "output_type": "execute_result"
    }
   ],
   "source": [
    "title"
   ]
  },
  {
   "cell_type": "markdown",
   "id": "d5021edf",
   "metadata": {},
   "source": [
    "### Getting domestic gross"
   ]
  },
  {
   "cell_type": "code",
   "execution_count": 31,
   "id": "a744fd05",
   "metadata": {},
   "outputs": [],
   "source": [
    "raw_domestic_total_gross = (soup.find(class_='mojo-performance-summary-table')\n",
    "                                    .find_all('span', class_='money')[0]\n",
    "                                    .text\n",
    "                               )\n",
    "domestic_total_gross = money_to_int(raw_domestic_total_gross)"
   ]
  },
  {
   "cell_type": "code",
   "execution_count": 32,
   "id": "a5b425db",
   "metadata": {},
   "outputs": [
    {
     "data": {
      "text/plain": [
       "760507625"
      ]
     },
     "execution_count": 32,
     "metadata": {},
     "output_type": "execute_result"
    }
   ],
   "source": [
    "domestic_total_gross"
   ]
  },
  {
   "cell_type": "markdown",
   "id": "b7fd378e",
   "metadata": {},
   "source": [
    "### Getting International gross"
   ]
  },
  {
   "cell_type": "code",
   "execution_count": 33,
   "id": "40b2e88f",
   "metadata": {},
   "outputs": [],
   "source": [
    "raw_international_total_gross = (soup.find(class_='mojo-performance-summary-table')\n",
    "                                    .find_all('span', class_='money')[1]\n",
    "                                    .text\n",
    "                               )\n",
    "international_total_gross = money_to_int(raw_international_total_gross)"
   ]
  },
  {
   "cell_type": "code",
   "execution_count": 34,
   "id": "3ec75807",
   "metadata": {},
   "outputs": [
    {
     "data": {
      "text/plain": [
       "2086738578"
      ]
     },
     "execution_count": 34,
     "metadata": {},
     "output_type": "execute_result"
    }
   ],
   "source": [
    "international_total_gross"
   ]
  },
  {
   "cell_type": "markdown",
   "id": "b8dc653d",
   "metadata": {},
   "source": [
    "### Total worldwide gross"
   ]
  },
  {
   "cell_type": "code",
   "execution_count": 266,
   "id": "d7cd4ffc",
   "metadata": {},
   "outputs": [],
   "source": [
    "worldwide_total_gross = domestic_total_gross + international_total_gross"
   ]
  },
  {
   "cell_type": "markdown",
   "id": "92037b2b",
   "metadata": {},
   "source": [
    "### Getting domestic distributor"
   ]
  },
  {
   "cell_type": "code",
   "execution_count": 77,
   "id": "575d070f",
   "metadata": {},
   "outputs": [
    {
     "name": "stdout",
     "output_type": "stream",
     "text": [
      "Twentieth Century Fox\n",
      "\n",
      "\n"
     ]
    }
   ],
   "source": [
    "domestic_distributor = get_movie_value(soup,'Domestic Distributor').replace('See full company information','')\n",
    "print(domestic_distributor)"
   ]
  },
  {
   "cell_type": "markdown",
   "id": "3a5e6c6b",
   "metadata": {},
   "source": [
    "### Getting domestic opening"
   ]
  },
  {
   "cell_type": "code",
   "execution_count": 78,
   "id": "131b12f6",
   "metadata": {},
   "outputs": [
    {
     "data": {
      "text/plain": [
       "77025481"
      ]
     },
     "execution_count": 78,
     "metadata": {},
     "output_type": "execute_result"
    }
   ],
   "source": [
    "domestic_opening = get_movie_value(soup,'Domestic Opening')\n",
    "domestic_opening = money_to_int(domestic_opening)\n",
    "domestic_opening"
   ]
  },
  {
   "cell_type": "markdown",
   "id": "04d2b137",
   "metadata": {},
   "source": [
    "### Getting budget"
   ]
  },
  {
   "cell_type": "code",
   "execution_count": 84,
   "id": "07208b10",
   "metadata": {},
   "outputs": [
    {
     "data": {
      "text/plain": [
       "237000000"
      ]
     },
     "execution_count": 84,
     "metadata": {},
     "output_type": "execute_result"
    }
   ],
   "source": [
    "budget = get_movie_value(soup,'Budget')\n",
    "budget = money_to_int(budget)\n",
    "budget"
   ]
  },
  {
   "cell_type": "markdown",
   "id": "a23516ba",
   "metadata": {},
   "source": [
    "### Getting release date"
   ]
  },
  {
   "cell_type": "code",
   "execution_count": 231,
   "id": "cf2ce94a",
   "metadata": {},
   "outputs": [
    {
     "name": "stdout",
     "output_type": "stream",
     "text": [
      "December 16, 2009\n"
     ]
    }
   ],
   "source": [
    "release_date = get_movie_value(soup,'Release Date')\n",
    "release_date = release_date.split('\\n')[0]  #Select the only the date\n",
    "print(release_date)"
   ]
  },
  {
   "cell_type": "markdown",
   "id": "11e1912d",
   "metadata": {},
   "source": [
    "### Getting MPAA rating"
   ]
  },
  {
   "cell_type": "code",
   "execution_count": 85,
   "id": "5c191b05",
   "metadata": {},
   "outputs": [
    {
     "name": "stdout",
     "output_type": "stream",
     "text": [
      "PG-13\n"
     ]
    }
   ],
   "source": [
    "rating = get_movie_value(soup,'MPAA')\n",
    "print(rating)"
   ]
  },
  {
   "cell_type": "markdown",
   "id": "915f3ba6",
   "metadata": {},
   "source": [
    "### Getting run time"
   ]
  },
  {
   "cell_type": "code",
   "execution_count": 87,
   "id": "cd5c8058",
   "metadata": {},
   "outputs": [
    {
     "name": "stdout",
     "output_type": "stream",
     "text": [
      "162\n"
     ]
    }
   ],
   "source": [
    "runtime = get_movie_value(soup,'Run')\n",
    "runtime = runtime_to_minutes(runtime)\n",
    "print(runtime)"
   ]
  },
  {
   "cell_type": "markdown",
   "id": "2db97039",
   "metadata": {},
   "source": [
    "### Getting Genres"
   ]
  },
  {
   "cell_type": "code",
   "execution_count": null,
   "id": "03c7ece5",
   "metadata": {},
   "outputs": [],
   "source": []
  },
  {
   "cell_type": "code",
   "execution_count": 271,
   "id": "a3a743fa",
   "metadata": {},
   "outputs": [
    {
     "name": "stdout",
     "output_type": "stream",
     "text": [
      "['Action', 'Adventure', 'Fantasy', 'Science fiction']\n"
     ]
    }
   ],
   "source": [
    "genres = get_movie_value(soup,'Genres').replace(' ','').replace('\\n','').replace('Sci-Fi','Science fiction')\n",
    "genres = re.findall('[A-Z][^A-Z]*', genres)\n",
    "print(genres)"
   ]
  },
  {
   "cell_type": "markdown",
   "id": "f176096a",
   "metadata": {},
   "source": [
    "## SECOND TABLE"
   ]
  },
  {
   "cell_type": "markdown",
   "id": "2141b570",
   "metadata": {},
   "source": [
    "### Getting Original Release row"
   ]
  },
  {
   "cell_type": "code",
   "execution_count": 272,
   "id": "3c567eb0",
   "metadata": {},
   "outputs": [],
   "source": [
    "if soup.find_all('h3')[0].text == 'By Release':\n",
    "    original_release_worldwide = soup.find('table').find_all('td')[5].text\n",
    "    original_release_worldwide = money_to_int(original_release_worldwide)\n",
    "else:\n",
    "    original_release_worldwide = worldwide_total_gross"
   ]
  },
  {
   "cell_type": "code",
   "execution_count": 268,
   "id": "f75f5702",
   "metadata": {},
   "outputs": [
    {
     "name": "stdout",
     "output_type": "stream",
     "text": [
      "2743577587\n"
     ]
    }
   ],
   "source": [
    "print(original_release_worldwide)"
   ]
  },
  {
   "cell_type": "code",
   "execution_count": 248,
   "id": "cf53570e",
   "metadata": {},
   "outputs": [],
   "source": []
  },
  {
   "cell_type": "code",
   "execution_count": null,
   "id": "9002d72e",
   "metadata": {},
   "outputs": [],
   "source": []
  },
  {
   "cell_type": "code",
   "execution_count": null,
   "id": "a7df81d2",
   "metadata": {},
   "outputs": [],
   "source": []
  }
 ],
 "metadata": {
  "kernelspec": {
   "display_name": "Python [conda env:metis] *",
   "language": "python",
   "name": "conda-env-metis-py"
  },
  "language_info": {
   "codemirror_mode": {
    "name": "ipython",
    "version": 3
   },
   "file_extension": ".py",
   "mimetype": "text/x-python",
   "name": "python",
   "nbconvert_exporter": "python",
   "pygments_lexer": "ipython3",
   "version": "3.8.10"
  }
 },
 "nbformat": 4,
 "nbformat_minor": 5
}
