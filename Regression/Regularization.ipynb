{
 "cells": [
  {
   "cell_type": "code",
   "execution_count": 1,
   "id": "7c0b7f5a",
   "metadata": {},
   "outputs": [],
   "source": [
    "import pandas as pd\n",
    "import numpy as np\n",
    "from sklearn.model_selection import train_test_split\n",
    "from sklearn.linear_model import LinearRegression, Lasso, LassoCV, Ridge, RidgeCV\n",
    "from sklearn.metrics import r2_score\n",
    "\n",
    "import matplotlib.pyplot as plt\n",
    "import seaborn as sns\n",
    "%matplotlib inline\n",
    "\n",
    "sns.set(context='notebook', style='whitegrid', font_scale=1.2)"
   ]
  },
  {
   "cell_type": "code",
   "execution_count": 2,
   "id": "9a92ce2b",
   "metadata": {},
   "outputs": [],
   "source": [
    "df = pd.read_csv('movies4_df.csv', index_col = 'title')"
   ]
  },
  {
   "cell_type": "code",
   "execution_count": 3,
   "id": "f0a226d2",
   "metadata": {},
   "outputs": [
    {
     "data": {
      "text/html": [
       "<div>\n",
       "<style scoped>\n",
       "    .dataframe tbody tr th:only-of-type {\n",
       "        vertical-align: middle;\n",
       "    }\n",
       "\n",
       "    .dataframe tbody tr th {\n",
       "        vertical-align: top;\n",
       "    }\n",
       "\n",
       "    .dataframe thead th {\n",
       "        text-align: right;\n",
       "    }\n",
       "</style>\n",
       "<table border=\"1\" class=\"dataframe\">\n",
       "  <thead>\n",
       "    <tr style=\"text-align: right;\">\n",
       "      <th></th>\n",
       "      <th>Action</th>\n",
       "      <th>Adventure</th>\n",
       "      <th>Animation</th>\n",
       "      <th>Budget</th>\n",
       "      <th>Comedy</th>\n",
       "      <th>Crime</th>\n",
       "      <th>Domestic Opening</th>\n",
       "      <th>Drama</th>\n",
       "      <th>Family</th>\n",
       "      <th>Fantasy</th>\n",
       "      <th>...</th>\n",
       "      <th>Other_Genres</th>\n",
       "      <th>Romance</th>\n",
       "      <th>Running Time</th>\n",
       "      <th>Science fiction</th>\n",
       "      <th>Thriller</th>\n",
       "      <th>Year of Release</th>\n",
       "      <th>Rating_G</th>\n",
       "      <th>Rating_PG</th>\n",
       "      <th>Rating_PG-13</th>\n",
       "      <th>Rating_R</th>\n",
       "    </tr>\n",
       "    <tr>\n",
       "      <th>title</th>\n",
       "      <th></th>\n",
       "      <th></th>\n",
       "      <th></th>\n",
       "      <th></th>\n",
       "      <th></th>\n",
       "      <th></th>\n",
       "      <th></th>\n",
       "      <th></th>\n",
       "      <th></th>\n",
       "      <th></th>\n",
       "      <th></th>\n",
       "      <th></th>\n",
       "      <th></th>\n",
       "      <th></th>\n",
       "      <th></th>\n",
       "      <th></th>\n",
       "      <th></th>\n",
       "      <th></th>\n",
       "      <th></th>\n",
       "      <th></th>\n",
       "      <th></th>\n",
       "    </tr>\n",
       "  </thead>\n",
       "  <tbody>\n",
       "    <tr>\n",
       "      <th>Avatar</th>\n",
       "      <td>1.0</td>\n",
       "      <td>1.0</td>\n",
       "      <td>0.0</td>\n",
       "      <td>237000000</td>\n",
       "      <td>0.0</td>\n",
       "      <td>0.0</td>\n",
       "      <td>77025481</td>\n",
       "      <td>0.0</td>\n",
       "      <td>0.0</td>\n",
       "      <td>1.0</td>\n",
       "      <td>...</td>\n",
       "      <td>0.0</td>\n",
       "      <td>0.0</td>\n",
       "      <td>162.0</td>\n",
       "      <td>1.0</td>\n",
       "      <td>0.0</td>\n",
       "      <td>2009</td>\n",
       "      <td>0</td>\n",
       "      <td>0</td>\n",
       "      <td>1</td>\n",
       "      <td>0</td>\n",
       "    </tr>\n",
       "    <tr>\n",
       "      <th>Avengers: Endgame</th>\n",
       "      <td>1.0</td>\n",
       "      <td>1.0</td>\n",
       "      <td>0.0</td>\n",
       "      <td>356000000</td>\n",
       "      <td>0.0</td>\n",
       "      <td>0.0</td>\n",
       "      <td>357115007</td>\n",
       "      <td>1.0</td>\n",
       "      <td>0.0</td>\n",
       "      <td>0.0</td>\n",
       "      <td>...</td>\n",
       "      <td>0.0</td>\n",
       "      <td>0.0</td>\n",
       "      <td>181.0</td>\n",
       "      <td>1.0</td>\n",
       "      <td>0.0</td>\n",
       "      <td>2019</td>\n",
       "      <td>0</td>\n",
       "      <td>0</td>\n",
       "      <td>1</td>\n",
       "      <td>0</td>\n",
       "    </tr>\n",
       "    <tr>\n",
       "      <th>Titanic</th>\n",
       "      <td>0.0</td>\n",
       "      <td>0.0</td>\n",
       "      <td>0.0</td>\n",
       "      <td>200000000</td>\n",
       "      <td>0.0</td>\n",
       "      <td>0.0</td>\n",
       "      <td>28638131</td>\n",
       "      <td>1.0</td>\n",
       "      <td>0.0</td>\n",
       "      <td>0.0</td>\n",
       "      <td>...</td>\n",
       "      <td>0.0</td>\n",
       "      <td>1.0</td>\n",
       "      <td>194.0</td>\n",
       "      <td>0.0</td>\n",
       "      <td>0.0</td>\n",
       "      <td>1997</td>\n",
       "      <td>0</td>\n",
       "      <td>0</td>\n",
       "      <td>1</td>\n",
       "      <td>0</td>\n",
       "    </tr>\n",
       "    <tr>\n",
       "      <th>Star Wars: Episode VII - The Force Awakens</th>\n",
       "      <td>1.0</td>\n",
       "      <td>1.0</td>\n",
       "      <td>0.0</td>\n",
       "      <td>245000000</td>\n",
       "      <td>0.0</td>\n",
       "      <td>0.0</td>\n",
       "      <td>247966675</td>\n",
       "      <td>0.0</td>\n",
       "      <td>0.0</td>\n",
       "      <td>0.0</td>\n",
       "      <td>...</td>\n",
       "      <td>0.0</td>\n",
       "      <td>0.0</td>\n",
       "      <td>138.0</td>\n",
       "      <td>1.0</td>\n",
       "      <td>0.0</td>\n",
       "      <td>2015</td>\n",
       "      <td>0</td>\n",
       "      <td>0</td>\n",
       "      <td>1</td>\n",
       "      <td>0</td>\n",
       "    </tr>\n",
       "    <tr>\n",
       "      <th>Jurassic World</th>\n",
       "      <td>1.0</td>\n",
       "      <td>1.0</td>\n",
       "      <td>0.0</td>\n",
       "      <td>150000000</td>\n",
       "      <td>0.0</td>\n",
       "      <td>0.0</td>\n",
       "      <td>208806270</td>\n",
       "      <td>0.0</td>\n",
       "      <td>0.0</td>\n",
       "      <td>0.0</td>\n",
       "      <td>...</td>\n",
       "      <td>0.0</td>\n",
       "      <td>0.0</td>\n",
       "      <td>124.0</td>\n",
       "      <td>1.0</td>\n",
       "      <td>0.0</td>\n",
       "      <td>2015</td>\n",
       "      <td>0</td>\n",
       "      <td>0</td>\n",
       "      <td>1</td>\n",
       "      <td>0</td>\n",
       "    </tr>\n",
       "  </tbody>\n",
       "</table>\n",
       "<p>5 rows × 21 columns</p>\n",
       "</div>"
      ],
      "text/plain": [
       "                                            Action  Adventure  Animation  \\\n",
       "title                                                                      \n",
       "Avatar                                         1.0        1.0        0.0   \n",
       "Avengers: Endgame                              1.0        1.0        0.0   \n",
       "Titanic                                        0.0        0.0        0.0   \n",
       "Star Wars: Episode VII - The Force Awakens     1.0        1.0        0.0   \n",
       "Jurassic World                                 1.0        1.0        0.0   \n",
       "\n",
       "                                               Budget  Comedy  Crime  \\\n",
       "title                                                                  \n",
       "Avatar                                      237000000     0.0    0.0   \n",
       "Avengers: Endgame                           356000000     0.0    0.0   \n",
       "Titanic                                     200000000     0.0    0.0   \n",
       "Star Wars: Episode VII - The Force Awakens  245000000     0.0    0.0   \n",
       "Jurassic World                              150000000     0.0    0.0   \n",
       "\n",
       "                                            Domestic Opening  Drama  Family  \\\n",
       "title                                                                         \n",
       "Avatar                                              77025481    0.0     0.0   \n",
       "Avengers: Endgame                                  357115007    1.0     0.0   \n",
       "Titanic                                             28638131    1.0     0.0   \n",
       "Star Wars: Episode VII - The Force Awakens         247966675    0.0     0.0   \n",
       "Jurassic World                                     208806270    0.0     0.0   \n",
       "\n",
       "                                            Fantasy  ...  Other_Genres  \\\n",
       "title                                                ...                 \n",
       "Avatar                                          1.0  ...           0.0   \n",
       "Avengers: Endgame                               0.0  ...           0.0   \n",
       "Titanic                                         0.0  ...           0.0   \n",
       "Star Wars: Episode VII - The Force Awakens      0.0  ...           0.0   \n",
       "Jurassic World                                  0.0  ...           0.0   \n",
       "\n",
       "                                            Romance  Running Time  \\\n",
       "title                                                               \n",
       "Avatar                                          0.0         162.0   \n",
       "Avengers: Endgame                               0.0         181.0   \n",
       "Titanic                                         1.0         194.0   \n",
       "Star Wars: Episode VII - The Force Awakens      0.0         138.0   \n",
       "Jurassic World                                  0.0         124.0   \n",
       "\n",
       "                                            Science fiction  Thriller  \\\n",
       "title                                                                   \n",
       "Avatar                                                  1.0       0.0   \n",
       "Avengers: Endgame                                       1.0       0.0   \n",
       "Titanic                                                 0.0       0.0   \n",
       "Star Wars: Episode VII - The Force Awakens              1.0       0.0   \n",
       "Jurassic World                                          1.0       0.0   \n",
       "\n",
       "                                            Year of Release  Rating_G  \\\n",
       "title                                                                   \n",
       "Avatar                                                 2009         0   \n",
       "Avengers: Endgame                                      2019         0   \n",
       "Titanic                                                1997         0   \n",
       "Star Wars: Episode VII - The Force Awakens             2015         0   \n",
       "Jurassic World                                         2015         0   \n",
       "\n",
       "                                            Rating_PG  Rating_PG-13  Rating_R  \n",
       "title                                                                          \n",
       "Avatar                                              0             1         0  \n",
       "Avengers: Endgame                                   0             1         0  \n",
       "Titanic                                             0             1         0  \n",
       "Star Wars: Episode VII - The Force Awakens          0             1         0  \n",
       "Jurassic World                                      0             1         0  \n",
       "\n",
       "[5 rows x 21 columns]"
      ]
     },
     "execution_count": 3,
     "metadata": {},
     "output_type": "execute_result"
    }
   ],
   "source": [
    "df.head()"
   ]
  },
  {
   "cell_type": "code",
   "execution_count": 4,
   "id": "aec0d613",
   "metadata": {},
   "outputs": [
    {
     "data": {
      "text/plain": [
       "(800, 21)"
      ]
     },
     "execution_count": 4,
     "metadata": {},
     "output_type": "execute_result"
    }
   ],
   "source": [
    "df.shape"
   ]
  },
  {
   "cell_type": "code",
   "execution_count": 129,
   "id": "7db06c8e",
   "metadata": {},
   "outputs": [
    {
     "data": {
      "text/plain": [
       "count    8.000000e+02\n",
       "mean     3.920248e+08\n",
       "std      2.882361e+08\n",
       "min      5.270083e+07\n",
       "25%      2.128418e+08\n",
       "50%      2.935088e+08\n",
       "75%      4.609338e+08\n",
       "max      2.797501e+09\n",
       "Name: Original Release Gross Worldwide, dtype: float64"
      ]
     },
     "execution_count": 129,
     "metadata": {},
     "output_type": "execute_result"
    }
   ],
   "source": [
    "df['Original Release Gross Worldwide'].describe()"
   ]
  },
  {
   "cell_type": "code",
   "execution_count": 5,
   "id": "aad707ae",
   "metadata": {},
   "outputs": [],
   "source": [
    "#sns.pairplot(df, height = 1.5)"
   ]
  },
  {
   "cell_type": "code",
   "execution_count": 125,
   "id": "16b93f1f",
   "metadata": {},
   "outputs": [
    {
     "data": {
      "text/plain": [
       "Index(['Action', 'Adventure', 'Animation', 'Budget', 'Comedy', 'Crime',\n",
       "       'Domestic Opening', 'Drama', 'Family', 'Fantasy',\n",
       "       'Original Release Gross Worldwide', 'Other_Genres', 'Romance',\n",
       "       'Running Time', 'Science fiction', 'Thriller', 'Year of Release',\n",
       "       'Rating_G', 'Rating_PG', 'Rating_PG-13', 'Rating_R'],\n",
       "      dtype='object')"
      ]
     },
     "execution_count": 125,
     "metadata": {},
     "output_type": "execute_result"
    }
   ],
   "source": [
    "df.columns"
   ]
  },
  {
   "cell_type": "markdown",
   "id": "6779aec7",
   "metadata": {},
   "source": [
    "## Setting up the model"
   ]
  },
  {
   "cell_type": "code",
   "execution_count": 6,
   "id": "0d21f10d",
   "metadata": {},
   "outputs": [],
   "source": [
    "X = df[df.columns.difference(['Original Release Gross Worldwide'])]\n",
    "y = df['Original Release Gross Worldwide']"
   ]
  },
  {
   "cell_type": "code",
   "execution_count": 7,
   "id": "341ef1e2",
   "metadata": {},
   "outputs": [],
   "source": [
    "#Split the data 80 - 20 train/test\n",
    "\n",
    "X_train, X_test, y_train, y_test = train_test_split(X, y, test_size=0.2,random_state=42)"
   ]
  },
  {
   "cell_type": "markdown",
   "id": "8d23f277",
   "metadata": {},
   "source": [
    "## Standard Scaling"
   ]
  },
  {
   "cell_type": "code",
   "execution_count": 8,
   "id": "8dd434c0",
   "metadata": {},
   "outputs": [],
   "source": [
    "from sklearn.pipeline import Pipeline\n",
    "from sklearn.preprocessing import StandardScaler"
   ]
  },
  {
   "cell_type": "code",
   "execution_count": 9,
   "id": "9c4ffea8",
   "metadata": {},
   "outputs": [
    {
     "data": {
      "text/plain": [
       "StandardScaler()"
      ]
     },
     "execution_count": 9,
     "metadata": {},
     "output_type": "execute_result"
    }
   ],
   "source": [
    "std = StandardScaler()\n",
    "std.fit(X_train.values)"
   ]
  },
  {
   "cell_type": "code",
   "execution_count": 10,
   "id": "de16ef83",
   "metadata": {},
   "outputs": [],
   "source": [
    "X_tr = std.transform(X_train.values)"
   ]
  },
  {
   "cell_type": "code",
   "execution_count": 11,
   "id": "fc351b4a",
   "metadata": {},
   "outputs": [],
   "source": [
    "X_te = std.transform(X_test.values)"
   ]
  },
  {
   "cell_type": "code",
   "execution_count": 12,
   "id": "6e404618",
   "metadata": {},
   "outputs": [
    {
     "data": {
      "text/plain": [
       "(pandas.core.frame.DataFrame, numpy.ndarray)"
      ]
     },
     "execution_count": 12,
     "metadata": {},
     "output_type": "execute_result"
    }
   ],
   "source": [
    "type(X_train), type(X_tr)"
   ]
  },
  {
   "cell_type": "markdown",
   "id": "769fe7b9",
   "metadata": {},
   "source": [
    "### Test Lasso Model"
   ]
  },
  {
   "cell_type": "code",
   "execution_count": 13,
   "id": "b00ee65e",
   "metadata": {},
   "outputs": [
    {
     "data": {
      "text/plain": [
       "Lasso(alpha=10000)"
      ]
     },
     "execution_count": 13,
     "metadata": {},
     "output_type": "execute_result"
    }
   ],
   "source": [
    "lasso_model = Lasso(alpha = 10000)\n",
    "lasso_model.fit(X_tr,y_train)"
   ]
  },
  {
   "cell_type": "code",
   "execution_count": 14,
   "id": "ca4599c1",
   "metadata": {},
   "outputs": [
    {
     "data": {
      "text/plain": [
       "[('Action', -4129132.2035605484),\n",
       " ('Adventure', 25396276.63397882),\n",
       " ('Animation', 31809268.499909718),\n",
       " ('Budget', 24852466.538892727),\n",
       " ('Comedy', 1052001.641540405),\n",
       " ('Crime', -8038733.966054571),\n",
       " ('Domestic Opening', 201050704.8265791),\n",
       " ('Drama', 11549164.18512151),\n",
       " ('Family', -7692659.413692976),\n",
       " ('Fantasy', 7606703.036781987),\n",
       " ('Other_Genres', -5231023.452616405),\n",
       " ('Rating_G', 4042742.331677951),\n",
       " ('Rating_PG', -20435512.850153852),\n",
       " ('Rating_PG-13', -23899965.86978609),\n",
       " ('Rating_R', -25655457.855853062),\n",
       " ('Romance', -1053276.9209926522),\n",
       " ('Running Time', 43196736.46239546),\n",
       " ('Science fiction', -18063562.3565974),\n",
       " ('Thriller', -5859743.906056961),\n",
       " ('Year of Release', 12668906.40817088)]"
      ]
     },
     "execution_count": 14,
     "metadata": {},
     "output_type": "execute_result"
    }
   ],
   "source": [
    "list(zip(X_train.columns, lasso_model.coef_))"
   ]
  },
  {
   "cell_type": "code",
   "execution_count": 15,
   "id": "c9a9d021",
   "metadata": {},
   "outputs": [],
   "source": [
    "## But it's now difficult to interpret the coefficients\n",
    "## We would need to translate back to the original feature scales by dividing\n",
    "## each coefficient by the original column's standard deviation"
   ]
  },
  {
   "cell_type": "markdown",
   "id": "c05dc524",
   "metadata": {},
   "source": [
    "## Regularization Strength Tuning with cross_validation"
   ]
  },
  {
   "cell_type": "code",
   "execution_count": 16,
   "id": "878cdc69",
   "metadata": {},
   "outputs": [
    {
     "name": "stderr",
     "output_type": "stream",
     "text": [
      "/Users/atrinsarmadi/opt/anaconda3/envs/metis/lib/python3.8/site-packages/sklearn/linear_model/_coordinate_descent.py:526: ConvergenceWarning: Objective did not converge. You might want to increase the number of iterations. Duality gap: 4.50854796474409e+16, tolerance: 4596848472146653.0\n",
      "  model = cd_fast.enet_coordinate_descent_gram(\n",
      "/Users/atrinsarmadi/opt/anaconda3/envs/metis/lib/python3.8/site-packages/sklearn/linear_model/_coordinate_descent.py:526: ConvergenceWarning: Objective did not converge. You might want to increase the number of iterations. Duality gap: 1.289669433074135e+17, tolerance: 4596848472146653.0\n",
      "  model = cd_fast.enet_coordinate_descent_gram(\n",
      "/Users/atrinsarmadi/opt/anaconda3/envs/metis/lib/python3.8/site-packages/sklearn/linear_model/_coordinate_descent.py:526: ConvergenceWarning: Objective did not converge. You might want to increase the number of iterations. Duality gap: 3.3887467826355814e+17, tolerance: 4596848472146653.0\n",
      "  model = cd_fast.enet_coordinate_descent_gram(\n",
      "/Users/atrinsarmadi/opt/anaconda3/envs/metis/lib/python3.8/site-packages/sklearn/linear_model/_coordinate_descent.py:526: ConvergenceWarning: Objective did not converge. You might want to increase the number of iterations. Duality gap: 3.1459730864785e+17, tolerance: 4596848472146653.0\n",
      "  model = cd_fast.enet_coordinate_descent_gram(\n",
      "/Users/atrinsarmadi/opt/anaconda3/envs/metis/lib/python3.8/site-packages/sklearn/linear_model/_coordinate_descent.py:526: ConvergenceWarning: Objective did not converge. You might want to increase the number of iterations. Duality gap: 1.3086162958016512e+17, tolerance: 4596848472146653.0\n",
      "  model = cd_fast.enet_coordinate_descent_gram(\n",
      "/Users/atrinsarmadi/opt/anaconda3/envs/metis/lib/python3.8/site-packages/sklearn/linear_model/_coordinate_descent.py:526: ConvergenceWarning: Objective did not converge. You might want to increase the number of iterations. Duality gap: 1.7462320222081843e+17, tolerance: 4596848472146653.0\n",
      "  model = cd_fast.enet_coordinate_descent_gram(\n",
      "/Users/atrinsarmadi/opt/anaconda3/envs/metis/lib/python3.8/site-packages/sklearn/linear_model/_coordinate_descent.py:526: ConvergenceWarning: Objective did not converge. You might want to increase the number of iterations. Duality gap: 6.819295022537544e+17, tolerance: 4596848472146653.0\n",
      "  model = cd_fast.enet_coordinate_descent_gram(\n",
      "/Users/atrinsarmadi/opt/anaconda3/envs/metis/lib/python3.8/site-packages/sklearn/linear_model/_coordinate_descent.py:526: ConvergenceWarning: Objective did not converge. You might want to increase the number of iterations. Duality gap: 1.3452074082140897e+18, tolerance: 4596848472146653.0\n",
      "  model = cd_fast.enet_coordinate_descent_gram(\n",
      "/Users/atrinsarmadi/opt/anaconda3/envs/metis/lib/python3.8/site-packages/sklearn/linear_model/_coordinate_descent.py:526: ConvergenceWarning: Objective did not converge. You might want to increase the number of iterations. Duality gap: 1.5278169814725632e+18, tolerance: 4596848472146653.0\n",
      "  model = cd_fast.enet_coordinate_descent_gram(\n",
      "/Users/atrinsarmadi/opt/anaconda3/envs/metis/lib/python3.8/site-packages/sklearn/linear_model/_coordinate_descent.py:526: ConvergenceWarning: Objective did not converge. You might want to increase the number of iterations. Duality gap: 1.5588193770241905e+18, tolerance: 4596848472146653.0\n",
      "  model = cd_fast.enet_coordinate_descent_gram(\n",
      "/Users/atrinsarmadi/opt/anaconda3/envs/metis/lib/python3.8/site-packages/sklearn/linear_model/_coordinate_descent.py:526: ConvergenceWarning: Objective did not converge. You might want to increase the number of iterations. Duality gap: 3.8265707525396777e+18, tolerance: 4596848472146653.0\n",
      "  model = cd_fast.enet_coordinate_descent_gram(\n",
      "/Users/atrinsarmadi/opt/anaconda3/envs/metis/lib/python3.8/site-packages/sklearn/linear_model/_coordinate_descent.py:526: ConvergenceWarning: Objective did not converge. You might want to increase the number of iterations. Duality gap: 4.495737564355716e+18, tolerance: 4596848472146653.0\n",
      "  model = cd_fast.enet_coordinate_descent_gram(\n",
      "/Users/atrinsarmadi/opt/anaconda3/envs/metis/lib/python3.8/site-packages/sklearn/linear_model/_coordinate_descent.py:526: ConvergenceWarning: Objective did not converge. You might want to increase the number of iterations. Duality gap: 4.001846498849447e+18, tolerance: 4596848472146653.0\n",
      "  model = cd_fast.enet_coordinate_descent_gram(\n",
      "/Users/atrinsarmadi/opt/anaconda3/envs/metis/lib/python3.8/site-packages/sklearn/linear_model/_coordinate_descent.py:526: ConvergenceWarning: Objective did not converge. You might want to increase the number of iterations. Duality gap: 4.646020523782375e+18, tolerance: 4596848472146653.0\n",
      "  model = cd_fast.enet_coordinate_descent_gram(\n",
      "/Users/atrinsarmadi/opt/anaconda3/envs/metis/lib/python3.8/site-packages/sklearn/linear_model/_coordinate_descent.py:526: ConvergenceWarning: Objective did not converge. You might want to increase the number of iterations. Duality gap: 3.2621406994670234e+18, tolerance: 4596848472146653.0\n",
      "  model = cd_fast.enet_coordinate_descent_gram(\n",
      "/Users/atrinsarmadi/opt/anaconda3/envs/metis/lib/python3.8/site-packages/sklearn/linear_model/_coordinate_descent.py:526: ConvergenceWarning: Objective did not converge. You might want to increase the number of iterations. Duality gap: 4.0051461178765957e+18, tolerance: 4596848472146653.0\n",
      "  model = cd_fast.enet_coordinate_descent_gram(\n",
      "/Users/atrinsarmadi/opt/anaconda3/envs/metis/lib/python3.8/site-packages/sklearn/linear_model/_coordinate_descent.py:526: ConvergenceWarning: Objective did not converge. You might want to increase the number of iterations. Duality gap: 6.182513934846013e+18, tolerance: 4596848472146653.0\n",
      "  model = cd_fast.enet_coordinate_descent_gram(\n",
      "/Users/atrinsarmadi/opt/anaconda3/envs/metis/lib/python3.8/site-packages/sklearn/linear_model/_coordinate_descent.py:526: ConvergenceWarning: Objective did not converge. You might want to increase the number of iterations. Duality gap: 6.324487992308156e+18, tolerance: 4596848472146653.0\n",
      "  model = cd_fast.enet_coordinate_descent_gram(\n",
      "/Users/atrinsarmadi/opt/anaconda3/envs/metis/lib/python3.8/site-packages/sklearn/linear_model/_coordinate_descent.py:526: ConvergenceWarning: Objective did not converge. You might want to increase the number of iterations. Duality gap: 6.89573291736714e+18, tolerance: 4596848472146653.0\n",
      "  model = cd_fast.enet_coordinate_descent_gram(\n",
      "/Users/atrinsarmadi/opt/anaconda3/envs/metis/lib/python3.8/site-packages/sklearn/linear_model/_coordinate_descent.py:526: ConvergenceWarning: Objective did not converge. You might want to increase the number of iterations. Duality gap: 6.183958341349315e+18, tolerance: 4596848472146653.0\n",
      "  model = cd_fast.enet_coordinate_descent_gram(\n",
      "/Users/atrinsarmadi/opt/anaconda3/envs/metis/lib/python3.8/site-packages/sklearn/linear_model/_coordinate_descent.py:526: ConvergenceWarning: Objective did not converge. You might want to increase the number of iterations. Duality gap: 6.325791959304221e+18, tolerance: 4596848472146653.0\n",
      "  model = cd_fast.enet_coordinate_descent_gram(\n",
      "/Users/atrinsarmadi/opt/anaconda3/envs/metis/lib/python3.8/site-packages/sklearn/linear_model/_coordinate_descent.py:526: ConvergenceWarning: Objective did not converge. You might want to increase the number of iterations. Duality gap: 7.061077199924968e+18, tolerance: 4596848472146653.0\n",
      "  model = cd_fast.enet_coordinate_descent_gram(\n",
      "/Users/atrinsarmadi/opt/anaconda3/envs/metis/lib/python3.8/site-packages/sklearn/linear_model/_coordinate_descent.py:526: ConvergenceWarning: Objective did not converge. You might want to increase the number of iterations. Duality gap: 6.984754632148455e+18, tolerance: 4596848472146653.0\n",
      "  model = cd_fast.enet_coordinate_descent_gram(\n",
      "/Users/atrinsarmadi/opt/anaconda3/envs/metis/lib/python3.8/site-packages/sklearn/linear_model/_coordinate_descent.py:526: ConvergenceWarning: Objective did not converge. You might want to increase the number of iterations. Duality gap: 6.932997129414212e+18, tolerance: 4596848472146653.0\n",
      "  model = cd_fast.enet_coordinate_descent_gram(\n",
      "/Users/atrinsarmadi/opt/anaconda3/envs/metis/lib/python3.8/site-packages/sklearn/linear_model/_coordinate_descent.py:526: ConvergenceWarning: Objective did not converge. You might want to increase the number of iterations. Duality gap: 7.161223547078249e+18, tolerance: 4596848472146653.0\n",
      "  model = cd_fast.enet_coordinate_descent_gram(\n",
      "/Users/atrinsarmadi/opt/anaconda3/envs/metis/lib/python3.8/site-packages/sklearn/linear_model/_coordinate_descent.py:526: ConvergenceWarning: Objective did not converge. You might want to increase the number of iterations. Duality gap: 7.164517416168942e+18, tolerance: 4596848472146653.0\n",
      "  model = cd_fast.enet_coordinate_descent_gram(\n",
      "/Users/atrinsarmadi/opt/anaconda3/envs/metis/lib/python3.8/site-packages/sklearn/linear_model/_coordinate_descent.py:526: ConvergenceWarning: Objective did not converge. You might want to increase the number of iterations. Duality gap: 7.246684187043499e+18, tolerance: 4596848472146653.0\n",
      "  model = cd_fast.enet_coordinate_descent_gram(\n",
      "/Users/atrinsarmadi/opt/anaconda3/envs/metis/lib/python3.8/site-packages/sklearn/linear_model/_coordinate_descent.py:526: ConvergenceWarning: Objective did not converge. You might want to increase the number of iterations. Duality gap: 7.312209403051981e+18, tolerance: 4596848472146653.0\n",
      "  model = cd_fast.enet_coordinate_descent_gram(\n",
      "/Users/atrinsarmadi/opt/anaconda3/envs/metis/lib/python3.8/site-packages/sklearn/linear_model/_coordinate_descent.py:526: ConvergenceWarning: Objective did not converge. You might want to increase the number of iterations. Duality gap: 7.40462699660863e+18, tolerance: 4596848472146653.0\n",
      "  model = cd_fast.enet_coordinate_descent_gram(\n",
      "/Users/atrinsarmadi/opt/anaconda3/envs/metis/lib/python3.8/site-packages/sklearn/linear_model/_coordinate_descent.py:526: ConvergenceWarning: Objective did not converge. You might want to increase the number of iterations. Duality gap: 7.405954158156055e+18, tolerance: 4596848472146653.0\n",
      "  model = cd_fast.enet_coordinate_descent_gram(\n",
      "/Users/atrinsarmadi/opt/anaconda3/envs/metis/lib/python3.8/site-packages/sklearn/linear_model/_coordinate_descent.py:526: ConvergenceWarning: Objective did not converge. You might want to increase the number of iterations. Duality gap: 7.439000775380657e+18, tolerance: 4596848472146653.0\n",
      "  model = cd_fast.enet_coordinate_descent_gram(\n",
      "/Users/atrinsarmadi/opt/anaconda3/envs/metis/lib/python3.8/site-packages/sklearn/linear_model/_coordinate_descent.py:526: ConvergenceWarning: Objective did not converge. You might want to increase the number of iterations. Duality gap: 7.465272619603252e+18, tolerance: 4596848472146653.0\n",
      "  model = cd_fast.enet_coordinate_descent_gram(\n",
      "/Users/atrinsarmadi/opt/anaconda3/envs/metis/lib/python3.8/site-packages/sklearn/linear_model/_coordinate_descent.py:526: ConvergenceWarning: Objective did not converge. You might want to increase the number of iterations. Duality gap: 7.486149901902759e+18, tolerance: 4596848472146653.0\n",
      "  model = cd_fast.enet_coordinate_descent_gram(\n",
      "/Users/atrinsarmadi/opt/anaconda3/envs/metis/lib/python3.8/site-packages/sklearn/linear_model/_coordinate_descent.py:526: ConvergenceWarning: Objective did not converge. You might want to increase the number of iterations. Duality gap: 7.534633615490729e+18, tolerance: 4596848472146653.0\n",
      "  model = cd_fast.enet_coordinate_descent_gram(\n",
      "/Users/atrinsarmadi/opt/anaconda3/envs/metis/lib/python3.8/site-packages/sklearn/linear_model/_coordinate_descent.py:526: ConvergenceWarning: Objective did not converge. You might want to increase the number of iterations. Duality gap: 7.526031666672546e+18, tolerance: 4596848472146653.0\n",
      "  model = cd_fast.enet_coordinate_descent_gram(\n",
      "/Users/atrinsarmadi/opt/anaconda3/envs/metis/lib/python3.8/site-packages/sklearn/linear_model/_coordinate_descent.py:526: ConvergenceWarning: Objective did not converge. You might want to increase the number of iterations. Duality gap: 3.5930216240062464e+16, tolerance: 3778227026892358.0\n",
      "  model = cd_fast.enet_coordinate_descent_gram(\n",
      "/Users/atrinsarmadi/opt/anaconda3/envs/metis/lib/python3.8/site-packages/sklearn/linear_model/_coordinate_descent.py:526: ConvergenceWarning: Objective did not converge. You might want to increase the number of iterations. Duality gap: 1.1842002405185946e+17, tolerance: 3778227026892358.0\n",
      "  model = cd_fast.enet_coordinate_descent_gram(\n",
      "/Users/atrinsarmadi/opt/anaconda3/envs/metis/lib/python3.8/site-packages/sklearn/linear_model/_coordinate_descent.py:526: ConvergenceWarning: Objective did not converge. You might want to increase the number of iterations. Duality gap: 5.39646725831381e+17, tolerance: 3778227026892358.0\n",
      "  model = cd_fast.enet_coordinate_descent_gram(\n",
      "/Users/atrinsarmadi/opt/anaconda3/envs/metis/lib/python3.8/site-packages/sklearn/linear_model/_coordinate_descent.py:526: ConvergenceWarning: Objective did not converge. You might want to increase the number of iterations. Duality gap: 7.857242567814205e+17, tolerance: 3778227026892358.0\n",
      "  model = cd_fast.enet_coordinate_descent_gram(\n",
      "/Users/atrinsarmadi/opt/anaconda3/envs/metis/lib/python3.8/site-packages/sklearn/linear_model/_coordinate_descent.py:526: ConvergenceWarning: Objective did not converge. You might want to increase the number of iterations. Duality gap: 9.923621803425423e+17, tolerance: 3778227026892358.0\n",
      "  model = cd_fast.enet_coordinate_descent_gram(\n",
      "/Users/atrinsarmadi/opt/anaconda3/envs/metis/lib/python3.8/site-packages/sklearn/linear_model/_coordinate_descent.py:526: ConvergenceWarning: Objective did not converge. You might want to increase the number of iterations. Duality gap: 5.422785415376568e+17, tolerance: 3778227026892358.0\n",
      "  model = cd_fast.enet_coordinate_descent_gram(\n",
      "/Users/atrinsarmadi/opt/anaconda3/envs/metis/lib/python3.8/site-packages/sklearn/linear_model/_coordinate_descent.py:526: ConvergenceWarning: Objective did not converge. You might want to increase the number of iterations. Duality gap: 1.1499441545580206e+18, tolerance: 3778227026892358.0\n",
      "  model = cd_fast.enet_coordinate_descent_gram(\n",
      "/Users/atrinsarmadi/opt/anaconda3/envs/metis/lib/python3.8/site-packages/sklearn/linear_model/_coordinate_descent.py:526: ConvergenceWarning: Objective did not converge. You might want to increase the number of iterations. Duality gap: 9.953562933584916e+17, tolerance: 3778227026892358.0\n",
      "  model = cd_fast.enet_coordinate_descent_gram(\n",
      "/Users/atrinsarmadi/opt/anaconda3/envs/metis/lib/python3.8/site-packages/sklearn/linear_model/_coordinate_descent.py:526: ConvergenceWarning: Objective did not converge. You might want to increase the number of iterations. Duality gap: 3.316514542196088e+18, tolerance: 3778227026892358.0\n",
      "  model = cd_fast.enet_coordinate_descent_gram(\n",
      "/Users/atrinsarmadi/opt/anaconda3/envs/metis/lib/python3.8/site-packages/sklearn/linear_model/_coordinate_descent.py:526: ConvergenceWarning: Objective did not converge. You might want to increase the number of iterations. Duality gap: 2.9521701209382103e+18, tolerance: 3778227026892358.0\n",
      "  model = cd_fast.enet_coordinate_descent_gram(\n",
      "/Users/atrinsarmadi/opt/anaconda3/envs/metis/lib/python3.8/site-packages/sklearn/linear_model/_coordinate_descent.py:526: ConvergenceWarning: Objective did not converge. You might want to increase the number of iterations. Duality gap: 1.7956871221480837e+18, tolerance: 3778227026892358.0\n",
      "  model = cd_fast.enet_coordinate_descent_gram(\n",
      "/Users/atrinsarmadi/opt/anaconda3/envs/metis/lib/python3.8/site-packages/sklearn/linear_model/_coordinate_descent.py:526: ConvergenceWarning: Objective did not converge. You might want to increase the number of iterations. Duality gap: 3.829632635249516e+18, tolerance: 3778227026892358.0\n",
      "  model = cd_fast.enet_coordinate_descent_gram(\n",
      "/Users/atrinsarmadi/opt/anaconda3/envs/metis/lib/python3.8/site-packages/sklearn/linear_model/_coordinate_descent.py:526: ConvergenceWarning: Objective did not converge. You might want to increase the number of iterations. Duality gap: 4.61405218301098e+18, tolerance: 3778227026892358.0\n",
      "  model = cd_fast.enet_coordinate_descent_gram(\n",
      "/Users/atrinsarmadi/opt/anaconda3/envs/metis/lib/python3.8/site-packages/sklearn/linear_model/_coordinate_descent.py:526: ConvergenceWarning: Objective did not converge. You might want to increase the number of iterations. Duality gap: 4.088974062204605e+18, tolerance: 3778227026892358.0\n",
      "  model = cd_fast.enet_coordinate_descent_gram(\n",
      "/Users/atrinsarmadi/opt/anaconda3/envs/metis/lib/python3.8/site-packages/sklearn/linear_model/_coordinate_descent.py:526: ConvergenceWarning: Objective did not converge. You might want to increase the number of iterations. Duality gap: 3.831377684012919e+18, tolerance: 3778227026892358.0\n",
      "  model = cd_fast.enet_coordinate_descent_gram(\n",
      "/Users/atrinsarmadi/opt/anaconda3/envs/metis/lib/python3.8/site-packages/sklearn/linear_model/_coordinate_descent.py:526: ConvergenceWarning: Objective did not converge. You might want to increase the number of iterations. Duality gap: 4.2436634538843264e+18, tolerance: 3778227026892358.0\n",
      "  model = cd_fast.enet_coordinate_descent_gram(\n",
      "/Users/atrinsarmadi/opt/anaconda3/envs/metis/lib/python3.8/site-packages/sklearn/linear_model/_coordinate_descent.py:526: ConvergenceWarning: Objective did not converge. You might want to increase the number of iterations. Duality gap: 3.8199674783306056e+18, tolerance: 3778227026892358.0\n",
      "  model = cd_fast.enet_coordinate_descent_gram(\n",
      "/Users/atrinsarmadi/opt/anaconda3/envs/metis/lib/python3.8/site-packages/sklearn/linear_model/_coordinate_descent.py:526: ConvergenceWarning: Objective did not converge. You might want to increase the number of iterations. Duality gap: 4.666549308899891e+18, tolerance: 3778227026892358.0\n",
      "  model = cd_fast.enet_coordinate_descent_gram(\n",
      "/Users/atrinsarmadi/opt/anaconda3/envs/metis/lib/python3.8/site-packages/sklearn/linear_model/_coordinate_descent.py:526: ConvergenceWarning: Objective did not converge. You might want to increase the number of iterations. Duality gap: 4.848937402432626e+18, tolerance: 3778227026892358.0\n",
      "  model = cd_fast.enet_coordinate_descent_gram(\n",
      "/Users/atrinsarmadi/opt/anaconda3/envs/metis/lib/python3.8/site-packages/sklearn/linear_model/_coordinate_descent.py:526: ConvergenceWarning: Objective did not converge. You might want to increase the number of iterations. Duality gap: 4.996133297371308e+18, tolerance: 3778227026892358.0\n",
      "  model = cd_fast.enet_coordinate_descent_gram(\n",
      "/Users/atrinsarmadi/opt/anaconda3/envs/metis/lib/python3.8/site-packages/sklearn/linear_model/_coordinate_descent.py:526: ConvergenceWarning: Objective did not converge. You might want to increase the number of iterations. Duality gap: 5.114485770479091e+18, tolerance: 3778227026892358.0\n",
      "  model = cd_fast.enet_coordinate_descent_gram(\n",
      "/Users/atrinsarmadi/opt/anaconda3/envs/metis/lib/python3.8/site-packages/sklearn/linear_model/_coordinate_descent.py:526: ConvergenceWarning: Objective did not converge. You might want to increase the number of iterations. Duality gap: 4.928527124105987e+18, tolerance: 3778227026892358.0\n",
      "  model = cd_fast.enet_coordinate_descent_gram(\n",
      "/Users/atrinsarmadi/opt/anaconda3/envs/metis/lib/python3.8/site-packages/sklearn/linear_model/_coordinate_descent.py:526: ConvergenceWarning: Objective did not converge. You might want to increase the number of iterations. Duality gap: 5.432575113032876e+18, tolerance: 3778227026892358.0\n",
      "  model = cd_fast.enet_coordinate_descent_gram(\n",
      "/Users/atrinsarmadi/opt/anaconda3/envs/metis/lib/python3.8/site-packages/sklearn/linear_model/_coordinate_descent.py:526: ConvergenceWarning: Objective did not converge. You might want to increase the number of iterations. Duality gap: 5.312594804641231e+18, tolerance: 3778227026892358.0\n",
      "  model = cd_fast.enet_coordinate_descent_gram(\n",
      "/Users/atrinsarmadi/opt/anaconda3/envs/metis/lib/python3.8/site-packages/sklearn/linear_model/_coordinate_descent.py:526: ConvergenceWarning: Objective did not converge. You might want to increase the number of iterations. Duality gap: 5.39423141890621e+18, tolerance: 3778227026892358.0\n",
      "  model = cd_fast.enet_coordinate_descent_gram(\n",
      "/Users/atrinsarmadi/opt/anaconda3/envs/metis/lib/python3.8/site-packages/sklearn/linear_model/_coordinate_descent.py:526: ConvergenceWarning: Objective did not converge. You might want to increase the number of iterations. Duality gap: 5.43273810193462e+18, tolerance: 3778227026892358.0\n",
      "  model = cd_fast.enet_coordinate_descent_gram(\n",
      "/Users/atrinsarmadi/opt/anaconda3/envs/metis/lib/python3.8/site-packages/sklearn/linear_model/_coordinate_descent.py:526: ConvergenceWarning: Objective did not converge. You might want to increase the number of iterations. Duality gap: 5.542251673721376e+18, tolerance: 3778227026892358.0\n",
      "  model = cd_fast.enet_coordinate_descent_gram(\n",
      "/Users/atrinsarmadi/opt/anaconda3/envs/metis/lib/python3.8/site-packages/sklearn/linear_model/_coordinate_descent.py:526: ConvergenceWarning: Objective did not converge. You might want to increase the number of iterations. Duality gap: 5.498185051063736e+18, tolerance: 3778227026892358.0\n",
      "  model = cd_fast.enet_coordinate_descent_gram(\n",
      "/Users/atrinsarmadi/opt/anaconda3/envs/metis/lib/python3.8/site-packages/sklearn/linear_model/_coordinate_descent.py:526: ConvergenceWarning: Objective did not converge. You might want to increase the number of iterations. Duality gap: 5.507146458163041e+18, tolerance: 3778227026892358.0\n",
      "  model = cd_fast.enet_coordinate_descent_gram(\n",
      "/Users/atrinsarmadi/opt/anaconda3/envs/metis/lib/python3.8/site-packages/sklearn/linear_model/_coordinate_descent.py:526: ConvergenceWarning: Objective did not converge. You might want to increase the number of iterations. Duality gap: 5.552182127252941e+18, tolerance: 3778227026892358.0\n",
      "  model = cd_fast.enet_coordinate_descent_gram(\n",
      "/Users/atrinsarmadi/opt/anaconda3/envs/metis/lib/python3.8/site-packages/sklearn/linear_model/_coordinate_descent.py:526: ConvergenceWarning: Objective did not converge. You might want to increase the number of iterations. Duality gap: 5.534782441922376e+18, tolerance: 3778227026892358.0\n",
      "  model = cd_fast.enet_coordinate_descent_gram(\n",
      "/Users/atrinsarmadi/opt/anaconda3/envs/metis/lib/python3.8/site-packages/sklearn/linear_model/_coordinate_descent.py:526: ConvergenceWarning: Objective did not converge. You might want to increase the number of iterations. Duality gap: 5.544499258951856e+18, tolerance: 3778227026892358.0\n",
      "  model = cd_fast.enet_coordinate_descent_gram(\n",
      "/Users/atrinsarmadi/opt/anaconda3/envs/metis/lib/python3.8/site-packages/sklearn/linear_model/_coordinate_descent.py:526: ConvergenceWarning: Objective did not converge. You might want to increase the number of iterations. Duality gap: 1.88715086333952e+16, tolerance: 4594544271013550.0\n",
      "  model = cd_fast.enet_coordinate_descent_gram(\n",
      "/Users/atrinsarmadi/opt/anaconda3/envs/metis/lib/python3.8/site-packages/sklearn/linear_model/_coordinate_descent.py:526: ConvergenceWarning: Objective did not converge. You might want to increase the number of iterations. Duality gap: 1.2617623833268634e+17, tolerance: 4594544271013550.0\n",
      "  model = cd_fast.enet_coordinate_descent_gram(\n",
      "/Users/atrinsarmadi/opt/anaconda3/envs/metis/lib/python3.8/site-packages/sklearn/linear_model/_coordinate_descent.py:526: ConvergenceWarning: Objective did not converge. You might want to increase the number of iterations. Duality gap: 9.62339924801966e+16, tolerance: 4594544271013550.0\n",
      "  model = cd_fast.enet_coordinate_descent_gram(\n",
      "/Users/atrinsarmadi/opt/anaconda3/envs/metis/lib/python3.8/site-packages/sklearn/linear_model/_coordinate_descent.py:526: ConvergenceWarning: Objective did not converge. You might want to increase the number of iterations. Duality gap: 7.17740797140695e+17, tolerance: 4594544271013550.0\n",
      "  model = cd_fast.enet_coordinate_descent_gram(\n",
      "/Users/atrinsarmadi/opt/anaconda3/envs/metis/lib/python3.8/site-packages/sklearn/linear_model/_coordinate_descent.py:526: ConvergenceWarning: Objective did not converge. You might want to increase the number of iterations. Duality gap: 6.471226130385633e+17, tolerance: 4594544271013550.0\n",
      "  model = cd_fast.enet_coordinate_descent_gram(\n",
      "/Users/atrinsarmadi/opt/anaconda3/envs/metis/lib/python3.8/site-packages/sklearn/linear_model/_coordinate_descent.py:526: ConvergenceWarning: Objective did not converge. You might want to increase the number of iterations. Duality gap: 2.024055660023724e+18, tolerance: 4594544271013550.0\n",
      "  model = cd_fast.enet_coordinate_descent_gram(\n"
     ]
    },
    {
     "name": "stderr",
     "output_type": "stream",
     "text": [
      "/Users/atrinsarmadi/opt/anaconda3/envs/metis/lib/python3.8/site-packages/sklearn/linear_model/_coordinate_descent.py:526: ConvergenceWarning: Objective did not converge. You might want to increase the number of iterations. Duality gap: 1.1012214495829197e+17, tolerance: 4594544271013550.0\n",
      "  model = cd_fast.enet_coordinate_descent_gram(\n",
      "/Users/atrinsarmadi/opt/anaconda3/envs/metis/lib/python3.8/site-packages/sklearn/linear_model/_coordinate_descent.py:526: ConvergenceWarning: Objective did not converge. You might want to increase the number of iterations. Duality gap: 1.761496845403435e+18, tolerance: 4594544271013550.0\n",
      "  model = cd_fast.enet_coordinate_descent_gram(\n",
      "/Users/atrinsarmadi/opt/anaconda3/envs/metis/lib/python3.8/site-packages/sklearn/linear_model/_coordinate_descent.py:526: ConvergenceWarning: Objective did not converge. You might want to increase the number of iterations. Duality gap: 2.976655015860146e+18, tolerance: 4594544271013550.0\n",
      "  model = cd_fast.enet_coordinate_descent_gram(\n",
      "/Users/atrinsarmadi/opt/anaconda3/envs/metis/lib/python3.8/site-packages/sklearn/linear_model/_coordinate_descent.py:526: ConvergenceWarning: Objective did not converge. You might want to increase the number of iterations. Duality gap: 3.655831465119665e+18, tolerance: 4594544271013550.0\n",
      "  model = cd_fast.enet_coordinate_descent_gram(\n",
      "/Users/atrinsarmadi/opt/anaconda3/envs/metis/lib/python3.8/site-packages/sklearn/linear_model/_coordinate_descent.py:526: ConvergenceWarning: Objective did not converge. You might want to increase the number of iterations. Duality gap: 3.498832392235616e+18, tolerance: 4594544271013550.0\n",
      "  model = cd_fast.enet_coordinate_descent_gram(\n",
      "/Users/atrinsarmadi/opt/anaconda3/envs/metis/lib/python3.8/site-packages/sklearn/linear_model/_coordinate_descent.py:526: ConvergenceWarning: Objective did not converge. You might want to increase the number of iterations. Duality gap: 5.420462981962019e+18, tolerance: 4594544271013550.0\n",
      "  model = cd_fast.enet_coordinate_descent_gram(\n",
      "/Users/atrinsarmadi/opt/anaconda3/envs/metis/lib/python3.8/site-packages/sklearn/linear_model/_coordinate_descent.py:526: ConvergenceWarning: Objective did not converge. You might want to increase the number of iterations. Duality gap: 5.15732340073641e+18, tolerance: 4594544271013550.0\n",
      "  model = cd_fast.enet_coordinate_descent_gram(\n",
      "/Users/atrinsarmadi/opt/anaconda3/envs/metis/lib/python3.8/site-packages/sklearn/linear_model/_coordinate_descent.py:526: ConvergenceWarning: Objective did not converge. You might want to increase the number of iterations. Duality gap: 5.063597091049506e+18, tolerance: 4594544271013550.0\n",
      "  model = cd_fast.enet_coordinate_descent_gram(\n",
      "/Users/atrinsarmadi/opt/anaconda3/envs/metis/lib/python3.8/site-packages/sklearn/linear_model/_coordinate_descent.py:526: ConvergenceWarning: Objective did not converge. You might want to increase the number of iterations. Duality gap: 5.145620252347965e+18, tolerance: 4594544271013550.0\n",
      "  model = cd_fast.enet_coordinate_descent_gram(\n",
      "/Users/atrinsarmadi/opt/anaconda3/envs/metis/lib/python3.8/site-packages/sklearn/linear_model/_coordinate_descent.py:526: ConvergenceWarning: Objective did not converge. You might want to increase the number of iterations. Duality gap: 6.003737248527485e+18, tolerance: 4594544271013550.0\n",
      "  model = cd_fast.enet_coordinate_descent_gram(\n",
      "/Users/atrinsarmadi/opt/anaconda3/envs/metis/lib/python3.8/site-packages/sklearn/linear_model/_coordinate_descent.py:526: ConvergenceWarning: Objective did not converge. You might want to increase the number of iterations. Duality gap: 5.500335689072415e+18, tolerance: 4594544271013550.0\n",
      "  model = cd_fast.enet_coordinate_descent_gram(\n",
      "/Users/atrinsarmadi/opt/anaconda3/envs/metis/lib/python3.8/site-packages/sklearn/linear_model/_coordinate_descent.py:526: ConvergenceWarning: Objective did not converge. You might want to increase the number of iterations. Duality gap: 6.332920670023982e+18, tolerance: 4594544271013550.0\n",
      "  model = cd_fast.enet_coordinate_descent_gram(\n",
      "/Users/atrinsarmadi/opt/anaconda3/envs/metis/lib/python3.8/site-packages/sklearn/linear_model/_coordinate_descent.py:526: ConvergenceWarning: Objective did not converge. You might want to increase the number of iterations. Duality gap: 6.450549318307592e+18, tolerance: 4594544271013550.0\n",
      "  model = cd_fast.enet_coordinate_descent_gram(\n",
      "/Users/atrinsarmadi/opt/anaconda3/envs/metis/lib/python3.8/site-packages/sklearn/linear_model/_coordinate_descent.py:526: ConvergenceWarning: Objective did not converge. You might want to increase the number of iterations. Duality gap: 6.544647101027841e+18, tolerance: 4594544271013550.0\n",
      "  model = cd_fast.enet_coordinate_descent_gram(\n",
      "/Users/atrinsarmadi/opt/anaconda3/envs/metis/lib/python3.8/site-packages/sklearn/linear_model/_coordinate_descent.py:526: ConvergenceWarning: Objective did not converge. You might want to increase the number of iterations. Duality gap: 6.333543543107889e+18, tolerance: 4594544271013550.0\n",
      "  model = cd_fast.enet_coordinate_descent_gram(\n",
      "/Users/atrinsarmadi/opt/anaconda3/envs/metis/lib/python3.8/site-packages/sklearn/linear_model/_coordinate_descent.py:526: ConvergenceWarning: Objective did not converge. You might want to increase the number of iterations. Duality gap: 6.005663126828722e+18, tolerance: 4594544271013550.0\n",
      "  model = cd_fast.enet_coordinate_descent_gram(\n",
      "/Users/atrinsarmadi/opt/anaconda3/envs/metis/lib/python3.8/site-packages/sklearn/linear_model/_coordinate_descent.py:526: ConvergenceWarning: Objective did not converge. You might want to increase the number of iterations. Duality gap: 6.545045695770359e+18, tolerance: 4594544271013550.0\n",
      "  model = cd_fast.enet_coordinate_descent_gram(\n",
      "/Users/atrinsarmadi/opt/anaconda3/envs/metis/lib/python3.8/site-packages/sklearn/linear_model/_coordinate_descent.py:526: ConvergenceWarning: Objective did not converge. You might want to increase the number of iterations. Duality gap: 6.620108011737967e+18, tolerance: 4594544271013550.0\n",
      "  model = cd_fast.enet_coordinate_descent_gram(\n",
      "/Users/atrinsarmadi/opt/anaconda3/envs/metis/lib/python3.8/site-packages/sklearn/linear_model/_coordinate_descent.py:526: ConvergenceWarning: Objective did not converge. You might want to increase the number of iterations. Duality gap: 6.679967665653088e+18, tolerance: 4594544271013550.0\n",
      "  model = cd_fast.enet_coordinate_descent_gram(\n",
      "/Users/atrinsarmadi/opt/anaconda3/envs/metis/lib/python3.8/site-packages/sklearn/linear_model/_coordinate_descent.py:526: ConvergenceWarning: Objective did not converge. You might want to increase the number of iterations. Duality gap: 6.727652567832066e+18, tolerance: 4594544271013550.0\n",
      "  model = cd_fast.enet_coordinate_descent_gram(\n",
      "/Users/atrinsarmadi/opt/anaconda3/envs/metis/lib/python3.8/site-packages/sklearn/linear_model/_coordinate_descent.py:526: ConvergenceWarning: Objective did not converge. You might want to increase the number of iterations. Duality gap: 6.765606888821202e+18, tolerance: 4594544271013550.0\n",
      "  model = cd_fast.enet_coordinate_descent_gram(\n",
      "/Users/atrinsarmadi/opt/anaconda3/envs/metis/lib/python3.8/site-packages/sklearn/linear_model/_coordinate_descent.py:526: ConvergenceWarning: Objective did not converge. You might want to increase the number of iterations. Duality gap: 6.81903017403745e+18, tolerance: 4594544271013550.0\n",
      "  model = cd_fast.enet_coordinate_descent_gram(\n",
      "/Users/atrinsarmadi/opt/anaconda3/envs/metis/lib/python3.8/site-packages/sklearn/linear_model/_coordinate_descent.py:526: ConvergenceWarning: Objective did not converge. You might want to increase the number of iterations. Duality gap: 6.866001571440227e+18, tolerance: 4594544271013550.0\n",
      "  model = cd_fast.enet_coordinate_descent_gram(\n",
      "/Users/atrinsarmadi/opt/anaconda3/envs/metis/lib/python3.8/site-packages/sklearn/linear_model/_coordinate_descent.py:526: ConvergenceWarning: Objective did not converge. You might want to increase the number of iterations. Duality gap: 6.8388686002442e+18, tolerance: 4594544271013550.0\n",
      "  model = cd_fast.enet_coordinate_descent_gram(\n",
      "/Users/atrinsarmadi/opt/anaconda3/envs/metis/lib/python3.8/site-packages/sklearn/linear_model/_coordinate_descent.py:526: ConvergenceWarning: Objective did not converge. You might want to increase the number of iterations. Duality gap: 6.883160225555596e+18, tolerance: 4594544271013550.0\n",
      "  model = cd_fast.enet_coordinate_descent_gram(\n",
      "/Users/atrinsarmadi/opt/anaconda3/envs/metis/lib/python3.8/site-packages/sklearn/linear_model/_coordinate_descent.py:526: ConvergenceWarning: Objective did not converge. You might want to increase the number of iterations. Duality gap: 6.866052435612004e+18, tolerance: 4594544271013550.0\n",
      "  model = cd_fast.enet_coordinate_descent_gram(\n",
      "/Users/atrinsarmadi/opt/anaconda3/envs/metis/lib/python3.8/site-packages/sklearn/linear_model/_coordinate_descent.py:526: ConvergenceWarning: Objective did not converge. You might want to increase the number of iterations. Duality gap: 1.1669026974656102e+17, tolerance: 4846797180467194.0\n",
      "  model = cd_fast.enet_coordinate_descent_gram(\n",
      "/Users/atrinsarmadi/opt/anaconda3/envs/metis/lib/python3.8/site-packages/sklearn/linear_model/_coordinate_descent.py:526: ConvergenceWarning: Objective did not converge. You might want to increase the number of iterations. Duality gap: 7.380620751549952e+17, tolerance: 4846797180467194.0\n",
      "  model = cd_fast.enet_coordinate_descent_gram(\n",
      "/Users/atrinsarmadi/opt/anaconda3/envs/metis/lib/python3.8/site-packages/sklearn/linear_model/_coordinate_descent.py:526: ConvergenceWarning: Objective did not converge. You might want to increase the number of iterations. Duality gap: 2.1138648719055667e+17, tolerance: 4846797180467194.0\n",
      "  model = cd_fast.enet_coordinate_descent_gram(\n",
      "/Users/atrinsarmadi/opt/anaconda3/envs/metis/lib/python3.8/site-packages/sklearn/linear_model/_coordinate_descent.py:526: ConvergenceWarning: Objective did not converge. You might want to increase the number of iterations. Duality gap: 3.463957452031611e+17, tolerance: 4846797180467194.0\n",
      "  model = cd_fast.enet_coordinate_descent_gram(\n",
      "/Users/atrinsarmadi/opt/anaconda3/envs/metis/lib/python3.8/site-packages/sklearn/linear_model/_coordinate_descent.py:526: ConvergenceWarning: Objective did not converge. You might want to increase the number of iterations. Duality gap: 3.2170553047845274e+17, tolerance: 4846797180467194.0\n",
      "  model = cd_fast.enet_coordinate_descent_gram(\n",
      "/Users/atrinsarmadi/opt/anaconda3/envs/metis/lib/python3.8/site-packages/sklearn/linear_model/_coordinate_descent.py:526: ConvergenceWarning: Objective did not converge. You might want to increase the number of iterations. Duality gap: 1.3638729195281777e+18, tolerance: 4846797180467194.0\n",
      "  model = cd_fast.enet_coordinate_descent_gram(\n",
      "/Users/atrinsarmadi/opt/anaconda3/envs/metis/lib/python3.8/site-packages/sklearn/linear_model/_coordinate_descent.py:526: ConvergenceWarning: Objective did not converge. You might want to increase the number of iterations. Duality gap: 1.549016303584088e+18, tolerance: 4846797180467194.0\n",
      "  model = cd_fast.enet_coordinate_descent_gram(\n",
      "/Users/atrinsarmadi/opt/anaconda3/envs/metis/lib/python3.8/site-packages/sklearn/linear_model/_coordinate_descent.py:526: ConvergenceWarning: Objective did not converge. You might want to increase the number of iterations. Duality gap: 2.031269808655233e+18, tolerance: 4846797180467194.0\n",
      "  model = cd_fast.enet_coordinate_descent_gram(\n",
      "/Users/atrinsarmadi/opt/anaconda3/envs/metis/lib/python3.8/site-packages/sklearn/linear_model/_coordinate_descent.py:526: ConvergenceWarning: Objective did not converge. You might want to increase the number of iterations. Duality gap: 2.4637965541899756e+18, tolerance: 4846797180467194.0\n",
      "  model = cd_fast.enet_coordinate_descent_gram(\n",
      "/Users/atrinsarmadi/opt/anaconda3/envs/metis/lib/python3.8/site-packages/sklearn/linear_model/_coordinate_descent.py:526: ConvergenceWarning: Objective did not converge. You might want to increase the number of iterations. Duality gap: 3.303599714986161e+18, tolerance: 4846797180467194.0\n",
      "  model = cd_fast.enet_coordinate_descent_gram(\n"
     ]
    },
    {
     "name": "stderr",
     "output_type": "stream",
     "text": [
      "/Users/atrinsarmadi/opt/anaconda3/envs/metis/lib/python3.8/site-packages/sklearn/linear_model/_coordinate_descent.py:526: ConvergenceWarning: Objective did not converge. You might want to increase the number of iterations. Duality gap: 4.057374375551137e+18, tolerance: 4846797180467194.0\n",
      "  model = cd_fast.enet_coordinate_descent_gram(\n",
      "/Users/atrinsarmadi/opt/anaconda3/envs/metis/lib/python3.8/site-packages/sklearn/linear_model/_coordinate_descent.py:526: ConvergenceWarning: Objective did not converge. You might want to increase the number of iterations. Duality gap: 2.4679387086253967e+18, tolerance: 4846797180467194.0\n",
      "  model = cd_fast.enet_coordinate_descent_gram(\n",
      "/Users/atrinsarmadi/opt/anaconda3/envs/metis/lib/python3.8/site-packages/sklearn/linear_model/_coordinate_descent.py:526: ConvergenceWarning: Objective did not converge. You might want to increase the number of iterations. Duality gap: 3.307404741102754e+18, tolerance: 4846797180467194.0\n",
      "  model = cd_fast.enet_coordinate_descent_gram(\n",
      "/Users/atrinsarmadi/opt/anaconda3/envs/metis/lib/python3.8/site-packages/sklearn/linear_model/_coordinate_descent.py:526: ConvergenceWarning: Objective did not converge. You might want to increase the number of iterations. Duality gap: 4.060719778652887e+18, tolerance: 4846797180467194.0\n",
      "  model = cd_fast.enet_coordinate_descent_gram(\n",
      "/Users/atrinsarmadi/opt/anaconda3/envs/metis/lib/python3.8/site-packages/sklearn/linear_model/_coordinate_descent.py:526: ConvergenceWarning: Objective did not converge. You might want to increase the number of iterations. Duality gap: 5.006633973666792e+18, tolerance: 4846797180467194.0\n",
      "  model = cd_fast.enet_coordinate_descent_gram(\n",
      "/Users/atrinsarmadi/opt/anaconda3/envs/metis/lib/python3.8/site-packages/sklearn/linear_model/_coordinate_descent.py:526: ConvergenceWarning: Objective did not converge. You might want to increase the number of iterations. Duality gap: 6.412243829404701e+18, tolerance: 4846797180467194.0\n",
      "  model = cd_fast.enet_coordinate_descent_gram(\n",
      "/Users/atrinsarmadi/opt/anaconda3/envs/metis/lib/python3.8/site-packages/sklearn/linear_model/_coordinate_descent.py:526: ConvergenceWarning: Objective did not converge. You might want to increase the number of iterations. Duality gap: 6.663165384435997e+18, tolerance: 4846797180467194.0\n",
      "  model = cd_fast.enet_coordinate_descent_gram(\n",
      "/Users/atrinsarmadi/opt/anaconda3/envs/metis/lib/python3.8/site-packages/sklearn/linear_model/_coordinate_descent.py:526: ConvergenceWarning: Objective did not converge. You might want to increase the number of iterations. Duality gap: 6.865675131738973e+18, tolerance: 4846797180467194.0\n",
      "  model = cd_fast.enet_coordinate_descent_gram(\n",
      "/Users/atrinsarmadi/opt/anaconda3/envs/metis/lib/python3.8/site-packages/sklearn/linear_model/_coordinate_descent.py:526: ConvergenceWarning: Objective did not converge. You might want to increase the number of iterations. Duality gap: 7.02850508676619e+18, tolerance: 4846797180467194.0\n",
      "  model = cd_fast.enet_coordinate_descent_gram(\n",
      "/Users/atrinsarmadi/opt/anaconda3/envs/metis/lib/python3.8/site-packages/sklearn/linear_model/_coordinate_descent.py:526: ConvergenceWarning: Objective did not converge. You might want to increase the number of iterations. Duality gap: 7.159053627619406e+18, tolerance: 4846797180467194.0\n",
      "  model = cd_fast.enet_coordinate_descent_gram(\n",
      "/Users/atrinsarmadi/opt/anaconda3/envs/metis/lib/python3.8/site-packages/sklearn/linear_model/_coordinate_descent.py:526: ConvergenceWarning: Objective did not converge. You might want to increase the number of iterations. Duality gap: 7.398282169980431e+18, tolerance: 4846797180467194.0\n",
      "  model = cd_fast.enet_coordinate_descent_gram(\n",
      "/Users/atrinsarmadi/opt/anaconda3/envs/metis/lib/python3.8/site-packages/sklearn/linear_model/_coordinate_descent.py:526: ConvergenceWarning: Objective did not converge. You might want to increase the number of iterations. Duality gap: 7.02919637390949e+18, tolerance: 4846797180467194.0\n",
      "  model = cd_fast.enet_coordinate_descent_gram(\n",
      "/Users/atrinsarmadi/opt/anaconda3/envs/metis/lib/python3.8/site-packages/sklearn/linear_model/_coordinate_descent.py:526: ConvergenceWarning: Objective did not converge. You might want to increase the number of iterations. Duality gap: 7.413389099895595e+18, tolerance: 4846797180467194.0\n",
      "  model = cd_fast.enet_coordinate_descent_gram(\n",
      "/Users/atrinsarmadi/opt/anaconda3/envs/metis/lib/python3.8/site-packages/sklearn/linear_model/_coordinate_descent.py:526: ConvergenceWarning: Objective did not converge. You might want to increase the number of iterations. Duality gap: 7.398579808988942e+18, tolerance: 4846797180467194.0\n",
      "  model = cd_fast.enet_coordinate_descent_gram(\n",
      "/Users/atrinsarmadi/opt/anaconda3/envs/metis/lib/python3.8/site-packages/sklearn/linear_model/_coordinate_descent.py:526: ConvergenceWarning: Objective did not converge. You might want to increase the number of iterations. Duality gap: 7.56269416068391e+18, tolerance: 4846797180467194.0\n",
      "  model = cd_fast.enet_coordinate_descent_gram(\n",
      "/Users/atrinsarmadi/opt/anaconda3/envs/metis/lib/python3.8/site-packages/sklearn/linear_model/_coordinate_descent.py:526: ConvergenceWarning: Objective did not converge. You might want to increase the number of iterations. Duality gap: 7.413670431671234e+18, tolerance: 4846797180467194.0\n",
      "  model = cd_fast.enet_coordinate_descent_gram(\n",
      "/Users/atrinsarmadi/opt/anaconda3/envs/metis/lib/python3.8/site-packages/sklearn/linear_model/_coordinate_descent.py:526: ConvergenceWarning: Objective did not converge. You might want to increase the number of iterations. Duality gap: 7.568744842218434e+18, tolerance: 4846797180467194.0\n",
      "  model = cd_fast.enet_coordinate_descent_gram(\n",
      "/Users/atrinsarmadi/opt/anaconda3/envs/metis/lib/python3.8/site-packages/sklearn/linear_model/_coordinate_descent.py:526: ConvergenceWarning: Objective did not converge. You might want to increase the number of iterations. Duality gap: 7.50871594811247e+18, tolerance: 4846797180467194.0\n",
      "  model = cd_fast.enet_coordinate_descent_gram(\n",
      "/Users/atrinsarmadi/opt/anaconda3/envs/metis/lib/python3.8/site-packages/sklearn/linear_model/_coordinate_descent.py:526: ConvergenceWarning: Objective did not converge. You might want to increase the number of iterations. Duality gap: 7.606768469368228e+18, tolerance: 4846797180467194.0\n",
      "  model = cd_fast.enet_coordinate_descent_gram(\n",
      "/Users/atrinsarmadi/opt/anaconda3/envs/metis/lib/python3.8/site-packages/sklearn/linear_model/_coordinate_descent.py:526: ConvergenceWarning: Objective did not converge. You might want to increase the number of iterations. Duality gap: 7.568857486660306e+18, tolerance: 4846797180467194.0\n",
      "  model = cd_fast.enet_coordinate_descent_gram(\n",
      "/Users/atrinsarmadi/opt/anaconda3/envs/metis/lib/python3.8/site-packages/sklearn/linear_model/_coordinate_descent.py:526: ConvergenceWarning: Objective did not converge. You might want to increase the number of iterations. Duality gap: 7.590024453023811e+18, tolerance: 4846797180467194.0\n",
      "  model = cd_fast.enet_coordinate_descent_gram(\n",
      "/Users/atrinsarmadi/opt/anaconda3/envs/metis/lib/python3.8/site-packages/sklearn/linear_model/_coordinate_descent.py:526: ConvergenceWarning: Objective did not converge. You might want to increase the number of iterations. Duality gap: 7.606839556715405e+18, tolerance: 4846797180467194.0\n",
      "  model = cd_fast.enet_coordinate_descent_gram(\n",
      "/Users/atrinsarmadi/opt/anaconda3/envs/metis/lib/python3.8/site-packages/sklearn/linear_model/_coordinate_descent.py:526: ConvergenceWarning: Objective did not converge. You might want to increase the number of iterations. Duality gap: 7.645870866169104e+18, tolerance: 4846797180467194.0\n",
      "  model = cd_fast.enet_coordinate_descent_gram(\n",
      "/Users/atrinsarmadi/opt/anaconda3/envs/metis/lib/python3.8/site-packages/sklearn/linear_model/_coordinate_descent.py:526: ConvergenceWarning: Objective did not converge. You might want to increase the number of iterations. Duality gap: 1.0770305079887462e+17, tolerance: 3860641858513097.5\n",
      "  model = cd_fast.enet_coordinate_descent_gram(\n",
      "/Users/atrinsarmadi/opt/anaconda3/envs/metis/lib/python3.8/site-packages/sklearn/linear_model/_coordinate_descent.py:526: ConvergenceWarning: Objective did not converge. You might want to increase the number of iterations. Duality gap: 2.290187583669043e+16, tolerance: 3860641858513097.5\n",
      "  model = cd_fast.enet_coordinate_descent_gram(\n",
      "/Users/atrinsarmadi/opt/anaconda3/envs/metis/lib/python3.8/site-packages/sklearn/linear_model/_coordinate_descent.py:526: ConvergenceWarning: Objective did not converge. You might want to increase the number of iterations. Duality gap: 9.930573526689915e+17, tolerance: 3860641858513097.5\n",
      "  model = cd_fast.enet_coordinate_descent_gram(\n",
      "/Users/atrinsarmadi/opt/anaconda3/envs/metis/lib/python3.8/site-packages/sklearn/linear_model/_coordinate_descent.py:526: ConvergenceWarning: Objective did not converge. You might want to increase the number of iterations. Duality gap: 1.4258620953171948e+18, tolerance: 3860641858513097.5\n",
      "  model = cd_fast.enet_coordinate_descent_gram(\n",
      "/Users/atrinsarmadi/opt/anaconda3/envs/metis/lib/python3.8/site-packages/sklearn/linear_model/_coordinate_descent.py:526: ConvergenceWarning: Objective did not converge. You might want to increase the number of iterations. Duality gap: 7.576977961917317e+17, tolerance: 3860641858513097.5\n",
      "  model = cd_fast.enet_coordinate_descent_gram(\n",
      "/Users/atrinsarmadi/opt/anaconda3/envs/metis/lib/python3.8/site-packages/sklearn/linear_model/_coordinate_descent.py:526: ConvergenceWarning: Objective did not converge. You might want to increase the number of iterations. Duality gap: 6.628860096668447e+17, tolerance: 3860641858513097.5\n",
      "  model = cd_fast.enet_coordinate_descent_gram(\n",
      "/Users/atrinsarmadi/opt/anaconda3/envs/metis/lib/python3.8/site-packages/sklearn/linear_model/_coordinate_descent.py:526: ConvergenceWarning: Objective did not converge. You might want to increase the number of iterations. Duality gap: 1.2512386712634675e+18, tolerance: 3860641858513097.5\n",
      "  model = cd_fast.enet_coordinate_descent_gram(\n",
      "/Users/atrinsarmadi/opt/anaconda3/envs/metis/lib/python3.8/site-packages/sklearn/linear_model/_coordinate_descent.py:526: ConvergenceWarning: Objective did not converge. You might want to increase the number of iterations. Duality gap: 5.2328018999346586e+17, tolerance: 3860641858513097.5\n",
      "  model = cd_fast.enet_coordinate_descent_gram(\n",
      "/Users/atrinsarmadi/opt/anaconda3/envs/metis/lib/python3.8/site-packages/sklearn/linear_model/_coordinate_descent.py:526: ConvergenceWarning: Objective did not converge. You might want to increase the number of iterations. Duality gap: 3.580863490969989e+18, tolerance: 3860641858513097.5\n",
      "  model = cd_fast.enet_coordinate_descent_gram(\n",
      "/Users/atrinsarmadi/opt/anaconda3/envs/metis/lib/python3.8/site-packages/sklearn/linear_model/_coordinate_descent.py:526: ConvergenceWarning: Objective did not converge. You might want to increase the number of iterations. Duality gap: 2.3564775794289254e+18, tolerance: 3860641858513097.5\n",
      "  model = cd_fast.enet_coordinate_descent_gram(\n",
      "/Users/atrinsarmadi/opt/anaconda3/envs/metis/lib/python3.8/site-packages/sklearn/linear_model/_coordinate_descent.py:526: ConvergenceWarning: Objective did not converge. You might want to increase the number of iterations. Duality gap: 3.7448846371610716e+18, tolerance: 3860641858513097.5\n",
      "  model = cd_fast.enet_coordinate_descent_gram(\n",
      "/Users/atrinsarmadi/opt/anaconda3/envs/metis/lib/python3.8/site-packages/sklearn/linear_model/_coordinate_descent.py:526: ConvergenceWarning: Objective did not converge. You might want to increase the number of iterations. Duality gap: 5.185020759971897e+18, tolerance: 3860641858513097.5\n",
      "  model = cd_fast.enet_coordinate_descent_gram(\n",
      "/Users/atrinsarmadi/opt/anaconda3/envs/metis/lib/python3.8/site-packages/sklearn/linear_model/_coordinate_descent.py:526: ConvergenceWarning: Objective did not converge. You might want to increase the number of iterations. Duality gap: 4.209812373627313e+18, tolerance: 3860641858513097.5\n",
      "  model = cd_fast.enet_coordinate_descent_gram(\n",
      "/Users/atrinsarmadi/opt/anaconda3/envs/metis/lib/python3.8/site-packages/sklearn/linear_model/_coordinate_descent.py:526: ConvergenceWarning: Objective did not converge. You might want to increase the number of iterations. Duality gap: 3.747972384931154e+18, tolerance: 3860641858513097.5\n",
      "  model = cd_fast.enet_coordinate_descent_gram(\n",
      "/Users/atrinsarmadi/opt/anaconda3/envs/metis/lib/python3.8/site-packages/sklearn/linear_model/_coordinate_descent.py:526: ConvergenceWarning: Objective did not converge. You might want to increase the number of iterations. Duality gap: 5.18694232378226e+18, tolerance: 3860641858513097.5\n",
      "  model = cd_fast.enet_coordinate_descent_gram(\n",
      "/Users/atrinsarmadi/opt/anaconda3/envs/metis/lib/python3.8/site-packages/sklearn/linear_model/_coordinate_descent.py:526: ConvergenceWarning: Objective did not converge. You might want to increase the number of iterations. Duality gap: 4.860176358488979e+18, tolerance: 3860641858513097.5\n",
      "  model = cd_fast.enet_coordinate_descent_gram(\n",
      "/Users/atrinsarmadi/opt/anaconda3/envs/metis/lib/python3.8/site-packages/sklearn/linear_model/_coordinate_descent.py:526: ConvergenceWarning: Objective did not converge. You might want to increase the number of iterations. Duality gap: 6.022369719527196e+18, tolerance: 3860641858513097.5\n",
      "  model = cd_fast.enet_coordinate_descent_gram(\n",
      "/Users/atrinsarmadi/opt/anaconda3/envs/metis/lib/python3.8/site-packages/sklearn/linear_model/_coordinate_descent.py:526: ConvergenceWarning: Objective did not converge. You might want to increase the number of iterations. Duality gap: 6.098118706508298e+18, tolerance: 3860641858513097.5\n",
      "  model = cd_fast.enet_coordinate_descent_gram(\n",
      "/Users/atrinsarmadi/opt/anaconda3/envs/metis/lib/python3.8/site-packages/sklearn/linear_model/_coordinate_descent.py:526: ConvergenceWarning: Objective did not converge. You might want to increase the number of iterations. Duality gap: 5.555654986023491e+18, tolerance: 3860641858513097.5\n",
      "  model = cd_fast.enet_coordinate_descent_gram(\n",
      "/Users/atrinsarmadi/opt/anaconda3/envs/metis/lib/python3.8/site-packages/sklearn/linear_model/_coordinate_descent.py:526: ConvergenceWarning: Objective did not converge. You might want to increase the number of iterations. Duality gap: 6.150970452595236e+18, tolerance: 3860641858513097.5\n",
      "  model = cd_fast.enet_coordinate_descent_gram(\n",
      "/Users/atrinsarmadi/opt/anaconda3/envs/metis/lib/python3.8/site-packages/sklearn/linear_model/_coordinate_descent.py:526: ConvergenceWarning: Objective did not converge. You might want to increase the number of iterations. Duality gap: 6.704069544266496e+18, tolerance: 3860641858513097.5\n",
      "  model = cd_fast.enet_coordinate_descent_gram(\n",
      "/Users/atrinsarmadi/opt/anaconda3/envs/metis/lib/python3.8/site-packages/sklearn/linear_model/_coordinate_descent.py:526: ConvergenceWarning: Objective did not converge. You might want to increase the number of iterations. Duality gap: 6.487823670120714e+18, tolerance: 3860641858513097.5\n",
      "  model = cd_fast.enet_coordinate_descent_gram(\n",
      "/Users/atrinsarmadi/opt/anaconda3/envs/metis/lib/python3.8/site-packages/sklearn/linear_model/_coordinate_descent.py:526: ConvergenceWarning: Objective did not converge. You might want to increase the number of iterations. Duality gap: 6.608190522536885e+18, tolerance: 3860641858513097.5\n",
      "  model = cd_fast.enet_coordinate_descent_gram(\n",
      "/Users/atrinsarmadi/opt/anaconda3/envs/metis/lib/python3.8/site-packages/sklearn/linear_model/_coordinate_descent.py:526: ConvergenceWarning: Objective did not converge. You might want to increase the number of iterations. Duality gap: 6.704477848462645e+18, tolerance: 3860641858513097.5\n",
      "  model = cd_fast.enet_coordinate_descent_gram(\n",
      "/Users/atrinsarmadi/opt/anaconda3/envs/metis/lib/python3.8/site-packages/sklearn/linear_model/_coordinate_descent.py:526: ConvergenceWarning: Objective did not converge. You might want to increase the number of iterations. Duality gap: 6.781368623264164e+18, tolerance: 3860641858513097.5\n",
      "  model = cd_fast.enet_coordinate_descent_gram(\n",
      "/Users/atrinsarmadi/opt/anaconda3/envs/metis/lib/python3.8/site-packages/sklearn/linear_model/_coordinate_descent.py:526: ConvergenceWarning: Objective did not converge. You might want to increase the number of iterations. Duality gap: 6.842686411152181e+18, tolerance: 3860641858513097.5\n",
      "  model = cd_fast.enet_coordinate_descent_gram(\n",
      "/Users/atrinsarmadi/opt/anaconda3/envs/metis/lib/python3.8/site-packages/sklearn/linear_model/_coordinate_descent.py:526: ConvergenceWarning: Objective did not converge. You might want to increase the number of iterations. Duality gap: 6.891532879950962e+18, tolerance: 3860641858513097.5\n",
      "  model = cd_fast.enet_coordinate_descent_gram(\n",
      "/Users/atrinsarmadi/opt/anaconda3/envs/metis/lib/python3.8/site-packages/sklearn/linear_model/_coordinate_descent.py:526: ConvergenceWarning: Objective did not converge. You might want to increase the number of iterations. Duality gap: 6.930411738274204e+18, tolerance: 3860641858513097.5\n",
      "  model = cd_fast.enet_coordinate_descent_gram(\n",
      "/Users/atrinsarmadi/opt/anaconda3/envs/metis/lib/python3.8/site-packages/sklearn/linear_model/_coordinate_descent.py:526: ConvergenceWarning: Objective did not converge. You might want to increase the number of iterations. Duality gap: 6.961336404972472e+18, tolerance: 3860641858513097.5\n",
      "  model = cd_fast.enet_coordinate_descent_gram(\n",
      "/Users/atrinsarmadi/opt/anaconda3/envs/metis/lib/python3.8/site-packages/sklearn/linear_model/_coordinate_descent.py:526: ConvergenceWarning: Objective did not converge. You might want to increase the number of iterations. Duality gap: 6.985921312426411e+18, tolerance: 3860641858513097.5\n",
      "  model = cd_fast.enet_coordinate_descent_gram(\n",
      "/Users/atrinsarmadi/opt/anaconda3/envs/metis/lib/python3.8/site-packages/sklearn/linear_model/_coordinate_descent.py:526: ConvergenceWarning: Objective did not converge. You might want to increase the number of iterations. Duality gap: 7.043049925748105e+18, tolerance: 3860641858513097.5\n",
      "  model = cd_fast.enet_coordinate_descent_gram(\n",
      "/Users/atrinsarmadi/opt/anaconda3/envs/metis/lib/python3.8/site-packages/sklearn/linear_model/_coordinate_descent.py:526: ConvergenceWarning: Objective did not converge. You might want to increase the number of iterations. Duality gap: 7.020978089906487e+18, tolerance: 3860641858513097.5\n",
      "  model = cd_fast.enet_coordinate_descent_gram(\n",
      "/Users/atrinsarmadi/opt/anaconda3/envs/metis/lib/python3.8/site-packages/sklearn/linear_model/_coordinate_descent.py:526: ConvergenceWarning: Objective did not converge. You might want to increase the number of iterations. Duality gap: 7.033304059388312e+18, tolerance: 3860641858513097.5\n",
      "  model = cd_fast.enet_coordinate_descent_gram(\n"
     ]
    },
    {
     "data": {
      "text/plain": [
       "LassoCV(alphas=array([1.00000000e-10, 1.26038293e-10, 1.58856513e-10, 2.00220037e-10,\n",
       "       2.52353917e-10, 3.18062569e-10, 4.00880633e-10, 5.05263107e-10,\n",
       "       6.36824994e-10, 8.02643352e-10, 1.01163798e-09, 1.27505124e-09,\n",
       "       1.60705282e-09, 2.02550194e-09, 2.55290807e-09, 3.21764175e-09,\n",
       "       4.05546074e-09, 5.11143348e-09, 6.44236351e-09, 8.11984499e-09,\n",
       "       1.02341140e-08, 1.28989026e-0...\n",
       "       4.88025158e+07, 6.15098579e+07, 7.75259749e+07, 9.77124154e+07,\n",
       "       1.23155060e+08, 1.55222536e+08, 1.95639834e+08, 2.46581108e+08,\n",
       "       3.10786619e+08, 3.91710149e+08, 4.93704785e+08, 6.22257084e+08,\n",
       "       7.84282206e+08, 9.88495905e+08, 1.24588336e+09, 1.57029012e+09,\n",
       "       1.97916687e+09, 2.49450814e+09, 3.14403547e+09, 3.96268864e+09,\n",
       "       4.99450512e+09, 6.29498899e+09, 7.93409667e+09, 1.00000000e+10]),\n",
       "        cv=5)"
      ]
     },
     "execution_count": 16,
     "metadata": {},
     "output_type": "execute_result"
    }
   ],
   "source": [
    "alphavec = 10**np.linspace(-10,10,200)\n",
    "\n",
    "lasso_model = LassoCV(alphas = alphavec, cv=5)\n",
    "lasso_model.fit(X_tr, y_train)"
   ]
  },
  {
   "cell_type": "code",
   "execution_count": 17,
   "id": "5acdb71b",
   "metadata": {},
   "outputs": [
    {
     "data": {
      "text/plain": [
       "1516716.888470924"
      ]
     },
     "execution_count": 17,
     "metadata": {},
     "output_type": "execute_result"
    }
   ],
   "source": [
    "optimal_alpha = lasso_model.alpha_\n",
    "optimal_alpha"
   ]
  },
  {
   "cell_type": "code",
   "execution_count": 18,
   "id": "854828f7",
   "metadata": {
    "scrolled": true
   },
   "outputs": [],
   "source": [
    "standard_coeffs = list(zip(X_train.columns, lasso_model.coef_))"
   ]
  },
  {
   "cell_type": "code",
   "execution_count": 19,
   "id": "210a1716",
   "metadata": {},
   "outputs": [
    {
     "data": {
      "text/plain": [
       "Lasso(alpha=1516716.888470924)"
      ]
     },
     "execution_count": 19,
     "metadata": {},
     "output_type": "execute_result"
    }
   ],
   "source": [
    "lasso_model = Lasso(alpha = optimal_alpha)\n",
    "lasso_model.fit(X_tr, y_train)"
   ]
  },
  {
   "cell_type": "code",
   "execution_count": 20,
   "id": "24baf36d",
   "metadata": {},
   "outputs": [
    {
     "data": {
      "text/plain": [
       "0.6745933170079262"
      ]
     },
     "execution_count": 20,
     "metadata": {},
     "output_type": "execute_result"
    }
   ],
   "source": [
    "lasso_model.score(X_tr, y_train)"
   ]
  },
  {
   "cell_type": "code",
   "execution_count": 21,
   "id": "baca238b",
   "metadata": {},
   "outputs": [
    {
     "data": {
      "text/plain": [
       "0.6024614394438617"
      ]
     },
     "execution_count": 21,
     "metadata": {},
     "output_type": "execute_result"
    }
   ],
   "source": [
    "lasso_model.score(X_te, y_test)"
   ]
  },
  {
   "cell_type": "code",
   "execution_count": 22,
   "id": "f7ec3335",
   "metadata": {},
   "outputs": [],
   "source": [
    "test_set_pred = lasso_model.predict(X_te)"
   ]
  },
  {
   "cell_type": "code",
   "execution_count": 23,
   "id": "d2b69f4b",
   "metadata": {},
   "outputs": [
    {
     "data": {
      "text/plain": [
       "114845151.14295869"
      ]
     },
     "execution_count": 23,
     "metadata": {},
     "output_type": "execute_result"
    }
   ],
   "source": [
    "#Mean Absolute Error (MAE)\n",
    "def mae(y_true, y_pred):\n",
    "    return np.mean(np.abs(y_pred - y_true)) \n",
    "\n",
    "mae(y_test, test_set_pred)"
   ]
  },
  {
   "cell_type": "code",
   "execution_count": 24,
   "id": "1793deb8",
   "metadata": {},
   "outputs": [
    {
     "data": {
      "text/plain": [
       "0.6024614394438617"
      ]
     },
     "execution_count": 24,
     "metadata": {},
     "output_type": "execute_result"
    }
   ],
   "source": [
    "r2_score(y_test, test_set_pred)"
   ]
  },
  {
   "cell_type": "code",
   "execution_count": 25,
   "id": "30b66c86",
   "metadata": {},
   "outputs": [],
   "source": [
    "residuals = y_test - test_set_pred"
   ]
  },
  {
   "cell_type": "code",
   "execution_count": null,
   "id": "4eab6968",
   "metadata": {},
   "outputs": [],
   "source": []
  },
  {
   "cell_type": "code",
   "execution_count": 26,
   "id": "c57f8e50",
   "metadata": {},
   "outputs": [],
   "source": [
    "import scipy.stats as stats\n",
    "\n",
    "def diagnostic_plots(y_pred, y_true, resid):\n",
    "    fig, axes = plt.subplots(1, 3, figsize=(10, 4))\n",
    "\n",
    "    g1 = sns.regplot(x=y_pred, y=y_true, ci=False, fit_reg=False, line_kws={'color': 'blue'}, ax=axes[0], scatter_kws={'s': 5})\n",
    "    g1.set_xlabel('Predicted Target')\n",
    "    g1.set_ylabel('True Target')\n",
    "    g1.plot(y_true, y_true, '--', color='gray')\n",
    "\n",
    "    g2 = sns.regplot(x=y_pred, y=resid, lowess=True, ax=axes[1], line_kws={'color': 'red'}, scatter_kws={'s': 5})\n",
    "    g2.set_xlabel('Predicted Target')\n",
    "    g2.set_ylabel('Residual')\n",
    "    g2.axhline(y=0, color='gray', linestyle='--')\n",
    "\n",
    "    stats.probplot(resid, dist=\"norm\", plot=axes[2])\n",
    "\n",
    "    fig.suptitle('Diagnostic Plots');\n",
    "    fig.tight_layout();"
   ]
  },
  {
   "cell_type": "code",
   "execution_count": 27,
   "id": "5ade1765",
   "metadata": {},
   "outputs": [
    {
     "data": {
      "image/png": "[encoded data removed]",
      "text/plain": [
       "<Figure size 720x288 with 3 Axes>"
      ]
     },
     "metadata": {},
     "output_type": "display_data"
    }
   ],
   "source": [
    "diagnostic_plots(test_set_pred, y_test, residuals)"
   ]
  },
  {
   "cell_type": "code",
   "execution_count": null,
   "id": "ac7281c2",
   "metadata": {},
   "outputs": [],
   "source": []
  },
  {
   "cell_type": "code",
   "execution_count": 127,
   "id": "36b9ca56",
   "metadata": {},
   "outputs": [
    {
     "data": {
      "image/png": "[encoded data removed]",
      "text/plain": [
       "<Figure size 1152x360 with 1 Axes>"
      ]
     },
     "metadata": {},
     "output_type": "display_data"
    }
   ],
   "source": [
    "plt.figure(1,figsize=(16,5))\n",
    "fig = sns.regplot(x = test_set_pred, y = y_test)\n",
    "fig.set(xlabel='Prediction',ylabel = 'Actual', title = 'Original Release Gross Worldwide')\n",
    "plt.savefig('Actualvsprediction.png')"
   ]
  },
  {
   "cell_type": "code",
   "execution_count": 29,
   "id": "6d73715b",
   "metadata": {},
   "outputs": [
    {
     "data": {
      "text/plain": [
       "<AxesSubplot:ylabel='Original Release Gross Worldwide'>"
      ]
     },
     "execution_count": 29,
     "metadata": {},
     "output_type": "execute_result"
    },
    {
     "data": {
      "image/png": "[encoded data removed]",
      "text/plain": [
       "<Figure size 432x288 with 1 Axes>"
      ]
     },
     "metadata": {},
     "output_type": "display_data"
    }
   ],
   "source": [
    "sns.regplot(x = test_set_pred, y = residuals)"
   ]
  },
  {
   "cell_type": "code",
   "execution_count": null,
   "id": "39217cb6",
   "metadata": {},
   "outputs": [],
   "source": []
  },
  {
   "cell_type": "code",
   "execution_count": 30,
   "id": "356ca8ab",
   "metadata": {},
   "outputs": [
    {
     "data": {
      "text/plain": [
       "[('Action', -1839306.199494137),\n",
       " ('Adventure', 26359940.429126143),\n",
       " ('Animation', 29854441.51966838),\n",
       " ('Budget', 22282534.724680465),\n",
       " ('Comedy', 0.0),\n",
       " ('Crime', -6675980.787431181),\n",
       " ('Domestic Opening', 199999575.24430412),\n",
       " ('Drama', 9712645.968117911),\n",
       " ('Family', 0.0),\n",
       " ('Fantasy', 5394236.9731556),\n",
       " ('Other_Genres', -2362842.5829804456),\n",
       " ('Rating_G', 6674907.131007615),\n",
       " ('Rating_PG', -4307267.953900343),\n",
       " ('Rating_PG-13', -662172.5082147934),\n",
       " ('Rating_R', -5964045.005898917),\n",
       " ('Romance', 0.0),\n",
       " ('Running Time', 41851351.03422188),\n",
       " ('Science fiction', -15561996.733707618),\n",
       " ('Thriller', -5747467.361104509),\n",
       " ('Year of Release', 7389869.0073460415)]"
      ]
     },
     "execution_count": 30,
     "metadata": {},
     "output_type": "execute_result"
    }
   ],
   "source": [
    "standard_coeffs"
   ]
  },
  {
   "cell_type": "code",
   "execution_count": 31,
   "id": "8f07ee2b",
   "metadata": {},
   "outputs": [],
   "source": [
    "st_coeff_dict = {}\n",
    "for items in standard_coeffs:\n",
    "    st_coeff_dict[items[0]] = items[1]"
   ]
  },
  {
   "cell_type": "code",
   "execution_count": 32,
   "id": "7b13fcc2",
   "metadata": {},
   "outputs": [
    {
     "data": {
      "text/plain": [
       "{'Action': -1839306.199494137,\n",
       " 'Adventure': 26359940.429126143,\n",
       " 'Animation': 29854441.51966838,\n",
       " 'Budget': 22282534.724680465,\n",
       " 'Comedy': 0.0,\n",
       " 'Crime': -6675980.787431181,\n",
       " 'Domestic Opening': 199999575.24430412,\n",
       " 'Drama': 9712645.968117911,\n",
       " 'Family': 0.0,\n",
       " 'Fantasy': 5394236.9731556,\n",
       " 'Other_Genres': -2362842.5829804456,\n",
       " 'Rating_G': 6674907.131007615,\n",
       " 'Rating_PG': -4307267.953900343,\n",
       " 'Rating_PG-13': -662172.5082147934,\n",
       " 'Rating_R': -5964045.005898917,\n",
       " 'Romance': 0.0,\n",
       " 'Running Time': 41851351.03422188,\n",
       " 'Science fiction': -15561996.733707618,\n",
       " 'Thriller': -5747467.361104509,\n",
       " 'Year of Release': 7389869.0073460415}"
      ]
     },
     "execution_count": 32,
     "metadata": {},
     "output_type": "execute_result"
    }
   ],
   "source": [
    "st_coeff_dict "
   ]
  },
  {
   "cell_type": "code",
   "execution_count": 33,
   "id": "ee543403",
   "metadata": {},
   "outputs": [],
   "source": [
    "coeff_df = pd.DataFrame.from_dict(st_coeff_dict, orient='index', columns = ['st_coeff'])"
   ]
  },
  {
   "cell_type": "code",
   "execution_count": 34,
   "id": "deef813b",
   "metadata": {},
   "outputs": [
    {
     "data": {
      "text/html": [
       "<div>\n",
       "<style scoped>\n",
       "    .dataframe tbody tr th:only-of-type {\n",
       "        vertical-align: middle;\n",
       "    }\n",
       "\n",
       "    .dataframe tbody tr th {\n",
       "        vertical-align: top;\n",
       "    }\n",
       "\n",
       "    .dataframe thead th {\n",
       "        text-align: right;\n",
       "    }\n",
       "</style>\n",
       "<table border=\"1\" class=\"dataframe\">\n",
       "  <thead>\n",
       "    <tr style=\"text-align: right;\">\n",
       "      <th></th>\n",
       "      <th>st_coeff</th>\n",
       "    </tr>\n",
       "  </thead>\n",
       "  <tbody>\n",
       "    <tr>\n",
       "      <th>Action</th>\n",
       "      <td>-1.839306e+06</td>\n",
       "    </tr>\n",
       "    <tr>\n",
       "      <th>Adventure</th>\n",
       "      <td>2.635994e+07</td>\n",
       "    </tr>\n",
       "    <tr>\n",
       "      <th>Animation</th>\n",
       "      <td>2.985444e+07</td>\n",
       "    </tr>\n",
       "    <tr>\n",
       "      <th>Budget</th>\n",
       "      <td>2.228253e+07</td>\n",
       "    </tr>\n",
       "    <tr>\n",
       "      <th>Comedy</th>\n",
       "      <td>0.000000e+00</td>\n",
       "    </tr>\n",
       "    <tr>\n",
       "      <th>Crime</th>\n",
       "      <td>-6.675981e+06</td>\n",
       "    </tr>\n",
       "    <tr>\n",
       "      <th>Domestic Opening</th>\n",
       "      <td>1.999996e+08</td>\n",
       "    </tr>\n",
       "    <tr>\n",
       "      <th>Drama</th>\n",
       "      <td>9.712646e+06</td>\n",
       "    </tr>\n",
       "    <tr>\n",
       "      <th>Family</th>\n",
       "      <td>0.000000e+00</td>\n",
       "    </tr>\n",
       "    <tr>\n",
       "      <th>Fantasy</th>\n",
       "      <td>5.394237e+06</td>\n",
       "    </tr>\n",
       "    <tr>\n",
       "      <th>Other_Genres</th>\n",
       "      <td>-2.362843e+06</td>\n",
       "    </tr>\n",
       "    <tr>\n",
       "      <th>Rating_G</th>\n",
       "      <td>6.674907e+06</td>\n",
       "    </tr>\n",
       "    <tr>\n",
       "      <th>Rating_PG</th>\n",
       "      <td>-4.307268e+06</td>\n",
       "    </tr>\n",
       "    <tr>\n",
       "      <th>Rating_PG-13</th>\n",
       "      <td>-6.621725e+05</td>\n",
       "    </tr>\n",
       "    <tr>\n",
       "      <th>Rating_R</th>\n",
       "      <td>-5.964045e+06</td>\n",
       "    </tr>\n",
       "    <tr>\n",
       "      <th>Romance</th>\n",
       "      <td>0.000000e+00</td>\n",
       "    </tr>\n",
       "    <tr>\n",
       "      <th>Running Time</th>\n",
       "      <td>4.185135e+07</td>\n",
       "    </tr>\n",
       "    <tr>\n",
       "      <th>Science fiction</th>\n",
       "      <td>-1.556200e+07</td>\n",
       "    </tr>\n",
       "    <tr>\n",
       "      <th>Thriller</th>\n",
       "      <td>-5.747467e+06</td>\n",
       "    </tr>\n",
       "    <tr>\n",
       "      <th>Year of Release</th>\n",
       "      <td>7.389869e+06</td>\n",
       "    </tr>\n",
       "  </tbody>\n",
       "</table>\n",
       "</div>"
      ],
      "text/plain": [
       "                      st_coeff\n",
       "Action           -1.839306e+06\n",
       "Adventure         2.635994e+07\n",
       "Animation         2.985444e+07\n",
       "Budget            2.228253e+07\n",
       "Comedy            0.000000e+00\n",
       "Crime            -6.675981e+06\n",
       "Domestic Opening  1.999996e+08\n",
       "Drama             9.712646e+06\n",
       "Family            0.000000e+00\n",
       "Fantasy           5.394237e+06\n",
       "Other_Genres     -2.362843e+06\n",
       "Rating_G          6.674907e+06\n",
       "Rating_PG        -4.307268e+06\n",
       "Rating_PG-13     -6.621725e+05\n",
       "Rating_R         -5.964045e+06\n",
       "Romance           0.000000e+00\n",
       "Running Time      4.185135e+07\n",
       "Science fiction  -1.556200e+07\n",
       "Thriller         -5.747467e+06\n",
       "Year of Release   7.389869e+06"
      ]
     },
     "execution_count": 34,
     "metadata": {},
     "output_type": "execute_result"
    }
   ],
   "source": [
    "coeff_df"
   ]
  },
  {
   "cell_type": "code",
   "execution_count": 35,
   "id": "50ef69e6",
   "metadata": {},
   "outputs": [],
   "source": [
    "coeff_df.reset_index(inplace= True)"
   ]
  },
  {
   "cell_type": "code",
   "execution_count": 36,
   "id": "05ae3368",
   "metadata": {},
   "outputs": [],
   "source": [
    "coeff_df.rename(columns={'index':'Feature'}, inplace = True)"
   ]
  },
  {
   "cell_type": "code",
   "execution_count": 37,
   "id": "df1c3b16",
   "metadata": {},
   "outputs": [
    {
     "data": {
      "text/html": [
       "<div>\n",
       "<style scoped>\n",
       "    .dataframe tbody tr th:only-of-type {\n",
       "        vertical-align: middle;\n",
       "    }\n",
       "\n",
       "    .dataframe tbody tr th {\n",
       "        vertical-align: top;\n",
       "    }\n",
       "\n",
       "    .dataframe thead th {\n",
       "        text-align: right;\n",
       "    }\n",
       "</style>\n",
       "<table border=\"1\" class=\"dataframe\">\n",
       "  <thead>\n",
       "    <tr style=\"text-align: right;\">\n",
       "      <th></th>\n",
       "      <th>Feature</th>\n",
       "      <th>st_coeff</th>\n",
       "    </tr>\n",
       "  </thead>\n",
       "  <tbody>\n",
       "    <tr>\n",
       "      <th>0</th>\n",
       "      <td>Action</td>\n",
       "      <td>-1.839306e+06</td>\n",
       "    </tr>\n",
       "    <tr>\n",
       "      <th>1</th>\n",
       "      <td>Adventure</td>\n",
       "      <td>2.635994e+07</td>\n",
       "    </tr>\n",
       "    <tr>\n",
       "      <th>2</th>\n",
       "      <td>Animation</td>\n",
       "      <td>2.985444e+07</td>\n",
       "    </tr>\n",
       "    <tr>\n",
       "      <th>3</th>\n",
       "      <td>Budget</td>\n",
       "      <td>2.228253e+07</td>\n",
       "    </tr>\n",
       "    <tr>\n",
       "      <th>4</th>\n",
       "      <td>Comedy</td>\n",
       "      <td>0.000000e+00</td>\n",
       "    </tr>\n",
       "    <tr>\n",
       "      <th>5</th>\n",
       "      <td>Crime</td>\n",
       "      <td>-6.675981e+06</td>\n",
       "    </tr>\n",
       "    <tr>\n",
       "      <th>6</th>\n",
       "      <td>Domestic Opening</td>\n",
       "      <td>1.999996e+08</td>\n",
       "    </tr>\n",
       "    <tr>\n",
       "      <th>7</th>\n",
       "      <td>Drama</td>\n",
       "      <td>9.712646e+06</td>\n",
       "    </tr>\n",
       "    <tr>\n",
       "      <th>8</th>\n",
       "      <td>Family</td>\n",
       "      <td>0.000000e+00</td>\n",
       "    </tr>\n",
       "    <tr>\n",
       "      <th>9</th>\n",
       "      <td>Fantasy</td>\n",
       "      <td>5.394237e+06</td>\n",
       "    </tr>\n",
       "    <tr>\n",
       "      <th>10</th>\n",
       "      <td>Other_Genres</td>\n",
       "      <td>-2.362843e+06</td>\n",
       "    </tr>\n",
       "    <tr>\n",
       "      <th>11</th>\n",
       "      <td>Rating_G</td>\n",
       "      <td>6.674907e+06</td>\n",
       "    </tr>\n",
       "    <tr>\n",
       "      <th>12</th>\n",
       "      <td>Rating_PG</td>\n",
       "      <td>-4.307268e+06</td>\n",
       "    </tr>\n",
       "    <tr>\n",
       "      <th>13</th>\n",
       "      <td>Rating_PG-13</td>\n",
       "      <td>-6.621725e+05</td>\n",
       "    </tr>\n",
       "    <tr>\n",
       "      <th>14</th>\n",
       "      <td>Rating_R</td>\n",
       "      <td>-5.964045e+06</td>\n",
       "    </tr>\n",
       "    <tr>\n",
       "      <th>15</th>\n",
       "      <td>Romance</td>\n",
       "      <td>0.000000e+00</td>\n",
       "    </tr>\n",
       "    <tr>\n",
       "      <th>16</th>\n",
       "      <td>Running Time</td>\n",
       "      <td>4.185135e+07</td>\n",
       "    </tr>\n",
       "    <tr>\n",
       "      <th>17</th>\n",
       "      <td>Science fiction</td>\n",
       "      <td>-1.556200e+07</td>\n",
       "    </tr>\n",
       "    <tr>\n",
       "      <th>18</th>\n",
       "      <td>Thriller</td>\n",
       "      <td>-5.747467e+06</td>\n",
       "    </tr>\n",
       "    <tr>\n",
       "      <th>19</th>\n",
       "      <td>Year of Release</td>\n",
       "      <td>7.389869e+06</td>\n",
       "    </tr>\n",
       "  </tbody>\n",
       "</table>\n",
       "</div>"
      ],
      "text/plain": [
       "             Feature      st_coeff\n",
       "0             Action -1.839306e+06\n",
       "1          Adventure  2.635994e+07\n",
       "2          Animation  2.985444e+07\n",
       "3             Budget  2.228253e+07\n",
       "4             Comedy  0.000000e+00\n",
       "5              Crime -6.675981e+06\n",
       "6   Domestic Opening  1.999996e+08\n",
       "7              Drama  9.712646e+06\n",
       "8             Family  0.000000e+00\n",
       "9            Fantasy  5.394237e+06\n",
       "10      Other_Genres -2.362843e+06\n",
       "11          Rating_G  6.674907e+06\n",
       "12         Rating_PG -4.307268e+06\n",
       "13      Rating_PG-13 -6.621725e+05\n",
       "14          Rating_R -5.964045e+06\n",
       "15           Romance  0.000000e+00\n",
       "16      Running Time  4.185135e+07\n",
       "17   Science fiction -1.556200e+07\n",
       "18          Thriller -5.747467e+06\n",
       "19   Year of Release  7.389869e+06"
      ]
     },
     "execution_count": 37,
     "metadata": {},
     "output_type": "execute_result"
    }
   ],
   "source": [
    "coeff_df"
   ]
  },
  {
   "cell_type": "code",
   "execution_count": 106,
   "id": "429e511c",
   "metadata": {},
   "outputs": [],
   "source": [
    "coeff_df['coeff'] = coeff_df['st_coeff'] * y.std()"
   ]
  },
  {
   "cell_type": "code",
   "execution_count": 113,
   "id": "0e46871a",
   "metadata": {},
   "outputs": [
    {
     "data": {
      "text/html": [
       "<div>\n",
       "<style scoped>\n",
       "    .dataframe tbody tr th:only-of-type {\n",
       "        vertical-align: middle;\n",
       "    }\n",
       "\n",
       "    .dataframe tbody tr th {\n",
       "        vertical-align: top;\n",
       "    }\n",
       "\n",
       "    .dataframe thead th {\n",
       "        text-align: right;\n",
       "    }\n",
       "</style>\n",
       "<table border=\"1\" class=\"dataframe\">\n",
       "  <thead>\n",
       "    <tr style=\"text-align: right;\">\n",
       "      <th></th>\n",
       "      <th>Feature</th>\n",
       "      <th>st_coeff</th>\n",
       "      <th>coeff</th>\n",
       "    </tr>\n",
       "  </thead>\n",
       "  <tbody>\n",
       "    <tr>\n",
       "      <th>6</th>\n",
       "      <td>Domestic Opening</td>\n",
       "      <td>1.999996e+08</td>\n",
       "      <td>5.764710e+16</td>\n",
       "    </tr>\n",
       "    <tr>\n",
       "      <th>16</th>\n",
       "      <td>Running Time</td>\n",
       "      <td>4.185135e+07</td>\n",
       "      <td>1.206307e+16</td>\n",
       "    </tr>\n",
       "    <tr>\n",
       "      <th>2</th>\n",
       "      <td>Animation</td>\n",
       "      <td>2.985444e+07</td>\n",
       "      <td>8.605128e+15</td>\n",
       "    </tr>\n",
       "    <tr>\n",
       "      <th>1</th>\n",
       "      <td>Adventure</td>\n",
       "      <td>2.635994e+07</td>\n",
       "      <td>7.597886e+15</td>\n",
       "    </tr>\n",
       "    <tr>\n",
       "      <th>3</th>\n",
       "      <td>Budget</td>\n",
       "      <td>2.228253e+07</td>\n",
       "      <td>6.422631e+15</td>\n",
       "    </tr>\n",
       "    <tr>\n",
       "      <th>7</th>\n",
       "      <td>Drama</td>\n",
       "      <td>9.712646e+06</td>\n",
       "      <td>2.799535e+15</td>\n",
       "    </tr>\n",
       "    <tr>\n",
       "      <th>19</th>\n",
       "      <td>Year of Release</td>\n",
       "      <td>7.389869e+06</td>\n",
       "      <td>2.130027e+15</td>\n",
       "    </tr>\n",
       "    <tr>\n",
       "      <th>11</th>\n",
       "      <td>Rating_G</td>\n",
       "      <td>6.674907e+06</td>\n",
       "      <td>1.923949e+15</td>\n",
       "    </tr>\n",
       "    <tr>\n",
       "      <th>9</th>\n",
       "      <td>Fantasy</td>\n",
       "      <td>5.394237e+06</td>\n",
       "      <td>1.554814e+15</td>\n",
       "    </tr>\n",
       "    <tr>\n",
       "      <th>13</th>\n",
       "      <td>Rating_PG-13</td>\n",
       "      <td>-6.621725e+05</td>\n",
       "      <td>-1.908620e+14</td>\n",
       "    </tr>\n",
       "    <tr>\n",
       "      <th>0</th>\n",
       "      <td>Action</td>\n",
       "      <td>-1.839306e+06</td>\n",
       "      <td>-5.301544e+14</td>\n",
       "    </tr>\n",
       "    <tr>\n",
       "      <th>10</th>\n",
       "      <td>Other_Genres</td>\n",
       "      <td>-2.362843e+06</td>\n",
       "      <td>-6.810565e+14</td>\n",
       "    </tr>\n",
       "    <tr>\n",
       "      <th>12</th>\n",
       "      <td>Rating_PG</td>\n",
       "      <td>-4.307268e+06</td>\n",
       "      <td>-1.241510e+15</td>\n",
       "    </tr>\n",
       "    <tr>\n",
       "      <th>18</th>\n",
       "      <td>Thriller</td>\n",
       "      <td>-5.747467e+06</td>\n",
       "      <td>-1.656628e+15</td>\n",
       "    </tr>\n",
       "    <tr>\n",
       "      <th>14</th>\n",
       "      <td>Rating_R</td>\n",
       "      <td>-5.964045e+06</td>\n",
       "      <td>-1.719053e+15</td>\n",
       "    </tr>\n",
       "    <tr>\n",
       "      <th>5</th>\n",
       "      <td>Crime</td>\n",
       "      <td>-6.675981e+06</td>\n",
       "      <td>-1.924259e+15</td>\n",
       "    </tr>\n",
       "    <tr>\n",
       "      <th>17</th>\n",
       "      <td>Science fiction</td>\n",
       "      <td>-1.556200e+07</td>\n",
       "      <td>-4.485529e+15</td>\n",
       "    </tr>\n",
       "  </tbody>\n",
       "</table>\n",
       "</div>"
      ],
      "text/plain": [
       "             Feature      st_coeff         coeff\n",
       "6   Domestic Opening  1.999996e+08  5.764710e+16\n",
       "16      Running Time  4.185135e+07  1.206307e+16\n",
       "2          Animation  2.985444e+07  8.605128e+15\n",
       "1          Adventure  2.635994e+07  7.597886e+15\n",
       "3             Budget  2.228253e+07  6.422631e+15\n",
       "7              Drama  9.712646e+06  2.799535e+15\n",
       "19   Year of Release  7.389869e+06  2.130027e+15\n",
       "11          Rating_G  6.674907e+06  1.923949e+15\n",
       "9            Fantasy  5.394237e+06  1.554814e+15\n",
       "13      Rating_PG-13 -6.621725e+05 -1.908620e+14\n",
       "0             Action -1.839306e+06 -5.301544e+14\n",
       "10      Other_Genres -2.362843e+06 -6.810565e+14\n",
       "12         Rating_PG -4.307268e+06 -1.241510e+15\n",
       "18          Thriller -5.747467e+06 -1.656628e+15\n",
       "14          Rating_R -5.964045e+06 -1.719053e+15\n",
       "5              Crime -6.675981e+06 -1.924259e+15\n",
       "17   Science fiction -1.556200e+07 -4.485529e+15"
      ]
     },
     "execution_count": 113,
     "metadata": {},
     "output_type": "execute_result"
    }
   ],
   "source": [
    "coeff_df"
   ]
  },
  {
   "cell_type": "code",
   "execution_count": null,
   "id": "24e239e9",
   "metadata": {},
   "outputs": [],
   "source": []
  },
  {
   "cell_type": "code",
   "execution_count": 107,
   "id": "018cb1e2",
   "metadata": {},
   "outputs": [],
   "source": [
    "coeff_df = coeff_df[coeff_df['st_coeff'] != 0]"
   ]
  },
  {
   "cell_type": "code",
   "execution_count": 108,
   "id": "4cc98679",
   "metadata": {},
   "outputs": [],
   "source": [
    "coeff_df.sort_values(by = 'st_coeff', ascending = False, inplace = True)"
   ]
  },
  {
   "cell_type": "code",
   "execution_count": 109,
   "id": "438b4cc6",
   "metadata": {},
   "outputs": [
    {
     "data": {
      "text/plain": [
       "<AxesSubplot:xlabel='Feature', ylabel='st_coeff'>"
      ]
     },
     "execution_count": 109,
     "metadata": {},
     "output_type": "execute_result"
    },
    {
     "data": {
      "image/png": "[encoded data removed]",
      "text/plain": [
       "<Figure size 432x288 with 1 Axes>"
      ]
     },
     "metadata": {},
     "output_type": "display_data"
    }
   ],
   "source": [
    "sns.barplot(x=coeff_df['Feature'], y=coeff_df['st_coeff'])"
   ]
  },
  {
   "cell_type": "code",
   "execution_count": 130,
   "id": "9f5f1180",
   "metadata": {
    "scrolled": true
   },
   "outputs": [
    {
     "data": {
      "image/png": "[encoded data removed]",
      "text/plain": [
       "<Figure size 1152x360 with 1 Axes>"
      ]
     },
     "metadata": {},
     "output_type": "display_data"
    }
   ],
   "source": [
    "plt.figure(1,figsize=(16,5))\n",
    "fig = sns.barplot(x=coeff_df['st_coeff'], y=coeff_df['Feature'], palette=\"vlag\")\n",
    "fig.set(xlabel='Standardized Regression Coefficients',ylabel = '', \n",
    "        title = 'Change in prediction of original release worldwide gross \\\n",
    "based on change of 1 standard deviation of feature')\n",
    "plt.savefig('coefficients.png')"
   ]
  },
  {
   "cell_type": "code",
   "execution_count": 118,
   "id": "0e97163f",
   "metadata": {},
   "outputs": [
    {
     "data": {
      "text/plain": [
       "[Text(0.5, 0, 'Change in '),\n",
       " Text(0, 0.5, ''),\n",
       " Text(0.5, 1.0, 'Change in prediction of original release worldwide gross based on change of 1 standard deviation of feature')]"
      ]
     },
     "execution_count": 118,
     "metadata": {},
     "output_type": "execute_result"
    },
    {
     "data": {
      "image/png": "[encoded data removed]",
      "text/plain": [
       "<Figure size 1152x360 with 1 Axes>"
      ]
     },
     "metadata": {},
     "output_type": "display_data"
    }
   ],
   "source": [
    "plt.figure(1,figsize=(16,5))\n",
    "fig = sns.barplot(x=coeff_df['coeff'], y=coeff_df['Feature'], palette=\"vlag\")\n",
    "fig.set(xlabel='Change in ',ylabel = '', title = 'Change in prediction of original release worldwide \\\n",
    "                                                    gross based on change of 1 standard deviation of feature')"
   ]
  },
  {
   "cell_type": "code",
   "execution_count": null,
   "id": "29e5c283",
   "metadata": {},
   "outputs": [],
   "source": []
  },
  {
   "cell_type": "code",
   "execution_count": 117,
   "id": "feab618c",
   "metadata": {},
   "outputs": [],
   "source": [
    "def get_real_coefficients(row):\n",
    "    row['real_coeff'] = row['coeff'] / df[row['Feature']].std()\n",
    "    return row"
   ]
  },
  {
   "cell_type": "code",
   "execution_count": 120,
   "id": "fbaf4aa7",
   "metadata": {},
   "outputs": [
    {
     "data": {
      "text/html": [
       "<div>\n",
       "<style scoped>\n",
       "    .dataframe tbody tr th:only-of-type {\n",
       "        vertical-align: middle;\n",
       "    }\n",
       "\n",
       "    .dataframe tbody tr th {\n",
       "        vertical-align: top;\n",
       "    }\n",
       "\n",
       "    .dataframe thead th {\n",
       "        text-align: right;\n",
       "    }\n",
       "</style>\n",
       "<table border=\"1\" class=\"dataframe\">\n",
       "  <thead>\n",
       "    <tr style=\"text-align: right;\">\n",
       "      <th></th>\n",
       "      <th>Feature</th>\n",
       "      <th>st_coeff</th>\n",
       "      <th>coeff</th>\n",
       "      <th>real_coeff</th>\n",
       "    </tr>\n",
       "  </thead>\n",
       "  <tbody>\n",
       "    <tr>\n",
       "      <th>6</th>\n",
       "      <td>Domestic Opening</td>\n",
       "      <td>1.999996e+08</td>\n",
       "      <td>5.764710e+16</td>\n",
       "      <td>1.622230e+09</td>\n",
       "    </tr>\n",
       "    <tr>\n",
       "      <th>16</th>\n",
       "      <td>Running Time</td>\n",
       "      <td>4.185135e+07</td>\n",
       "      <td>1.206307e+16</td>\n",
       "      <td>5.774105e+14</td>\n",
       "    </tr>\n",
       "    <tr>\n",
       "      <th>2</th>\n",
       "      <td>Animation</td>\n",
       "      <td>2.985444e+07</td>\n",
       "      <td>8.605128e+15</td>\n",
       "      <td>2.425172e+16</td>\n",
       "    </tr>\n",
       "    <tr>\n",
       "      <th>1</th>\n",
       "      <td>Adventure</td>\n",
       "      <td>2.635994e+07</td>\n",
       "      <td>7.597886e+15</td>\n",
       "      <td>1.518860e+16</td>\n",
       "    </tr>\n",
       "    <tr>\n",
       "      <th>3</th>\n",
       "      <td>Budget</td>\n",
       "      <td>2.228253e+07</td>\n",
       "      <td>6.422631e+15</td>\n",
       "      <td>1.072598e+08</td>\n",
       "    </tr>\n",
       "    <tr>\n",
       "      <th>7</th>\n",
       "      <td>Drama</td>\n",
       "      <td>9.712646e+06</td>\n",
       "      <td>2.799535e+15</td>\n",
       "      <td>5.967462e+15</td>\n",
       "    </tr>\n",
       "    <tr>\n",
       "      <th>19</th>\n",
       "      <td>Year of Release</td>\n",
       "      <td>7.389869e+06</td>\n",
       "      <td>2.130027e+15</td>\n",
       "      <td>2.517847e+14</td>\n",
       "    </tr>\n",
       "    <tr>\n",
       "      <th>11</th>\n",
       "      <td>Rating_G</td>\n",
       "      <td>6.674907e+06</td>\n",
       "      <td>1.923949e+15</td>\n",
       "      <td>1.651114e+16</td>\n",
       "    </tr>\n",
       "    <tr>\n",
       "      <th>9</th>\n",
       "      <td>Fantasy</td>\n",
       "      <td>5.394237e+06</td>\n",
       "      <td>1.554814e+15</td>\n",
       "      <td>3.526127e+15</td>\n",
       "    </tr>\n",
       "    <tr>\n",
       "      <th>13</th>\n",
       "      <td>Rating_PG-13</td>\n",
       "      <td>-6.621725e+05</td>\n",
       "      <td>-1.908620e+14</td>\n",
       "      <td>-3.818722e+14</td>\n",
       "    </tr>\n",
       "    <tr>\n",
       "      <th>0</th>\n",
       "      <td>Action</td>\n",
       "      <td>-1.839306e+06</td>\n",
       "      <td>-5.301544e+14</td>\n",
       "      <td>-1.060296e+15</td>\n",
       "    </tr>\n",
       "    <tr>\n",
       "      <th>10</th>\n",
       "      <td>Other_Genres</td>\n",
       "      <td>-2.362843e+06</td>\n",
       "      <td>-6.810565e+14</td>\n",
       "      <td>-1.528663e+15</td>\n",
       "    </tr>\n",
       "    <tr>\n",
       "      <th>12</th>\n",
       "      <td>Rating_PG</td>\n",
       "      <td>-4.307268e+06</td>\n",
       "      <td>-1.241510e+15</td>\n",
       "      <td>-3.052872e+15</td>\n",
       "    </tr>\n",
       "    <tr>\n",
       "      <th>18</th>\n",
       "      <td>Thriller</td>\n",
       "      <td>-5.747467e+06</td>\n",
       "      <td>-1.656628e+15</td>\n",
       "      <td>-3.707814e+15</td>\n",
       "    </tr>\n",
       "    <tr>\n",
       "      <th>14</th>\n",
       "      <td>Rating_R</td>\n",
       "      <td>-5.964045e+06</td>\n",
       "      <td>-1.719053e+15</td>\n",
       "      <td>-4.037067e+15</td>\n",
       "    </tr>\n",
       "    <tr>\n",
       "      <th>5</th>\n",
       "      <td>Crime</td>\n",
       "      <td>-6.675981e+06</td>\n",
       "      <td>-1.924259e+15</td>\n",
       "      <td>-5.584200e+15</td>\n",
       "    </tr>\n",
       "    <tr>\n",
       "      <th>17</th>\n",
       "      <td>Science fiction</td>\n",
       "      <td>-1.556200e+07</td>\n",
       "      <td>-4.485529e+15</td>\n",
       "      <td>-1.014199e+16</td>\n",
       "    </tr>\n",
       "  </tbody>\n",
       "</table>\n",
       "</div>"
      ],
      "text/plain": [
       "             Feature      st_coeff         coeff    real_coeff\n",
       "6   Domestic Opening  1.999996e+08  5.764710e+16  1.622230e+09\n",
       "16      Running Time  4.185135e+07  1.206307e+16  5.774105e+14\n",
       "2          Animation  2.985444e+07  8.605128e+15  2.425172e+16\n",
       "1          Adventure  2.635994e+07  7.597886e+15  1.518860e+16\n",
       "3             Budget  2.228253e+07  6.422631e+15  1.072598e+08\n",
       "7              Drama  9.712646e+06  2.799535e+15  5.967462e+15\n",
       "19   Year of Release  7.389869e+06  2.130027e+15  2.517847e+14\n",
       "11          Rating_G  6.674907e+06  1.923949e+15  1.651114e+16\n",
       "9            Fantasy  5.394237e+06  1.554814e+15  3.526127e+15\n",
       "13      Rating_PG-13 -6.621725e+05 -1.908620e+14 -3.818722e+14\n",
       "0             Action -1.839306e+06 -5.301544e+14 -1.060296e+15\n",
       "10      Other_Genres -2.362843e+06 -6.810565e+14 -1.528663e+15\n",
       "12         Rating_PG -4.307268e+06 -1.241510e+15 -3.052872e+15\n",
       "18          Thriller -5.747467e+06 -1.656628e+15 -3.707814e+15\n",
       "14          Rating_R -5.964045e+06 -1.719053e+15 -4.037067e+15\n",
       "5              Crime -6.675981e+06 -1.924259e+15 -5.584200e+15\n",
       "17   Science fiction -1.556200e+07 -4.485529e+15 -1.014199e+16"
      ]
     },
     "execution_count": 120,
     "metadata": {},
     "output_type": "execute_result"
    }
   ],
   "source": [
    "coeff_df.apply(get_real_coefficients, axis = 1)"
   ]
  },
  {
   "cell_type": "code",
   "execution_count": null,
   "id": "7fbdb55a",
   "metadata": {},
   "outputs": [],
   "source": []
  }
 ],
 "metadata": {
  "kernelspec": {
   "display_name": "Python [conda env:metis] *",
   "language": "python",
   "name": "conda-env-metis-py"
  },
  "language_info": {
   "codemirror_mode": {
    "name": "ipython",
    "version": 3
   },
   "file_extension": ".py",
   "mimetype": "text/x-python",
   "name": "python",
   "nbconvert_exporter": "python",
   "pygments_lexer": "ipython3",
   "version": "3.8.10"
  }
 },
 "nbformat": 4,
 "nbformat_minor": 5
}
